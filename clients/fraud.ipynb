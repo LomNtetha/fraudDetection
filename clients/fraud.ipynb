{
 "cells": [
  {
   "cell_type": "code",
   "execution_count": 1,
   "id": "406cb480",
   "metadata": {},
   "outputs": [
    {
     "name": "stdout",
     "output_type": "stream",
     "text": [
      "WARN: OMP_NUM_THREADS=None =>\n",
      "... If you are using openblas if you are using openblas set OMP_NUM_THREADS=1 or risk subprocess calls hanging indefinitely\n"
     ]
    }
   ],
   "source": [
    "import pandas as pd\n",
    "import numpy as np\n",
    "import matplotlib.pyplot as plt\n",
    "import seaborn as sns\n",
    "import time\n",
    "from pandasql import sqldf\n",
    "from imblearn.over_sampling import SMOTE\n",
    "import scipy.stats as stats\n",
    "from tabulate import tabulate\n",
    "from xgboost import XGBClassifier\n",
    "from xgboost import plot_tree\n",
    "from xgboost import plot_importance\n",
    "\n",
    "# import packages for hyperparameters tuning\n",
    "from hyperopt import STATUS_OK, Trials, fmin, hp, tpe\n",
    "import hyperopt.pyll\n",
    "from hyperopt.pyll import scope\n",
    "from hpsklearn import HyperoptEstimator\n",
    "\n",
    "from sklearn.tree import DecisionTreeClassifier\n",
    "from sklearn.tree import plot_tree\n",
    "from sklearn.ensemble import RandomForestClassifier\n",
    "from sklearn.ensemble import AdaBoostClassifier\n",
    "from sklearn.model_selection import train_test_split\n",
    "from sklearn.model_selection import cross_val_score\n",
    "from sklearn.model_selection import cross_validate\n",
    "from sklearn.model_selection import RepeatedStratifiedKFold\n",
    "from sklearn.model_selection import GridSearchCV\n",
    "from sklearn import metrics\n",
    "\n",
    "from category_encoders.ordinal import OrdinalEncoder\n",
    "from category_encoders.binary import BinaryEncoder\n",
    "from category_encoders.one_hot import OneHotEncoder\n"
   ]
  },
  {
   "cell_type": "code",
   "execution_count": 2,
   "id": "8ba95037",
   "metadata": {},
   "outputs": [
    {
     "name": "stdout",
     "output_type": "stream",
     "text": [
      "The data constain  15420  observations.\n"
     ]
    },
    {
     "data": {
      "text/html": [
       "<div>\n",
       "<style scoped>\n",
       "    .dataframe tbody tr th:only-of-type {\n",
       "        vertical-align: middle;\n",
       "    }\n",
       "\n",
       "    .dataframe tbody tr th {\n",
       "        vertical-align: top;\n",
       "    }\n",
       "\n",
       "    .dataframe thead th {\n",
       "        text-align: right;\n",
       "    }\n",
       "</style>\n",
       "<table border=\"1\" class=\"dataframe\">\n",
       "  <thead>\n",
       "    <tr style=\"text-align: right;\">\n",
       "      <th></th>\n",
       "      <th>Month</th>\n",
       "      <th>WeekOfMonth</th>\n",
       "      <th>DayOfWeek</th>\n",
       "      <th>Make</th>\n",
       "      <th>AccidentArea</th>\n",
       "      <th>DayOfWeekClaimed</th>\n",
       "      <th>MonthClaimed</th>\n",
       "      <th>WeekOfMonthClaimed</th>\n",
       "      <th>Sex</th>\n",
       "      <th>MaritalStatus</th>\n",
       "      <th>...</th>\n",
       "      <th>AgeOfVehicle</th>\n",
       "      <th>AgeOfPolicyHolder</th>\n",
       "      <th>PoliceReportFiled</th>\n",
       "      <th>WitnessPresent</th>\n",
       "      <th>AgentType</th>\n",
       "      <th>NumberOfSuppliments</th>\n",
       "      <th>AddressChange_Claim</th>\n",
       "      <th>NumberOfCars</th>\n",
       "      <th>Year</th>\n",
       "      <th>BasePolicy</th>\n",
       "    </tr>\n",
       "  </thead>\n",
       "  <tbody>\n",
       "    <tr>\n",
       "      <th>0</th>\n",
       "      <td>Dec</td>\n",
       "      <td>5</td>\n",
       "      <td>Wednesday</td>\n",
       "      <td>Honda</td>\n",
       "      <td>Urban</td>\n",
       "      <td>Tuesday</td>\n",
       "      <td>Jan</td>\n",
       "      <td>1</td>\n",
       "      <td>Female</td>\n",
       "      <td>Single</td>\n",
       "      <td>...</td>\n",
       "      <td>3 years</td>\n",
       "      <td>26 to 30</td>\n",
       "      <td>No</td>\n",
       "      <td>No</td>\n",
       "      <td>External</td>\n",
       "      <td>none</td>\n",
       "      <td>1 year</td>\n",
       "      <td>3 to 4</td>\n",
       "      <td>1994</td>\n",
       "      <td>Liability</td>\n",
       "    </tr>\n",
       "    <tr>\n",
       "      <th>1</th>\n",
       "      <td>Jan</td>\n",
       "      <td>3</td>\n",
       "      <td>Wednesday</td>\n",
       "      <td>Honda</td>\n",
       "      <td>Urban</td>\n",
       "      <td>Monday</td>\n",
       "      <td>Jan</td>\n",
       "      <td>4</td>\n",
       "      <td>Male</td>\n",
       "      <td>Single</td>\n",
       "      <td>...</td>\n",
       "      <td>6 years</td>\n",
       "      <td>31 to 35</td>\n",
       "      <td>Yes</td>\n",
       "      <td>No</td>\n",
       "      <td>External</td>\n",
       "      <td>none</td>\n",
       "      <td>no change</td>\n",
       "      <td>1 vehicle</td>\n",
       "      <td>1994</td>\n",
       "      <td>Collision</td>\n",
       "    </tr>\n",
       "    <tr>\n",
       "      <th>2</th>\n",
       "      <td>Oct</td>\n",
       "      <td>5</td>\n",
       "      <td>Friday</td>\n",
       "      <td>Honda</td>\n",
       "      <td>Urban</td>\n",
       "      <td>Thursday</td>\n",
       "      <td>Nov</td>\n",
       "      <td>2</td>\n",
       "      <td>Male</td>\n",
       "      <td>Married</td>\n",
       "      <td>...</td>\n",
       "      <td>7 years</td>\n",
       "      <td>41 to 50</td>\n",
       "      <td>No</td>\n",
       "      <td>No</td>\n",
       "      <td>External</td>\n",
       "      <td>none</td>\n",
       "      <td>no change</td>\n",
       "      <td>1 vehicle</td>\n",
       "      <td>1994</td>\n",
       "      <td>Collision</td>\n",
       "    </tr>\n",
       "    <tr>\n",
       "      <th>3</th>\n",
       "      <td>Jun</td>\n",
       "      <td>2</td>\n",
       "      <td>Saturday</td>\n",
       "      <td>Toyota</td>\n",
       "      <td>Rural</td>\n",
       "      <td>Friday</td>\n",
       "      <td>Jul</td>\n",
       "      <td>1</td>\n",
       "      <td>Male</td>\n",
       "      <td>Married</td>\n",
       "      <td>...</td>\n",
       "      <td>more than 7</td>\n",
       "      <td>51 to 65</td>\n",
       "      <td>Yes</td>\n",
       "      <td>No</td>\n",
       "      <td>External</td>\n",
       "      <td>more than 5</td>\n",
       "      <td>no change</td>\n",
       "      <td>1 vehicle</td>\n",
       "      <td>1994</td>\n",
       "      <td>Liability</td>\n",
       "    </tr>\n",
       "    <tr>\n",
       "      <th>4</th>\n",
       "      <td>Jan</td>\n",
       "      <td>5</td>\n",
       "      <td>Monday</td>\n",
       "      <td>Honda</td>\n",
       "      <td>Urban</td>\n",
       "      <td>Tuesday</td>\n",
       "      <td>Feb</td>\n",
       "      <td>2</td>\n",
       "      <td>Female</td>\n",
       "      <td>Single</td>\n",
       "      <td>...</td>\n",
       "      <td>5 years</td>\n",
       "      <td>31 to 35</td>\n",
       "      <td>No</td>\n",
       "      <td>No</td>\n",
       "      <td>External</td>\n",
       "      <td>none</td>\n",
       "      <td>no change</td>\n",
       "      <td>1 vehicle</td>\n",
       "      <td>1994</td>\n",
       "      <td>Collision</td>\n",
       "    </tr>\n",
       "  </tbody>\n",
       "</table>\n",
       "<p>5 rows × 33 columns</p>\n",
       "</div>"
      ],
      "text/plain": [
       "  Month  WeekOfMonth  DayOfWeek    Make AccidentArea DayOfWeekClaimed  \\\n",
       "0   Dec            5  Wednesday   Honda        Urban          Tuesday   \n",
       "1   Jan            3  Wednesday   Honda        Urban           Monday   \n",
       "2   Oct            5     Friday   Honda        Urban         Thursday   \n",
       "3   Jun            2   Saturday  Toyota        Rural           Friday   \n",
       "4   Jan            5     Monday   Honda        Urban          Tuesday   \n",
       "\n",
       "  MonthClaimed  WeekOfMonthClaimed     Sex MaritalStatus  ...  AgeOfVehicle  \\\n",
       "0          Jan                   1  Female        Single  ...       3 years   \n",
       "1          Jan                   4    Male        Single  ...       6 years   \n",
       "2          Nov                   2    Male       Married  ...       7 years   \n",
       "3          Jul                   1    Male       Married  ...   more than 7   \n",
       "4          Feb                   2  Female        Single  ...       5 years   \n",
       "\n",
       "  AgeOfPolicyHolder PoliceReportFiled WitnessPresent AgentType  \\\n",
       "0          26 to 30                No             No  External   \n",
       "1          31 to 35               Yes             No  External   \n",
       "2          41 to 50                No             No  External   \n",
       "3          51 to 65               Yes             No  External   \n",
       "4          31 to 35                No             No  External   \n",
       "\n",
       "   NumberOfSuppliments  AddressChange_Claim  NumberOfCars  Year  BasePolicy  \n",
       "0                 none               1 year        3 to 4  1994   Liability  \n",
       "1                 none            no change     1 vehicle  1994   Collision  \n",
       "2                 none            no change     1 vehicle  1994   Collision  \n",
       "3          more than 5            no change     1 vehicle  1994   Liability  \n",
       "4                 none            no change     1 vehicle  1994   Collision  \n",
       "\n",
       "[5 rows x 33 columns]"
      ]
     },
     "execution_count": 2,
     "metadata": {},
     "output_type": "execute_result"
    }
   ],
   "source": [
    "df = pd.read_csv(r\"c:\\Users\\lumkile\\Desktop\\Django\\thariauth\\clients\\fraud_oracle.csv\")\n",
    "\n",
    "print('The data constain ', len(df),' observations.')\n",
    "df.head()"
   ]
  },
  {
   "cell_type": "code",
   "execution_count": 3,
   "id": "5e18e1c4",
   "metadata": {},
   "outputs": [
    {
     "data": {
      "text/plain": [
       "Month                   object\n",
       "WeekOfMonth              int64\n",
       "DayOfWeek               object\n",
       "Make                    object\n",
       "AccidentArea            object\n",
       "DayOfWeekClaimed        object\n",
       "MonthClaimed            object\n",
       "WeekOfMonthClaimed       int64\n",
       "Sex                     object\n",
       "MaritalStatus           object\n",
       "Age                      int64\n",
       "Fault                   object\n",
       "PolicyType              object\n",
       "VehicleCategory         object\n",
       "VehiclePrice            object\n",
       "FraudFound_P             int64\n",
       "PolicyNumber             int64\n",
       "RepNumber                int64\n",
       "Deductible               int64\n",
       "DriverRating             int64\n",
       "Days_Policy_Accident    object\n",
       "Days_Policy_Claim       object\n",
       "PastNumberOfClaims      object\n",
       "AgeOfVehicle            object\n",
       "AgeOfPolicyHolder       object\n",
       "PoliceReportFiled       object\n",
       "WitnessPresent          object\n",
       "AgentType               object\n",
       "NumberOfSuppliments     object\n",
       "AddressChange_Claim     object\n",
       "NumberOfCars            object\n",
       "Year                     int64\n",
       "BasePolicy              object\n",
       "dtype: object"
      ]
     },
     "execution_count": 3,
     "metadata": {},
     "output_type": "execute_result"
    }
   ],
   "source": [
    "df.dtypes"
   ]
  },
  {
   "cell_type": "code",
   "execution_count": 4,
   "id": "5806aa12",
   "metadata": {},
   "outputs": [
    {
     "name": "stdout",
     "output_type": "stream",
     "text": [
      "Month ['Dec' 'Jan' 'Oct' 'Jun' 'Feb' 'Nov' 'Apr' 'Mar' 'Aug' 'Jul' 'May' 'Sep']\n",
      "WeekOfMonth [5 3 2 4 1]\n",
      "DayOfWeek ['Wednesday' 'Friday' 'Saturday' 'Monday' 'Tuesday' 'Sunday' 'Thursday']\n",
      "Make ['Honda' 'Toyota' 'Ford' 'Mazda' 'Chevrolet' 'Pontiac' 'Accura' 'Dodge'\n",
      " 'Mercury' 'Jaguar' 'Nisson' 'VW' 'Saab' 'Saturn' 'Porche' 'BMW' 'Mecedes'\n",
      " 'Ferrari' 'Lexus']\n",
      "AccidentArea ['Urban' 'Rural']\n",
      "DayOfWeekClaimed ['Tuesday' 'Monday' 'Thursday' 'Friday' 'Wednesday' 'Saturday' 'Sunday'\n",
      " '0']\n",
      "MonthClaimed ['Jan' 'Nov' 'Jul' 'Feb' 'Mar' 'Dec' 'Apr' 'Aug' 'May' 'Jun' 'Sep' 'Oct'\n",
      " '0']\n",
      "WeekOfMonthClaimed [1 4 2 3 5]\n",
      "Sex ['Female' 'Male']\n",
      "MaritalStatus ['Single' 'Married' 'Widow' 'Divorced']\n",
      "Age [21 34 47 65 27 20 36  0 30 42 71 52 28 61 38 41 32 40 63 31 45 60 39 55\n",
      " 35 44 72 29 37 59 49 50 26 48 64 33 74 23 25 56 16 68 18 51 22 53 46 43\n",
      " 57 54 69 67 19 78 77 75 80 58 73 24 76 62 79 70 17 66]\n",
      "Fault ['Policy Holder' 'Third Party']\n",
      "PolicyType ['Sport - Liability' 'Sport - Collision' 'Sedan - Liability'\n",
      " 'Utility - All Perils' 'Sedan - All Perils' 'Sedan - Collision'\n",
      " 'Utility - Collision' 'Utility - Liability' 'Sport - All Perils']\n",
      "VehicleCategory ['Sport' 'Utility' 'Sedan']\n",
      "VehiclePrice ['more than 69000' '20000 to 29000' '30000 to 39000' 'less than 20000'\n",
      " '40000 to 59000' '60000 to 69000']\n",
      "FraudFound_P [0 1]\n",
      "PolicyNumber [    1     2     3 ... 15418 15419 15420]\n",
      "RepNumber [12 15  7  4  3 14  1 13 11 16  6  2  8  5  9 10]\n",
      "Deductible [300 400 500 700]\n",
      "DriverRating [1 4 3 2]\n",
      "Days_Policy_Accident ['more than 30' '15 to 30' 'none' '1 to 7' '8 to 15']\n",
      "Days_Policy_Claim ['more than 30' '15 to 30' '8 to 15' 'none']\n",
      "PastNumberOfClaims ['none' '1' '2 to 4' 'more than 4']\n",
      "AgeOfVehicle ['3 years' '6 years' '7 years' 'more than 7' '5 years' 'new' '4 years'\n",
      " '2 years']\n",
      "AgeOfPolicyHolder ['26 to 30' '31 to 35' '41 to 50' '51 to 65' '21 to 25' '36 to 40'\n",
      " '16 to 17' 'over 65' '18 to 20']\n",
      "PoliceReportFiled ['No' 'Yes']\n",
      "WitnessPresent ['No' 'Yes']\n",
      "AgentType ['External' 'Internal']\n",
      "NumberOfSuppliments ['none' 'more than 5' '3 to 5' '1 to 2']\n",
      "AddressChange_Claim ['1 year' 'no change' '4 to 8 years' '2 to 3 years' 'under 6 months']\n",
      "NumberOfCars ['3 to 4' '1 vehicle' '2 vehicles' '5 to 8' 'more than 8']\n",
      "Year [1994 1995 1996]\n",
      "BasePolicy ['Liability' 'Collision' 'All Perils']\n"
     ]
    }
   ],
   "source": [
    "#Tried using the loop below to check for unique values, it appears that all features are being \n",
    "#interpreted as series data. Haven't figured out how to pull values from series. \n",
    "#I resorted to printing each individually and inspecting the results.\n",
    "\n",
    "#for i in df.columns:\n",
    "#    print(i)\n",
    "#    print(' ')\n",
    "#    print('Unique values of {}'.format(i), df[str(i)].unique)\n",
    "    \n",
    "print('Month',df['Month'].unique())\n",
    "print('WeekOfMonth',df['WeekOfMonth'].unique())\n",
    "print('DayOfWeek',df['DayOfWeek'].unique())\n",
    "print('Make',df['Make'].unique())\n",
    "print('AccidentArea',df['AccidentArea'].unique())\n",
    "print('DayOfWeekClaimed',df['DayOfWeekClaimed'].unique())\n",
    "print('MonthClaimed',df['MonthClaimed'].unique())\n",
    "print('WeekOfMonthClaimed',df['WeekOfMonthClaimed'].unique())\n",
    "print('Sex',df['Sex'].unique())\n",
    "print('MaritalStatus',df['MaritalStatus'].unique())\n",
    "print('Age',df['Age'].unique())\n",
    "print('Fault',df['Fault'].unique())\n",
    "print('PolicyType',df['PolicyType'].unique())\n",
    "print('VehicleCategory',df['VehicleCategory'].unique())\n",
    "print('VehiclePrice',df['VehiclePrice'].unique())\n",
    "print('FraudFound_P',df['FraudFound_P'].unique())\n",
    "print('PolicyNumber',df['PolicyNumber'].unique())\n",
    "print('RepNumber',df['RepNumber'].unique())\n",
    "print('Deductible',df['Deductible'].unique())\n",
    "print('DriverRating',df['DriverRating'].unique())\n",
    "print('Days_Policy_Accident', df['Days_Policy_Accident'].unique())\n",
    "print('Days_Policy_Claim',df['Days_Policy_Claim'].unique())\n",
    "print('PastNumberOfClaims',df['PastNumberOfClaims'].unique())\n",
    "print('AgeOfVehicle',df['AgeOfVehicle'].unique())\n",
    "print('AgeOfPolicyHolder',df['AgeOfPolicyHolder'].unique())\n",
    "print('PoliceReportFiled',df['PoliceReportFiled'].unique())\n",
    "print('WitnessPresent',df['WitnessPresent'].unique())\n",
    "print('AgentType',df['AgentType'].unique())\n",
    "print('NumberOfSuppliments',df['NumberOfSuppliments'].unique())\n",
    "print('AddressChange_Claim',df['AddressChange_Claim'].unique())\n",
    "print('NumberOfCars',df['NumberOfCars'].unique())\n",
    "print('Year',df['Year'].unique())\n",
    "print('BasePolicy',df['BasePolicy'].unique())"
   ]
  },
  {
   "cell_type": "code",
   "execution_count": 5,
   "id": "6f31f2c9",
   "metadata": {},
   "outputs": [
    {
     "name": "stdout",
     "output_type": "stream",
     "text": [
      "      Month  WeekOfMonth  DayOfWeek     Make AccidentArea DayOfWeekClaimed  \\\n",
      "0       Dec            5  Wednesday    Honda        Urban          Tuesday   \n",
      "1       Jan            3  Wednesday    Honda        Urban           Monday   \n",
      "2       Oct            5     Friday    Honda        Urban         Thursday   \n",
      "3       Jun            2   Saturday   Toyota        Rural           Friday   \n",
      "4       Jan            5     Monday    Honda        Urban          Tuesday   \n",
      "...     ...          ...        ...      ...          ...              ...   \n",
      "15415   Nov            4     Friday   Toyota        Urban          Tuesday   \n",
      "15416   Nov            5   Thursday  Pontiac        Urban           Friday   \n",
      "15417   Nov            5   Thursday   Toyota        Rural           Friday   \n",
      "15418   Dec            1     Monday   Toyota        Urban         Thursday   \n",
      "15419   Dec            2  Wednesday   Toyota        Urban         Thursday   \n",
      "\n",
      "      MonthClaimed  WeekOfMonthClaimed     Sex MaritalStatus  ...  \\\n",
      "0              Jan                   1  Female        Single  ...   \n",
      "1              Jan                   4    Male        Single  ...   \n",
      "2              Nov                   2    Male       Married  ...   \n",
      "3              Jul                   1    Male       Married  ...   \n",
      "4              Feb                   2  Female        Single  ...   \n",
      "...            ...                 ...     ...           ...  ...   \n",
      "15415          Nov                   5    Male       Married  ...   \n",
      "15416          Dec                   1    Male       Married  ...   \n",
      "15417          Dec                   1    Male        Single  ...   \n",
      "15418          Dec                   2  Female       Married  ...   \n",
      "15419          Dec                   3    Male        Single  ...   \n",
      "\n",
      "       AgeOfVehicle AgeOfPolicyHolder PoliceReportFiled WitnessPresent  \\\n",
      "0           3 years          26 to 30                No             No   \n",
      "1           6 years          31 to 35               Yes             No   \n",
      "2           7 years          41 to 50                No             No   \n",
      "3       more than 7          51 to 65               Yes             No   \n",
      "4           5 years          31 to 35                No             No   \n",
      "...             ...               ...               ...            ...   \n",
      "15415       6 years          31 to 35                No             No   \n",
      "15416       6 years          31 to 35                No             No   \n",
      "15417       5 years          26 to 30                No             No   \n",
      "15418       2 years          31 to 35                No             No   \n",
      "15419       5 years          26 to 30                No             No   \n",
      "\n",
      "      AgentType  NumberOfSuppliments  AddressChange_Claim  NumberOfCars  Year  \\\n",
      "0      External                 none               1 year        3 to 4  1994   \n",
      "1      External                 none            no change     1 vehicle  1994   \n",
      "2      External                 none            no change     1 vehicle  1994   \n",
      "3      External          more than 5            no change     1 vehicle  1994   \n",
      "4      External                 none            no change     1 vehicle  1994   \n",
      "...         ...                  ...                  ...           ...   ...   \n",
      "15415  External                 none            no change     1 vehicle  1996   \n",
      "15416  External          more than 5            no change        3 to 4  1996   \n",
      "15417  External               1 to 2            no change     1 vehicle  1996   \n",
      "15418  External          more than 5            no change     1 vehicle  1996   \n",
      "15419  External               1 to 2            no change     1 vehicle  1996   \n",
      "\n",
      "       BasePolicy  \n",
      "0       Liability  \n",
      "1       Collision  \n",
      "2       Collision  \n",
      "3       Liability  \n",
      "4       Collision  \n",
      "...           ...  \n",
      "15415   Collision  \n",
      "15416   Liability  \n",
      "15417   Collision  \n",
      "15418  All Perils  \n",
      "15419   Collision  \n",
      "\n",
      "[15420 rows x 33 columns]\n"
     ]
    }
   ],
   "source": [
    "\n",
    "print(df)"
   ]
  },
  {
   "cell_type": "code",
   "execution_count": 6,
   "id": "3d1a569a",
   "metadata": {},
   "outputs": [
    {
     "data": {
      "text/plain": [
       "['Month',\n",
       " 'WeekOfMonth',\n",
       " 'DayOfWeek',\n",
       " 'Make',\n",
       " 'AccidentArea',\n",
       " 'DayOfWeekClaimed',\n",
       " 'MonthClaimed',\n",
       " 'WeekOfMonthClaimed',\n",
       " 'Sex',\n",
       " 'MaritalStatus',\n",
       " 'Age',\n",
       " 'Fault',\n",
       " 'PolicyType',\n",
       " 'VehicleCategory',\n",
       " 'VehiclePrice',\n",
       " 'FraudFound_P',\n",
       " 'PolicyNumber',\n",
       " 'RepNumber',\n",
       " 'Deductible',\n",
       " 'DriverRating',\n",
       " 'Days_Policy_Accident',\n",
       " 'Days_Policy_Claim',\n",
       " 'PastNumberOfClaims',\n",
       " 'AgeOfVehicle',\n",
       " 'AgeOfPolicyHolder',\n",
       " 'PoliceReportFiled',\n",
       " 'WitnessPresent',\n",
       " 'AgentType',\n",
       " 'NumberOfSuppliments',\n",
       " 'AddressChange_Claim',\n",
       " 'NumberOfCars',\n",
       " 'Year',\n",
       " 'BasePolicy']"
      ]
     },
     "execution_count": 6,
     "metadata": {},
     "output_type": "execute_result"
    }
   ],
   "source": [
    "titles=list(df.columns)\n",
    "titles"
   ]
  },
  {
   "cell_type": "code",
   "execution_count": 7,
   "id": "d6ea2cab",
   "metadata": {},
   "outputs": [
    {
     "data": {
      "text/plain": [
       "['Month',\n",
       " 'WeekOfMonth',\n",
       " 'DayOfWeek',\n",
       " 'Make',\n",
       " 'AccidentArea',\n",
       " 'DayOfWeekClaimed',\n",
       " 'MonthClaimed',\n",
       " 'WeekOfMonthClaimed',\n",
       " 'Sex',\n",
       " 'MaritalStatus',\n",
       " 'Age',\n",
       " 'Fault',\n",
       " 'PolicyType',\n",
       " 'VehicleCategory',\n",
       " 'VehiclePrice',\n",
       " 'BasePolicy',\n",
       " 'PolicyNumber',\n",
       " 'RepNumber',\n",
       " 'Deductible',\n",
       " 'DriverRating',\n",
       " 'Days_Policy_Accident',\n",
       " 'Days_Policy_Claim',\n",
       " 'PastNumberOfClaims',\n",
       " 'AgeOfVehicle',\n",
       " 'AgeOfPolicyHolder',\n",
       " 'PoliceReportFiled',\n",
       " 'WitnessPresent',\n",
       " 'AgentType',\n",
       " 'NumberOfSuppliments',\n",
       " 'AddressChange_Claim',\n",
       " 'NumberOfCars',\n",
       " 'Year',\n",
       " 'FraudFound_P']"
      ]
     },
     "execution_count": 7,
     "metadata": {},
     "output_type": "execute_result"
    }
   ],
   "source": [
    "titles[15],titles[32]=titles[32],titles[15]\n",
    "titles"
   ]
  },
  {
   "cell_type": "code",
   "execution_count": 8,
   "id": "c783e11d",
   "metadata": {},
   "outputs": [
    {
     "data": {
      "text/plain": [
       "Month                   object\n",
       "WeekOfMonth              int64\n",
       "DayOfWeek               object\n",
       "Make                    object\n",
       "AccidentArea            object\n",
       "DayOfWeekClaimed        object\n",
       "MonthClaimed            object\n",
       "WeekOfMonthClaimed       int64\n",
       "Sex                     object\n",
       "MaritalStatus           object\n",
       "Age                      int64\n",
       "Fault                   object\n",
       "PolicyType              object\n",
       "VehicleCategory         object\n",
       "VehiclePrice            object\n",
       "FraudFound_P             int64\n",
       "PolicyNumber             int64\n",
       "RepNumber                int64\n",
       "Deductible               int64\n",
       "DriverRating             int64\n",
       "Days_Policy_Accident    object\n",
       "Days_Policy_Claim       object\n",
       "PastNumberOfClaims      object\n",
       "AgeOfVehicle            object\n",
       "AgeOfPolicyHolder       object\n",
       "PoliceReportFiled       object\n",
       "WitnessPresent          object\n",
       "AgentType               object\n",
       "NumberOfSuppliments     object\n",
       "AddressChange_Claim     object\n",
       "NumberOfCars            object\n",
       "Year                     int64\n",
       "BasePolicy              object\n",
       "dtype: object"
      ]
     },
     "execution_count": 8,
     "metadata": {},
     "output_type": "execute_result"
    }
   ],
   "source": [
    "df.dtypes"
   ]
  },
  {
   "cell_type": "code",
   "execution_count": 9,
   "id": "fa7f736f",
   "metadata": {},
   "outputs": [
    {
     "data": {
      "text/html": [
       "<div>\n",
       "<style scoped>\n",
       "    .dataframe tbody tr th:only-of-type {\n",
       "        vertical-align: middle;\n",
       "    }\n",
       "\n",
       "    .dataframe tbody tr th {\n",
       "        vertical-align: top;\n",
       "    }\n",
       "\n",
       "    .dataframe thead th {\n",
       "        text-align: right;\n",
       "    }\n",
       "</style>\n",
       "<table border=\"1\" class=\"dataframe\">\n",
       "  <thead>\n",
       "    <tr style=\"text-align: right;\">\n",
       "      <th></th>\n",
       "      <th>Month</th>\n",
       "      <th>WeekOfMonth</th>\n",
       "      <th>DayOfWeek</th>\n",
       "      <th>Make</th>\n",
       "      <th>AccidentArea</th>\n",
       "      <th>DayOfWeekClaimed</th>\n",
       "      <th>MonthClaimed</th>\n",
       "      <th>WeekOfMonthClaimed</th>\n",
       "      <th>Sex</th>\n",
       "      <th>MaritalStatus</th>\n",
       "      <th>...</th>\n",
       "      <th>AgeOfVehicle</th>\n",
       "      <th>AgeOfPolicyHolder</th>\n",
       "      <th>PoliceReportFiled</th>\n",
       "      <th>WitnessPresent</th>\n",
       "      <th>AgentType</th>\n",
       "      <th>NumberOfSuppliments</th>\n",
       "      <th>AddressChange_Claim</th>\n",
       "      <th>NumberOfCars</th>\n",
       "      <th>Year</th>\n",
       "      <th>FraudFound_P</th>\n",
       "    </tr>\n",
       "  </thead>\n",
       "  <tbody>\n",
       "    <tr>\n",
       "      <th>0</th>\n",
       "      <td>Dec</td>\n",
       "      <td>5</td>\n",
       "      <td>Wednesday</td>\n",
       "      <td>Honda</td>\n",
       "      <td>Urban</td>\n",
       "      <td>Tuesday</td>\n",
       "      <td>Jan</td>\n",
       "      <td>1</td>\n",
       "      <td>Female</td>\n",
       "      <td>Single</td>\n",
       "      <td>...</td>\n",
       "      <td>3 years</td>\n",
       "      <td>26 to 30</td>\n",
       "      <td>No</td>\n",
       "      <td>No</td>\n",
       "      <td>External</td>\n",
       "      <td>none</td>\n",
       "      <td>1 year</td>\n",
       "      <td>3 to 4</td>\n",
       "      <td>1994</td>\n",
       "      <td>0</td>\n",
       "    </tr>\n",
       "    <tr>\n",
       "      <th>1</th>\n",
       "      <td>Jan</td>\n",
       "      <td>3</td>\n",
       "      <td>Wednesday</td>\n",
       "      <td>Honda</td>\n",
       "      <td>Urban</td>\n",
       "      <td>Monday</td>\n",
       "      <td>Jan</td>\n",
       "      <td>4</td>\n",
       "      <td>Male</td>\n",
       "      <td>Single</td>\n",
       "      <td>...</td>\n",
       "      <td>6 years</td>\n",
       "      <td>31 to 35</td>\n",
       "      <td>Yes</td>\n",
       "      <td>No</td>\n",
       "      <td>External</td>\n",
       "      <td>none</td>\n",
       "      <td>no change</td>\n",
       "      <td>1 vehicle</td>\n",
       "      <td>1994</td>\n",
       "      <td>0</td>\n",
       "    </tr>\n",
       "    <tr>\n",
       "      <th>2</th>\n",
       "      <td>Oct</td>\n",
       "      <td>5</td>\n",
       "      <td>Friday</td>\n",
       "      <td>Honda</td>\n",
       "      <td>Urban</td>\n",
       "      <td>Thursday</td>\n",
       "      <td>Nov</td>\n",
       "      <td>2</td>\n",
       "      <td>Male</td>\n",
       "      <td>Married</td>\n",
       "      <td>...</td>\n",
       "      <td>7 years</td>\n",
       "      <td>41 to 50</td>\n",
       "      <td>No</td>\n",
       "      <td>No</td>\n",
       "      <td>External</td>\n",
       "      <td>none</td>\n",
       "      <td>no change</td>\n",
       "      <td>1 vehicle</td>\n",
       "      <td>1994</td>\n",
       "      <td>0</td>\n",
       "    </tr>\n",
       "    <tr>\n",
       "      <th>3</th>\n",
       "      <td>Jun</td>\n",
       "      <td>2</td>\n",
       "      <td>Saturday</td>\n",
       "      <td>Toyota</td>\n",
       "      <td>Rural</td>\n",
       "      <td>Friday</td>\n",
       "      <td>Jul</td>\n",
       "      <td>1</td>\n",
       "      <td>Male</td>\n",
       "      <td>Married</td>\n",
       "      <td>...</td>\n",
       "      <td>more than 7</td>\n",
       "      <td>51 to 65</td>\n",
       "      <td>Yes</td>\n",
       "      <td>No</td>\n",
       "      <td>External</td>\n",
       "      <td>more than 5</td>\n",
       "      <td>no change</td>\n",
       "      <td>1 vehicle</td>\n",
       "      <td>1994</td>\n",
       "      <td>0</td>\n",
       "    </tr>\n",
       "    <tr>\n",
       "      <th>4</th>\n",
       "      <td>Jan</td>\n",
       "      <td>5</td>\n",
       "      <td>Monday</td>\n",
       "      <td>Honda</td>\n",
       "      <td>Urban</td>\n",
       "      <td>Tuesday</td>\n",
       "      <td>Feb</td>\n",
       "      <td>2</td>\n",
       "      <td>Female</td>\n",
       "      <td>Single</td>\n",
       "      <td>...</td>\n",
       "      <td>5 years</td>\n",
       "      <td>31 to 35</td>\n",
       "      <td>No</td>\n",
       "      <td>No</td>\n",
       "      <td>External</td>\n",
       "      <td>none</td>\n",
       "      <td>no change</td>\n",
       "      <td>1 vehicle</td>\n",
       "      <td>1994</td>\n",
       "      <td>0</td>\n",
       "    </tr>\n",
       "    <tr>\n",
       "      <th>...</th>\n",
       "      <td>...</td>\n",
       "      <td>...</td>\n",
       "      <td>...</td>\n",
       "      <td>...</td>\n",
       "      <td>...</td>\n",
       "      <td>...</td>\n",
       "      <td>...</td>\n",
       "      <td>...</td>\n",
       "      <td>...</td>\n",
       "      <td>...</td>\n",
       "      <td>...</td>\n",
       "      <td>...</td>\n",
       "      <td>...</td>\n",
       "      <td>...</td>\n",
       "      <td>...</td>\n",
       "      <td>...</td>\n",
       "      <td>...</td>\n",
       "      <td>...</td>\n",
       "      <td>...</td>\n",
       "      <td>...</td>\n",
       "      <td>...</td>\n",
       "    </tr>\n",
       "    <tr>\n",
       "      <th>15415</th>\n",
       "      <td>Nov</td>\n",
       "      <td>4</td>\n",
       "      <td>Friday</td>\n",
       "      <td>Toyota</td>\n",
       "      <td>Urban</td>\n",
       "      <td>Tuesday</td>\n",
       "      <td>Nov</td>\n",
       "      <td>5</td>\n",
       "      <td>Male</td>\n",
       "      <td>Married</td>\n",
       "      <td>...</td>\n",
       "      <td>6 years</td>\n",
       "      <td>31 to 35</td>\n",
       "      <td>No</td>\n",
       "      <td>No</td>\n",
       "      <td>External</td>\n",
       "      <td>none</td>\n",
       "      <td>no change</td>\n",
       "      <td>1 vehicle</td>\n",
       "      <td>1996</td>\n",
       "      <td>1</td>\n",
       "    </tr>\n",
       "    <tr>\n",
       "      <th>15416</th>\n",
       "      <td>Nov</td>\n",
       "      <td>5</td>\n",
       "      <td>Thursday</td>\n",
       "      <td>Pontiac</td>\n",
       "      <td>Urban</td>\n",
       "      <td>Friday</td>\n",
       "      <td>Dec</td>\n",
       "      <td>1</td>\n",
       "      <td>Male</td>\n",
       "      <td>Married</td>\n",
       "      <td>...</td>\n",
       "      <td>6 years</td>\n",
       "      <td>31 to 35</td>\n",
       "      <td>No</td>\n",
       "      <td>No</td>\n",
       "      <td>External</td>\n",
       "      <td>more than 5</td>\n",
       "      <td>no change</td>\n",
       "      <td>3 to 4</td>\n",
       "      <td>1996</td>\n",
       "      <td>0</td>\n",
       "    </tr>\n",
       "    <tr>\n",
       "      <th>15417</th>\n",
       "      <td>Nov</td>\n",
       "      <td>5</td>\n",
       "      <td>Thursday</td>\n",
       "      <td>Toyota</td>\n",
       "      <td>Rural</td>\n",
       "      <td>Friday</td>\n",
       "      <td>Dec</td>\n",
       "      <td>1</td>\n",
       "      <td>Male</td>\n",
       "      <td>Single</td>\n",
       "      <td>...</td>\n",
       "      <td>5 years</td>\n",
       "      <td>26 to 30</td>\n",
       "      <td>No</td>\n",
       "      <td>No</td>\n",
       "      <td>External</td>\n",
       "      <td>1 to 2</td>\n",
       "      <td>no change</td>\n",
       "      <td>1 vehicle</td>\n",
       "      <td>1996</td>\n",
       "      <td>1</td>\n",
       "    </tr>\n",
       "    <tr>\n",
       "      <th>15418</th>\n",
       "      <td>Dec</td>\n",
       "      <td>1</td>\n",
       "      <td>Monday</td>\n",
       "      <td>Toyota</td>\n",
       "      <td>Urban</td>\n",
       "      <td>Thursday</td>\n",
       "      <td>Dec</td>\n",
       "      <td>2</td>\n",
       "      <td>Female</td>\n",
       "      <td>Married</td>\n",
       "      <td>...</td>\n",
       "      <td>2 years</td>\n",
       "      <td>31 to 35</td>\n",
       "      <td>No</td>\n",
       "      <td>No</td>\n",
       "      <td>External</td>\n",
       "      <td>more than 5</td>\n",
       "      <td>no change</td>\n",
       "      <td>1 vehicle</td>\n",
       "      <td>1996</td>\n",
       "      <td>0</td>\n",
       "    </tr>\n",
       "    <tr>\n",
       "      <th>15419</th>\n",
       "      <td>Dec</td>\n",
       "      <td>2</td>\n",
       "      <td>Wednesday</td>\n",
       "      <td>Toyota</td>\n",
       "      <td>Urban</td>\n",
       "      <td>Thursday</td>\n",
       "      <td>Dec</td>\n",
       "      <td>3</td>\n",
       "      <td>Male</td>\n",
       "      <td>Single</td>\n",
       "      <td>...</td>\n",
       "      <td>5 years</td>\n",
       "      <td>26 to 30</td>\n",
       "      <td>No</td>\n",
       "      <td>No</td>\n",
       "      <td>External</td>\n",
       "      <td>1 to 2</td>\n",
       "      <td>no change</td>\n",
       "      <td>1 vehicle</td>\n",
       "      <td>1996</td>\n",
       "      <td>1</td>\n",
       "    </tr>\n",
       "  </tbody>\n",
       "</table>\n",
       "<p>15420 rows × 33 columns</p>\n",
       "</div>"
      ],
      "text/plain": [
       "      Month  WeekOfMonth  DayOfWeek     Make AccidentArea DayOfWeekClaimed  \\\n",
       "0       Dec            5  Wednesday    Honda        Urban          Tuesday   \n",
       "1       Jan            3  Wednesday    Honda        Urban           Monday   \n",
       "2       Oct            5     Friday    Honda        Urban         Thursday   \n",
       "3       Jun            2   Saturday   Toyota        Rural           Friday   \n",
       "4       Jan            5     Monday    Honda        Urban          Tuesday   \n",
       "...     ...          ...        ...      ...          ...              ...   \n",
       "15415   Nov            4     Friday   Toyota        Urban          Tuesday   \n",
       "15416   Nov            5   Thursday  Pontiac        Urban           Friday   \n",
       "15417   Nov            5   Thursday   Toyota        Rural           Friday   \n",
       "15418   Dec            1     Monday   Toyota        Urban         Thursday   \n",
       "15419   Dec            2  Wednesday   Toyota        Urban         Thursday   \n",
       "\n",
       "      MonthClaimed  WeekOfMonthClaimed     Sex MaritalStatus  ...  \\\n",
       "0              Jan                   1  Female        Single  ...   \n",
       "1              Jan                   4    Male        Single  ...   \n",
       "2              Nov                   2    Male       Married  ...   \n",
       "3              Jul                   1    Male       Married  ...   \n",
       "4              Feb                   2  Female        Single  ...   \n",
       "...            ...                 ...     ...           ...  ...   \n",
       "15415          Nov                   5    Male       Married  ...   \n",
       "15416          Dec                   1    Male       Married  ...   \n",
       "15417          Dec                   1    Male        Single  ...   \n",
       "15418          Dec                   2  Female       Married  ...   \n",
       "15419          Dec                   3    Male        Single  ...   \n",
       "\n",
       "       AgeOfVehicle AgeOfPolicyHolder PoliceReportFiled WitnessPresent  \\\n",
       "0           3 years          26 to 30                No             No   \n",
       "1           6 years          31 to 35               Yes             No   \n",
       "2           7 years          41 to 50                No             No   \n",
       "3       more than 7          51 to 65               Yes             No   \n",
       "4           5 years          31 to 35                No             No   \n",
       "...             ...               ...               ...            ...   \n",
       "15415       6 years          31 to 35                No             No   \n",
       "15416       6 years          31 to 35                No             No   \n",
       "15417       5 years          26 to 30                No             No   \n",
       "15418       2 years          31 to 35                No             No   \n",
       "15419       5 years          26 to 30                No             No   \n",
       "\n",
       "      AgentType NumberOfSuppliments  AddressChange_Claim  NumberOfCars  Year  \\\n",
       "0      External                none               1 year        3 to 4  1994   \n",
       "1      External                none            no change     1 vehicle  1994   \n",
       "2      External                none            no change     1 vehicle  1994   \n",
       "3      External         more than 5            no change     1 vehicle  1994   \n",
       "4      External                none            no change     1 vehicle  1994   \n",
       "...         ...                 ...                  ...           ...   ...   \n",
       "15415  External                none            no change     1 vehicle  1996   \n",
       "15416  External         more than 5            no change        3 to 4  1996   \n",
       "15417  External              1 to 2            no change     1 vehicle  1996   \n",
       "15418  External         more than 5            no change     1 vehicle  1996   \n",
       "15419  External              1 to 2            no change     1 vehicle  1996   \n",
       "\n",
       "       FraudFound_P  \n",
       "0                 0  \n",
       "1                 0  \n",
       "2                 0  \n",
       "3                 0  \n",
       "4                 0  \n",
       "...             ...  \n",
       "15415             1  \n",
       "15416             0  \n",
       "15417             1  \n",
       "15418             0  \n",
       "15419             1  \n",
       "\n",
       "[15420 rows x 33 columns]"
      ]
     },
     "execution_count": 9,
     "metadata": {},
     "output_type": "execute_result"
    }
   ],
   "source": [
    "df=df[titles]\n",
    "df"
   ]
  },
  {
   "cell_type": "code",
   "execution_count": 10,
   "id": "723934b4",
   "metadata": {
    "scrolled": true
   },
   "outputs": [
    {
     "data": {
      "text/plain": [
       "Month                   object\n",
       "WeekOfMonth              int64\n",
       "DayOfWeek               object\n",
       "Make                    object\n",
       "AccidentArea            object\n",
       "DayOfWeekClaimed        object\n",
       "MonthClaimed            object\n",
       "WeekOfMonthClaimed       int64\n",
       "Sex                     object\n",
       "MaritalStatus           object\n",
       "Age                      int64\n",
       "Fault                   object\n",
       "PolicyType              object\n",
       "VehicleCategory         object\n",
       "VehiclePrice            object\n",
       "BasePolicy              object\n",
       "PolicyNumber             int64\n",
       "RepNumber                int64\n",
       "Deductible               int64\n",
       "DriverRating             int64\n",
       "Days_Policy_Accident    object\n",
       "Days_Policy_Claim       object\n",
       "PastNumberOfClaims      object\n",
       "AgeOfVehicle            object\n",
       "AgeOfPolicyHolder       object\n",
       "PoliceReportFiled       object\n",
       "WitnessPresent          object\n",
       "AgentType               object\n",
       "NumberOfSuppliments     object\n",
       "AddressChange_Claim     object\n",
       "NumberOfCars            object\n",
       "Year                     int64\n",
       "FraudFound_P             int64\n",
       "dtype: object"
      ]
     },
     "execution_count": 10,
     "metadata": {},
     "output_type": "execute_result"
    }
   ],
   "source": [
    "df.dtypes"
   ]
  },
  {
   "cell_type": "code",
   "execution_count": 11,
   "id": "a82f4402",
   "metadata": {},
   "outputs": [
    {
     "name": "stderr",
     "output_type": "stream",
     "text": [
      "C:\\Users\\lumkile\\AppData\\Local\\Temp\\ipykernel_4440\\3160358692.py:1: FutureWarning: In a future version of pandas all arguments of DataFrame.drop except for the argument 'labels' will be keyword-only.\n",
      "  df = df.drop('BasePolicy', 1)\n"
     ]
    }
   ],
   "source": [
    "df = df.drop('BasePolicy', 1)"
   ]
  },
  {
   "cell_type": "code",
   "execution_count": 12,
   "id": "04a2ca32",
   "metadata": {},
   "outputs": [
    {
     "name": "stderr",
     "output_type": "stream",
     "text": [
      "C:\\Users\\lumkile\\AppData\\Local\\Temp\\ipykernel_4440\\295147800.py:1: FutureWarning: In a future version of pandas all arguments of DataFrame.drop except for the argument 'labels' will be keyword-only.\n",
      "  df = df.drop('NumberOfSuppliments', 1)\n"
     ]
    }
   ],
   "source": [
    "df = df.drop('NumberOfSuppliments', 1)"
   ]
  },
  {
   "cell_type": "code",
   "execution_count": 13,
   "id": "b767c837",
   "metadata": {},
   "outputs": [
    {
     "name": "stderr",
     "output_type": "stream",
     "text": [
      "C:\\Users\\lumkile\\AppData\\Local\\Temp\\ipykernel_4440\\3700329169.py:1: FutureWarning: In a future version of pandas all arguments of DataFrame.drop except for the argument 'labels' will be keyword-only.\n",
      "  df = df.drop('Days_Policy_Claim', 1)\n"
     ]
    }
   ],
   "source": [
    "df = df.drop('Days_Policy_Claim', 1)"
   ]
  },
  {
   "cell_type": "code",
   "execution_count": 14,
   "id": "867000f5",
   "metadata": {},
   "outputs": [
    {
     "name": "stderr",
     "output_type": "stream",
     "text": [
      "C:\\Users\\lumkile\\AppData\\Local\\Temp\\ipykernel_4440\\4291989132.py:1: FutureWarning: In a future version of pandas all arguments of DataFrame.drop except for the argument 'labels' will be keyword-only.\n",
      "  df = df.drop('PastNumberOfClaims', 1)\n"
     ]
    }
   ],
   "source": [
    "df = df.drop('PastNumberOfClaims', 1)"
   ]
  },
  {
   "cell_type": "code",
   "execution_count": 15,
   "id": "0e2c6268",
   "metadata": {},
   "outputs": [
    {
     "name": "stderr",
     "output_type": "stream",
     "text": [
      "C:\\Users\\lumkile\\AppData\\Local\\Temp\\ipykernel_4440\\2513714167.py:1: FutureWarning: In a future version of pandas all arguments of DataFrame.drop except for the argument 'labels' will be keyword-only.\n",
      "  df = df.drop('AgeOfPolicyHolder', 1)\n"
     ]
    }
   ],
   "source": [
    "df = df.drop('AgeOfPolicyHolder', 1)"
   ]
  },
  {
   "cell_type": "code",
   "execution_count": 16,
   "id": "bcdba6b8",
   "metadata": {},
   "outputs": [
    {
     "name": "stderr",
     "output_type": "stream",
     "text": [
      "C:\\Users\\lumkile\\AppData\\Local\\Temp\\ipykernel_4440\\4095934237.py:1: FutureWarning: In a future version of pandas all arguments of DataFrame.drop except for the argument 'labels' will be keyword-only.\n",
      "  df = df.drop('AddressChange_Claim', 1)\n"
     ]
    }
   ],
   "source": [
    "df = df.drop('AddressChange_Claim', 1)"
   ]
  },
  {
   "cell_type": "code",
   "execution_count": 17,
   "id": "a54c3943",
   "metadata": {},
   "outputs": [
    {
     "data": {
      "text/plain": [
       "Month                   object\n",
       "WeekOfMonth              int64\n",
       "DayOfWeek               object\n",
       "Make                    object\n",
       "AccidentArea            object\n",
       "DayOfWeekClaimed        object\n",
       "MonthClaimed            object\n",
       "WeekOfMonthClaimed       int64\n",
       "Sex                     object\n",
       "MaritalStatus           object\n",
       "Age                      int64\n",
       "Fault                   object\n",
       "PolicyType              object\n",
       "VehicleCategory         object\n",
       "VehiclePrice            object\n",
       "PolicyNumber             int64\n",
       "RepNumber                int64\n",
       "Deductible               int64\n",
       "DriverRating             int64\n",
       "Days_Policy_Accident    object\n",
       "AgeOfVehicle            object\n",
       "PoliceReportFiled       object\n",
       "WitnessPresent          object\n",
       "AgentType               object\n",
       "NumberOfCars            object\n",
       "Year                     int64\n",
       "FraudFound_P             int64\n",
       "dtype: object"
      ]
     },
     "execution_count": 17,
     "metadata": {},
     "output_type": "execute_result"
    }
   ],
   "source": [
    "df.dtypes"
   ]
  },
  {
   "cell_type": "code",
   "execution_count": 18,
   "id": "3c7a307f",
   "metadata": {},
   "outputs": [
    {
     "data": {
      "text/html": [
       "<div>\n",
       "<style scoped>\n",
       "    .dataframe tbody tr th:only-of-type {\n",
       "        vertical-align: middle;\n",
       "    }\n",
       "\n",
       "    .dataframe tbody tr th {\n",
       "        vertical-align: top;\n",
       "    }\n",
       "\n",
       "    .dataframe thead th {\n",
       "        text-align: right;\n",
       "    }\n",
       "</style>\n",
       "<table border=\"1\" class=\"dataframe\">\n",
       "  <thead>\n",
       "    <tr style=\"text-align: right;\">\n",
       "      <th></th>\n",
       "      <th>Month</th>\n",
       "      <th>WeekOfMonth</th>\n",
       "      <th>DayOfWeek</th>\n",
       "      <th>Make</th>\n",
       "      <th>AccidentArea</th>\n",
       "      <th>DayOfWeekClaimed</th>\n",
       "      <th>MonthClaimed</th>\n",
       "      <th>WeekOfMonthClaimed</th>\n",
       "      <th>Sex</th>\n",
       "      <th>MaritalStatus</th>\n",
       "      <th>...</th>\n",
       "      <th>Deductible</th>\n",
       "      <th>DriverRating</th>\n",
       "      <th>Days_Policy_Accident</th>\n",
       "      <th>AgeOfVehicle</th>\n",
       "      <th>PoliceReportFiled</th>\n",
       "      <th>WitnessPresent</th>\n",
       "      <th>AgentType</th>\n",
       "      <th>NumberOfCars</th>\n",
       "      <th>Year</th>\n",
       "      <th>FraudFound_P</th>\n",
       "    </tr>\n",
       "  </thead>\n",
       "  <tbody>\n",
       "    <tr>\n",
       "      <th>0</th>\n",
       "      <td>Dec</td>\n",
       "      <td>5</td>\n",
       "      <td>Wednesday</td>\n",
       "      <td>Honda</td>\n",
       "      <td>Urban</td>\n",
       "      <td>Tuesday</td>\n",
       "      <td>Jan</td>\n",
       "      <td>1</td>\n",
       "      <td>Female</td>\n",
       "      <td>Single</td>\n",
       "      <td>...</td>\n",
       "      <td>300</td>\n",
       "      <td>1</td>\n",
       "      <td>more than 30</td>\n",
       "      <td>3 years</td>\n",
       "      <td>No</td>\n",
       "      <td>No</td>\n",
       "      <td>External</td>\n",
       "      <td>3 to 4</td>\n",
       "      <td>1994</td>\n",
       "      <td>0</td>\n",
       "    </tr>\n",
       "    <tr>\n",
       "      <th>1</th>\n",
       "      <td>Jan</td>\n",
       "      <td>3</td>\n",
       "      <td>Wednesday</td>\n",
       "      <td>Honda</td>\n",
       "      <td>Urban</td>\n",
       "      <td>Monday</td>\n",
       "      <td>Jan</td>\n",
       "      <td>4</td>\n",
       "      <td>Male</td>\n",
       "      <td>Single</td>\n",
       "      <td>...</td>\n",
       "      <td>400</td>\n",
       "      <td>4</td>\n",
       "      <td>more than 30</td>\n",
       "      <td>6 years</td>\n",
       "      <td>Yes</td>\n",
       "      <td>No</td>\n",
       "      <td>External</td>\n",
       "      <td>1 vehicle</td>\n",
       "      <td>1994</td>\n",
       "      <td>0</td>\n",
       "    </tr>\n",
       "    <tr>\n",
       "      <th>2</th>\n",
       "      <td>Oct</td>\n",
       "      <td>5</td>\n",
       "      <td>Friday</td>\n",
       "      <td>Honda</td>\n",
       "      <td>Urban</td>\n",
       "      <td>Thursday</td>\n",
       "      <td>Nov</td>\n",
       "      <td>2</td>\n",
       "      <td>Male</td>\n",
       "      <td>Married</td>\n",
       "      <td>...</td>\n",
       "      <td>400</td>\n",
       "      <td>3</td>\n",
       "      <td>more than 30</td>\n",
       "      <td>7 years</td>\n",
       "      <td>No</td>\n",
       "      <td>No</td>\n",
       "      <td>External</td>\n",
       "      <td>1 vehicle</td>\n",
       "      <td>1994</td>\n",
       "      <td>0</td>\n",
       "    </tr>\n",
       "    <tr>\n",
       "      <th>3</th>\n",
       "      <td>Jun</td>\n",
       "      <td>2</td>\n",
       "      <td>Saturday</td>\n",
       "      <td>Toyota</td>\n",
       "      <td>Rural</td>\n",
       "      <td>Friday</td>\n",
       "      <td>Jul</td>\n",
       "      <td>1</td>\n",
       "      <td>Male</td>\n",
       "      <td>Married</td>\n",
       "      <td>...</td>\n",
       "      <td>400</td>\n",
       "      <td>2</td>\n",
       "      <td>more than 30</td>\n",
       "      <td>more than 7</td>\n",
       "      <td>Yes</td>\n",
       "      <td>No</td>\n",
       "      <td>External</td>\n",
       "      <td>1 vehicle</td>\n",
       "      <td>1994</td>\n",
       "      <td>0</td>\n",
       "    </tr>\n",
       "    <tr>\n",
       "      <th>4</th>\n",
       "      <td>Jan</td>\n",
       "      <td>5</td>\n",
       "      <td>Monday</td>\n",
       "      <td>Honda</td>\n",
       "      <td>Urban</td>\n",
       "      <td>Tuesday</td>\n",
       "      <td>Feb</td>\n",
       "      <td>2</td>\n",
       "      <td>Female</td>\n",
       "      <td>Single</td>\n",
       "      <td>...</td>\n",
       "      <td>400</td>\n",
       "      <td>1</td>\n",
       "      <td>more than 30</td>\n",
       "      <td>5 years</td>\n",
       "      <td>No</td>\n",
       "      <td>No</td>\n",
       "      <td>External</td>\n",
       "      <td>1 vehicle</td>\n",
       "      <td>1994</td>\n",
       "      <td>0</td>\n",
       "    </tr>\n",
       "  </tbody>\n",
       "</table>\n",
       "<p>5 rows × 27 columns</p>\n",
       "</div>"
      ],
      "text/plain": [
       "  Month  WeekOfMonth  DayOfWeek    Make AccidentArea DayOfWeekClaimed  \\\n",
       "0   Dec            5  Wednesday   Honda        Urban          Tuesday   \n",
       "1   Jan            3  Wednesday   Honda        Urban           Monday   \n",
       "2   Oct            5     Friday   Honda        Urban         Thursday   \n",
       "3   Jun            2   Saturday  Toyota        Rural           Friday   \n",
       "4   Jan            5     Monday   Honda        Urban          Tuesday   \n",
       "\n",
       "  MonthClaimed  WeekOfMonthClaimed     Sex MaritalStatus  ...  Deductible  \\\n",
       "0          Jan                   1  Female        Single  ...         300   \n",
       "1          Jan                   4    Male        Single  ...         400   \n",
       "2          Nov                   2    Male       Married  ...         400   \n",
       "3          Jul                   1    Male       Married  ...         400   \n",
       "4          Feb                   2  Female        Single  ...         400   \n",
       "\n",
       "  DriverRating Days_Policy_Accident AgeOfVehicle PoliceReportFiled  \\\n",
       "0            1         more than 30      3 years                No   \n",
       "1            4         more than 30      6 years               Yes   \n",
       "2            3         more than 30      7 years                No   \n",
       "3            2         more than 30  more than 7               Yes   \n",
       "4            1         more than 30      5 years                No   \n",
       "\n",
       "   WitnessPresent  AgentType  NumberOfCars  Year FraudFound_P  \n",
       "0              No   External        3 to 4  1994            0  \n",
       "1              No   External     1 vehicle  1994            0  \n",
       "2              No   External     1 vehicle  1994            0  \n",
       "3              No   External     1 vehicle  1994            0  \n",
       "4              No   External     1 vehicle  1994            0  \n",
       "\n",
       "[5 rows x 27 columns]"
      ]
     },
     "execution_count": 18,
     "metadata": {},
     "output_type": "execute_result"
    }
   ],
   "source": [
    "df.head()"
   ]
  },
  {
   "cell_type": "code",
   "execution_count": 19,
   "id": "0859d124",
   "metadata": {},
   "outputs": [
    {
     "name": "stdout",
     "output_type": "stream",
     "text": [
      "118895910\n",
      "118895910.0\n"
     ]
    },
    {
     "data": {
      "text/plain": [
       "0            1\n",
       "1            2\n",
       "2            3\n",
       "3            4\n",
       "4            5\n",
       "         ...  \n",
       "15415    15416\n",
       "15416    15417\n",
       "15417    15418\n",
       "15418    15419\n",
       "15419    15420\n",
       "Name: PolicyNumber, Length: 15420, dtype: int64"
      ]
     },
     "execution_count": 19,
     "metadata": {},
     "output_type": "execute_result"
    }
   ],
   "source": [
    "print(df['PolicyNumber'].sum())\n",
    "print((len(df['PolicyNumber'])*(len(df['PolicyNumber']) +1 ))/2 )\n",
    "df['PolicyNumber']"
   ]
  },
  {
   "cell_type": "code",
   "execution_count": 20,
   "id": "db4e0c47",
   "metadata": {},
   "outputs": [
    {
     "name": "stdout",
     "output_type": "stream",
     "text": [
      "DayOfWeekClaimed has  1  row(s) with a 0\n",
      "MonthClaimed has  1  row(s) with a 0\n",
      " \n",
      "     Month  WeekOfMonth DayOfWeek   Make AccidentArea DayOfWeekClaimed  \\\n",
      "1516   Jul            2    Monday  Honda        Rural                0   \n",
      "\n",
      "     MonthClaimed  WeekOfMonthClaimed   Sex MaritalStatus  ...  Deductible  \\\n",
      "1516            0                   1  Male        Single  ...         400   \n",
      "\n",
      "     DriverRating Days_Policy_Accident AgeOfVehicle PoliceReportFiled  \\\n",
      "1516            2         more than 30          new                No   \n",
      "\n",
      "      WitnessPresent  AgentType  NumberOfCars  Year FraudFound_P  \n",
      "1516              No   External     1 vehicle  1994            0  \n",
      "\n",
      "[1 rows x 27 columns]\n",
      "     Month  WeekOfMonth DayOfWeek   Make AccidentArea DayOfWeekClaimed  \\\n",
      "1516   Jul            2    Monday  Honda        Rural                0   \n",
      "\n",
      "     MonthClaimed  WeekOfMonthClaimed   Sex MaritalStatus  ...  Deductible  \\\n",
      "1516            0                   1  Male        Single  ...         400   \n",
      "\n",
      "     DriverRating Days_Policy_Accident AgeOfVehicle PoliceReportFiled  \\\n",
      "1516            2         more than 30          new                No   \n",
      "\n",
      "      WitnessPresent  AgentType  NumberOfCars  Year FraudFound_P  \n",
      "1516              No   External     1 vehicle  1994            0  \n",
      "\n",
      "[1 rows x 27 columns]\n"
     ]
    }
   ],
   "source": [
    "#Investigate the 0 in DayOfWeekClaimed and MonthClaimed\n",
    "print('DayOfWeekClaimed has ', len(df.loc[(df['DayOfWeekClaimed']=='0')]), ' row(s) with a 0')\n",
    "print('MonthClaimed has ',len(df.loc[(df['MonthClaimed']=='0')]),' row(s) with a 0') \n",
    "print(' ')\n",
    "\n",
    "#We see there is only one row where either the DayOfWeekClaimed or MonthClaimed are 0. \n",
    "#So now we compare them.\n",
    "print(df.loc[(df['DayOfWeekClaimed']=='0')])\n",
    "print(df.loc[(df['MonthClaimed']=='0')])\n",
    "\n",
    "# Both are zero in the same row (row 1516). "
   ]
  },
  {
   "cell_type": "code",
   "execution_count": 21,
   "id": "ab8c9502",
   "metadata": {},
   "outputs": [],
   "source": [
    "#Since both DayOfWeekClaimed and MonthClaimed are 0 for the same entry, I will drop\n",
    "df2 = df.loc[df['DayOfWeekClaimed']!='0']"
   ]
  },
  {
   "cell_type": "code",
   "execution_count": 22,
   "id": "c2db531c",
   "metadata": {},
   "outputs": [
    {
     "data": {
      "text/plain": [
       "15419"
      ]
     },
     "execution_count": 22,
     "metadata": {},
     "output_type": "execute_result"
    }
   ],
   "source": [
    "#Resets the index on our new dataframe, df2, so we can iterate through the rows\n",
    "#If we didn't do this, attempting to access df2.loc[1516] would throw a keyerror\n",
    "#This suggests that df2 does not have a row 1516, which is just plain silly\n",
    "df2.reset_index(drop=True, inplace=True)\n",
    "len(df2)"
   ]
  },
  {
   "cell_type": "code",
   "execution_count": 24,
   "id": "f8664ac7",
   "metadata": {},
   "outputs": [
    {
     "name": "stdout",
     "output_type": "stream",
     "text": [
      "319\n"
     ]
    }
   ],
   "source": [
    "#There are 319 rows where the feature Age is assigned a zero, \n",
    "print(len(df2[df2['Age']==0]))\n",
    "\n",
    "#though for the displayed rows the policy holder is said to be between 16 and 17 years old. \n",
    "#df2.loc[df2['Age']==0, 'AgeOfPolicyHolder']\n",
    "\n",
    "#Need to check the policy holders age and then reassign a value.\n",
    "df2_age0_idx = (df2['Age']==0)\n"
   ]
  },
  {
   "cell_type": "code",
   "execution_count": 25,
   "id": "0a41a5ab",
   "metadata": {},
   "outputs": [
    {
     "data": {
      "text/plain": [
       "0        False\n",
       "1        False\n",
       "2        False\n",
       "3        False\n",
       "4        False\n",
       "         ...  \n",
       "15414    False\n",
       "15415    False\n",
       "15416    False\n",
       "15417    False\n",
       "15418    False\n",
       "Name: Age, Length: 15419, dtype: bool"
      ]
     },
     "execution_count": 25,
     "metadata": {},
     "output_type": "execute_result"
    }
   ],
   "source": [
    "#confirms that every row with Age=0, has a Policy Holder that is aged between 16 and 17 years.\n",
    "df2['Age']==0\n",
    "#print('Age',df['Age'].unique())"
   ]
  },
  {
   "cell_type": "code",
   "execution_count": 26,
   "id": "d9939eff",
   "metadata": {},
   "outputs": [],
   "source": [
    "#Assigns an age of 16 to all rows with missing Age values\n",
    "df2.loc[list(df2_age0_idx),'Age']=18"
   ]
  },
  {
   "cell_type": "code",
   "execution_count": 27,
   "id": "c7dfabe0",
   "metadata": {},
   "outputs": [],
   "source": [
    "#Assigns an age of 16 to all rows with missing Age values\n",
    "df2.loc[list(df2_age0_idx),'Age']=16"
   ]
  },
  {
   "cell_type": "code",
   "execution_count": 28,
   "id": "f8feeafe",
   "metadata": {},
   "outputs": [
    {
     "name": "stdout",
     "output_type": "stream",
     "text": [
      "[False False False False False False False False False False False False\n",
      " False False False False False False False False False False False False\n",
      " False False False False False False False False False False False False\n",
      " False False False False False False False False False False False False\n",
      " False False False False False False False False False False False False\n",
      " False False False False False]\n"
     ]
    },
    {
     "data": {
      "text/plain": [
       "0"
      ]
     },
     "execution_count": 28,
     "metadata": {},
     "output_type": "execute_result"
    }
   ],
   "source": [
    "#Confirms that there are no Ages equal to 0.\n",
    "print(df2['Age'].unique()==0)\n",
    "len(df2[df2['Age']==0])"
   ]
  },
  {
   "cell_type": "code",
   "execution_count": 29,
   "id": "ed52ad97",
   "metadata": {},
   "outputs": [
    {
     "name": "stdout",
     "output_type": "stream",
     "text": [
      "True\n"
     ]
    }
   ],
   "source": [
    "#Since the length of the df2 is the same as the df2.drop_duplicates, this tells us\n",
    "#there are no duplicate rows\n",
    "print(len(df2.drop_duplicates())==len(df2))"
   ]
  },
  {
   "cell_type": "code",
   "execution_count": 30,
   "id": "b11dd228",
   "metadata": {},
   "outputs": [
    {
     "name": "stdout",
     "output_type": "stream",
     "text": [
      "    Feature                  Chi2 val        p-val\n",
      "--  --------------------  -----------  -----------\n",
      "26  FraudFound_P          15401.2      0\n",
      "12  PolicyType              437.491    1.76844e-89\n",
      "13  VehicleCategory         290.981    6.52082e-64\n",
      "11  Fault                   264.985    1.40618e-59\n",
      "17  Deductible               72.4063   1.30283e-15\n",
      "14  VehiclePrice             67.8361   2.88832e-13\n",
      " 3  Make                     59.8153   2.19157e-06\n",
      " 6  MonthClaimed             42.2005   1.49524e-05\n",
      " 4  AccidentArea             16.9019   3.9363e-05\n",
      " 8  Sex                      13.4957   0.000239114\n",
      "10  Age                     109.635    0.00033628\n",
      " 0  Month                    29.7715   0.0017209\n",
      "20  AgeOfVehicle             21.9951   0.00254532\n",
      "23  AgentType                 7.38047  0.0065936\n",
      "25  Year                      9.59259  0.00826031\n",
      "19  Days_Policy_Accident     11.5698   0.0208538\n"
     ]
    }
   ],
   "source": [
    "df2_chi_result=[]\n",
    "for feat in df2.columns:\n",
    "    chi2_val, p_val, dof2, ex1 = stats.chi2_contingency(pd.crosstab(df2[feat], df2['FraudFound_P']))\n",
    "    df2_chi_result.append([feat,chi2_val,p_val])\n",
    "    \n",
    "chi_df = pd.DataFrame(df2_chi_result, columns=['Features', 'Chi2 val', 'p-val'])\n",
    "chi_df.sort_values(by='p-val',ascending=True, inplace=True)    \n",
    "#Printing on the variables that had a p-val less than 0.05\n",
    "print(tabulate(chi_df[chi_df['p-val']<0.05], headers=['Feature', 'Chi2 val', 'p-val']))"
   ]
  },
  {
   "cell_type": "code",
   "execution_count": 31,
   "id": "541efd52",
   "metadata": {},
   "outputs": [
    {
     "data": {
      "text/html": [
       "<div>\n",
       "<style scoped>\n",
       "    .dataframe tbody tr th:only-of-type {\n",
       "        vertical-align: middle;\n",
       "    }\n",
       "\n",
       "    .dataframe tbody tr th {\n",
       "        vertical-align: top;\n",
       "    }\n",
       "\n",
       "    .dataframe thead th {\n",
       "        text-align: right;\n",
       "    }\n",
       "</style>\n",
       "<table border=\"1\" class=\"dataframe\">\n",
       "  <thead>\n",
       "    <tr style=\"text-align: right;\">\n",
       "      <th></th>\n",
       "      <th>PolicyType</th>\n",
       "      <th>FraudFound_P</th>\n",
       "      <th>Total Accidents</th>\n",
       "      <th>Percentage by PolicyType</th>\n",
       "      <th>Percentage by Total</th>\n",
       "    </tr>\n",
       "  </thead>\n",
       "  <tbody>\n",
       "    <tr>\n",
       "      <th>0</th>\n",
       "      <td>Sedan - All Perils</td>\n",
       "      <td>411</td>\n",
       "      <td>4086</td>\n",
       "      <td>10.059</td>\n",
       "      <td>2.666</td>\n",
       "    </tr>\n",
       "    <tr>\n",
       "      <th>1</th>\n",
       "      <td>Sedan - Collision</td>\n",
       "      <td>384</td>\n",
       "      <td>5584</td>\n",
       "      <td>6.877</td>\n",
       "      <td>2.49</td>\n",
       "    </tr>\n",
       "    <tr>\n",
       "      <th>2</th>\n",
       "      <td>Sedan - Liability</td>\n",
       "      <td>36</td>\n",
       "      <td>4987</td>\n",
       "      <td>0.722</td>\n",
       "      <td>0.233</td>\n",
       "    </tr>\n",
       "    <tr>\n",
       "      <th>3</th>\n",
       "      <td>Sport - All Perils</td>\n",
       "      <td>0</td>\n",
       "      <td>22</td>\n",
       "      <td>0.0</td>\n",
       "      <td>0.0</td>\n",
       "    </tr>\n",
       "    <tr>\n",
       "      <th>4</th>\n",
       "      <td>Sport - Collision</td>\n",
       "      <td>48</td>\n",
       "      <td>348</td>\n",
       "      <td>13.793</td>\n",
       "      <td>0.311</td>\n",
       "    </tr>\n",
       "    <tr>\n",
       "      <th>5</th>\n",
       "      <td>Sport - Liability</td>\n",
       "      <td>0</td>\n",
       "      <td>1</td>\n",
       "      <td>0.0</td>\n",
       "      <td>0.0</td>\n",
       "    </tr>\n",
       "    <tr>\n",
       "      <th>6</th>\n",
       "      <td>Utility - All Perils</td>\n",
       "      <td>41</td>\n",
       "      <td>340</td>\n",
       "      <td>12.059</td>\n",
       "      <td>0.266</td>\n",
       "    </tr>\n",
       "    <tr>\n",
       "      <th>7</th>\n",
       "      <td>Utility - Collision</td>\n",
       "      <td>3</td>\n",
       "      <td>30</td>\n",
       "      <td>10.0</td>\n",
       "      <td>0.019</td>\n",
       "    </tr>\n",
       "    <tr>\n",
       "      <th>8</th>\n",
       "      <td>Utility - Liability</td>\n",
       "      <td>0</td>\n",
       "      <td>21</td>\n",
       "      <td>0.0</td>\n",
       "      <td>0.0</td>\n",
       "    </tr>\n",
       "    <tr>\n",
       "      <th>9</th>\n",
       "      <td>Column total</td>\n",
       "      <td>923</td>\n",
       "      <td>15419</td>\n",
       "      <td>53.51</td>\n",
       "      <td>5.985</td>\n",
       "    </tr>\n",
       "  </tbody>\n",
       "</table>\n",
       "</div>"
      ],
      "text/plain": [
       "             PolicyType FraudFound_P Total Accidents Percentage by PolicyType  \\\n",
       "0    Sedan - All Perils          411            4086                   10.059   \n",
       "1     Sedan - Collision          384            5584                    6.877   \n",
       "2     Sedan - Liability           36            4987                    0.722   \n",
       "3    Sport - All Perils            0              22                      0.0   \n",
       "4     Sport - Collision           48             348                   13.793   \n",
       "5     Sport - Liability            0               1                      0.0   \n",
       "6  Utility - All Perils           41             340                   12.059   \n",
       "7   Utility - Collision            3              30                     10.0   \n",
       "8   Utility - Liability            0              21                      0.0   \n",
       "9          Column total          923           15419                    53.51   \n",
       "\n",
       "  Percentage by Total  \n",
       "0               2.666  \n",
       "1                2.49  \n",
       "2               0.233  \n",
       "3                 0.0  \n",
       "4               0.311  \n",
       "5                 0.0  \n",
       "6               0.266  \n",
       "7               0.019  \n",
       "8                 0.0  \n",
       "9               5.985  "
      ]
     },
     "execution_count": 31,
     "metadata": {},
     "output_type": "execute_result"
    },
    {
     "data": {
      "image/png": "[encoded data removed]",
      "text/plain": [
       "<Figure size 1584x432 with 2 Axes>"
      ]
     },
     "metadata": {
      "needs_background": "light"
     },
     "output_type": "display_data"
    }
   ],
   "source": [
    "#plotting by FraudFound, looking to see if there are anything obvious that correlates to fraud\n",
    "gpd_val1=df2.groupby('PolicyType').agg({'FraudFound_P':'sum'}).reset_index()\n",
    "gpd_val2=df2.groupby('PolicyType').agg('count').reset_index()\n",
    "\n",
    "fig, (ax1,ax2) = plt.subplots(2,1,figsize=(22, 6))\n",
    "sns.barplot(x='PolicyType', y='FraudFound_P', data = gpd_val1, ax=ax1)\n",
    "sns.barplot(x='PolicyType', y='FraudFound_P', data=gpd_val2, ax=ax2)\n",
    "\n",
    "ax2.set(ylabel='Total counts')\n",
    "\n",
    "None\n",
    "\n",
    "total_list = pd.concat([gpd_val1, gpd_val2['FraudFound_P'].rename('Total Accidents')],axis=1)\n",
    "total_list['Percentage by PolicyType']= round((total_list['FraudFound_P']/total_list['Total Accidents'])*100,3)\n",
    "total_list['Percentage by Total'] = round((total_list['FraudFound_P']/sum(total_list['Total Accidents']))*100,3)\n",
    "\n",
    "ax2.set(ylabel='Total counts')\n",
    "\n",
    "data = [['Column total'],\n",
    "        [sum(total_list['FraudFound_P'])], \n",
    "        [sum(total_list['Total Accidents'])], \n",
    "        [sum(total_list['Percentage by PolicyType'])], \n",
    "        [sum(total_list['Percentage by Total'])]]\n",
    "\n",
    "nr = pd.DataFrame(data)\n",
    "\n",
    "nr1 = nr.transpose()\n",
    "nr1.rename(columns={0:'PolicyType',1:'FraudFound_P',2:'Total Accidents',3:'Percentage by PolicyType',4:'Percentage by Total'}, inplace=True)\n",
    "pd.concat([total_list,nr1],ignore_index=True)\n"
   ]
  },
  {
   "cell_type": "code",
   "execution_count": 32,
   "id": "301db05f",
   "metadata": {
    "scrolled": true
   },
   "outputs": [
    {
     "name": "stdout",
     "output_type": "stream",
     "text": [
      "    Fault            FraudFound_P    Total Accidents    Percentage by Fault    Percentage by Total\n",
      "--  -------------  --------------  -----------------  ---------------------  ---------------------\n",
      " 0  Policy Holder             886              11229                  7.89                   5.746\n",
      " 1  Third Party                37               4190                  0.883                  0.24\n",
      " 2  Column total              923              15419                  8.773                  5.986\n",
      " \n",
      "    Deductible      FraudFound_P    Total Accidents    Percentage by Deductible    Percentage by Total\n",
      "--  ------------  --------------  -----------------  --------------------------  ---------------------\n",
      " 0  300                        2                  8                      25                      0.013\n",
      " 1  400                      856              14837                       5.769                  5.552\n",
      " 2  500                       47                263                      17.871                  0.305\n",
      " 3  700                       18                311                       5.788                  0.117\n",
      " 4  Column total             923              15419                      54.428                  5.987\n",
      " \n"
     ]
    },
    {
     "data": {
      "image/png": "[encoded data removed]",
      "text/plain": [
       "<Figure size 1584x432 with 2 Axes>"
      ]
     },
     "metadata": {
      "needs_background": "light"
     },
     "output_type": "display_data"
    }
   ],
   "source": [
    "#plotting by FraudFound, looking to see if there are anything obvious that correlates to fraud\n",
    "gpd_val1=df2.groupby('Fault').agg({'FraudFound_P':'sum'}).reset_index()\n",
    "gpd_val2=df2.groupby('Deductible').agg({'FraudFound_P':'sum'}).reset_index()\n",
    "#gpd_val3=df2.groupby('AddressChange_Claim').agg({'FraudFound_P':'sum'}).reset_index()\n",
    "\n",
    "gpd_valc1=df2.groupby('Fault').agg('count').reset_index()\n",
    "gpd_valc2=df2.groupby('Deductible').agg('count').reset_index()\n",
    "#gpd_valc3=df2.groupby('AddressChange_Claim').agg('count').reset_index()\n",
    "\n",
    "fig, (ax1,ax2) = plt.subplots(1,2,figsize=(22, 6))\n",
    "sns.barplot(x='Fault', y='FraudFound_P', data = gpd_val1, ax=ax1)\n",
    "sns.barplot(x='Deductible', y='FraudFound_P', data = gpd_val2, ax=ax2)\n",
    "#sns.barplot(x='AddressChange_Claim', y='FraudFound_P', data = gpd_val3, ax=ax2)\n",
    "\n",
    "part_list=[gpd_val1, gpd_val2]\n",
    "counts_lst=[gpd_valc1,gpd_valc2]\n",
    "srch_gp=['Fault','Deductible']\n",
    "total_list=[]\n",
    "for i in range(len(counts_lst)):\n",
    "    temp1 = counts_lst[i]\n",
    "    gby=srch_gp[i]\n",
    "    temp2=  pd.concat([part_list[i], temp1['FraudFound_P'].rename('Total Accidents')],axis=1) \n",
    "    temp2['Percentage by {}'.format(gby)]= round((temp2['FraudFound_P']/temp2['Total Accidents'])*100,3)\n",
    "    temp2['Percentage by Total'] = round((temp2['FraudFound_P']/sum(temp2['Total Accidents']))*100,3)\n",
    "    \n",
    "    temp3 = [['Column total'],\n",
    "        [sum(temp2['FraudFound_P'])], \n",
    "        [sum(temp2['Total Accidents'])], \n",
    "        [sum(temp2['Percentage by {}'.format(gby)])], \n",
    "        [sum(temp2['Percentage by Total'])]]\n",
    "\n",
    "    nr1 = pd.DataFrame(temp3)\n",
    "    nr1 = nr1.transpose()\n",
    "    nr1.rename(columns={0:'{}'.format(gby),1:'FraudFound_P',2:'Total Accidents',3:'Percentage by {}'.format(gby),4:'Percentage by Total'}, inplace=True)\n",
    "    total_list.append(pd.concat([temp2,nr1],ignore_index=True))\n",
    "\n",
    "for ii in range(len(total_list)):\n",
    "    print(tabulate(total_list[ii], headers=total_list[ii].columns))\n",
    "    print(' ')"
   ]
  },
  {
   "cell_type": "code",
   "execution_count": 33,
   "id": "6132c90c",
   "metadata": {},
   "outputs": [
    {
     "data": {
      "image/png": "[encoded data removed]",
      "text/plain": [
       "<Figure size 1584x432 with 2 Axes>"
      ]
     },
     "metadata": {
      "needs_background": "light"
     },
     "output_type": "display_data"
    }
   ],
   "source": [
    "#VehiclePrice,  MonthCalimed\n",
    "gpd_val1=df2.groupby('VehiclePrice').agg({'FraudFound_P':'sum'}).reset_index()\n",
    "gpd_val3=df2.groupby('MonthClaimed').agg({'FraudFound_P':'sum'}).reset_index()\n",
    "\n",
    "\n",
    "fig, (ax1,ax3) = plt.subplots(1,2,figsize=(22, 6))\n",
    "grph1=sns.barplot(x='VehiclePrice', y='FraudFound_P', data = gpd_val1, ax=ax1)\n",
    "sns.barplot(x='MonthClaimed', y='FraudFound_P', data = gpd_val3, ax=ax3)\n",
    "\n",
    "grph1.set_xticklabels(grph1.get_xticklabels(),\n",
    "                    rotation=45,\n",
    "                    horizontalalignment='right'\n",
    "                    )\n",
    "None"
   ]
  },
  {
   "cell_type": "code",
   "execution_count": 34,
   "id": "6b588b22",
   "metadata": {},
   "outputs": [
    {
     "data": {
      "text/html": [
       "<div>\n",
       "<style scoped>\n",
       "    .dataframe tbody tr th:only-of-type {\n",
       "        vertical-align: middle;\n",
       "    }\n",
       "\n",
       "    .dataframe tbody tr th {\n",
       "        vertical-align: top;\n",
       "    }\n",
       "\n",
       "    .dataframe thead th {\n",
       "        text-align: right;\n",
       "    }\n",
       "</style>\n",
       "<table border=\"1\" class=\"dataframe\">\n",
       "  <thead>\n",
       "    <tr style=\"text-align: right;\">\n",
       "      <th></th>\n",
       "      <th>Make</th>\n",
       "      <th>FraudFound_P</th>\n",
       "      <th>Total Accidents</th>\n",
       "      <th>Percentage by Make</th>\n",
       "      <th>Percentage by Total</th>\n",
       "    </tr>\n",
       "  </thead>\n",
       "  <tbody>\n",
       "    <tr>\n",
       "      <th>0</th>\n",
       "      <td>Accura</td>\n",
       "      <td>59</td>\n",
       "      <td>472</td>\n",
       "      <td>12.5</td>\n",
       "      <td>0.383</td>\n",
       "    </tr>\n",
       "    <tr>\n",
       "      <th>1</th>\n",
       "      <td>BMW</td>\n",
       "      <td>1</td>\n",
       "      <td>15</td>\n",
       "      <td>6.667</td>\n",
       "      <td>0.006</td>\n",
       "    </tr>\n",
       "    <tr>\n",
       "      <th>2</th>\n",
       "      <td>Chevrolet</td>\n",
       "      <td>94</td>\n",
       "      <td>1681</td>\n",
       "      <td>5.592</td>\n",
       "      <td>0.61</td>\n",
       "    </tr>\n",
       "    <tr>\n",
       "      <th>3</th>\n",
       "      <td>Dodge</td>\n",
       "      <td>2</td>\n",
       "      <td>109</td>\n",
       "      <td>1.835</td>\n",
       "      <td>0.013</td>\n",
       "    </tr>\n",
       "    <tr>\n",
       "      <th>4</th>\n",
       "      <td>Ferrari</td>\n",
       "      <td>0</td>\n",
       "      <td>2</td>\n",
       "      <td>0.0</td>\n",
       "      <td>0.0</td>\n",
       "    </tr>\n",
       "    <tr>\n",
       "      <th>5</th>\n",
       "      <td>Ford</td>\n",
       "      <td>33</td>\n",
       "      <td>450</td>\n",
       "      <td>7.333</td>\n",
       "      <td>0.214</td>\n",
       "    </tr>\n",
       "    <tr>\n",
       "      <th>6</th>\n",
       "      <td>Honda</td>\n",
       "      <td>179</td>\n",
       "      <td>2800</td>\n",
       "      <td>6.393</td>\n",
       "      <td>1.161</td>\n",
       "    </tr>\n",
       "    <tr>\n",
       "      <th>7</th>\n",
       "      <td>Jaguar</td>\n",
       "      <td>0</td>\n",
       "      <td>6</td>\n",
       "      <td>0.0</td>\n",
       "      <td>0.0</td>\n",
       "    </tr>\n",
       "    <tr>\n",
       "      <th>8</th>\n",
       "      <td>Lexus</td>\n",
       "      <td>0</td>\n",
       "      <td>1</td>\n",
       "      <td>0.0</td>\n",
       "      <td>0.0</td>\n",
       "    </tr>\n",
       "    <tr>\n",
       "      <th>9</th>\n",
       "      <td>Mazda</td>\n",
       "      <td>123</td>\n",
       "      <td>2354</td>\n",
       "      <td>5.225</td>\n",
       "      <td>0.798</td>\n",
       "    </tr>\n",
       "    <tr>\n",
       "      <th>10</th>\n",
       "      <td>Mecedes</td>\n",
       "      <td>1</td>\n",
       "      <td>4</td>\n",
       "      <td>25.0</td>\n",
       "      <td>0.006</td>\n",
       "    </tr>\n",
       "    <tr>\n",
       "      <th>11</th>\n",
       "      <td>Mercury</td>\n",
       "      <td>6</td>\n",
       "      <td>83</td>\n",
       "      <td>7.229</td>\n",
       "      <td>0.039</td>\n",
       "    </tr>\n",
       "    <tr>\n",
       "      <th>12</th>\n",
       "      <td>Nisson</td>\n",
       "      <td>1</td>\n",
       "      <td>30</td>\n",
       "      <td>3.333</td>\n",
       "      <td>0.006</td>\n",
       "    </tr>\n",
       "    <tr>\n",
       "      <th>13</th>\n",
       "      <td>Pontiac</td>\n",
       "      <td>213</td>\n",
       "      <td>3837</td>\n",
       "      <td>5.551</td>\n",
       "      <td>1.381</td>\n",
       "    </tr>\n",
       "    <tr>\n",
       "      <th>14</th>\n",
       "      <td>Porche</td>\n",
       "      <td>0</td>\n",
       "      <td>5</td>\n",
       "      <td>0.0</td>\n",
       "      <td>0.0</td>\n",
       "    </tr>\n",
       "    <tr>\n",
       "      <th>15</th>\n",
       "      <td>Saab</td>\n",
       "      <td>11</td>\n",
       "      <td>108</td>\n",
       "      <td>10.185</td>\n",
       "      <td>0.071</td>\n",
       "    </tr>\n",
       "    <tr>\n",
       "      <th>16</th>\n",
       "      <td>Saturn</td>\n",
       "      <td>6</td>\n",
       "      <td>58</td>\n",
       "      <td>10.345</td>\n",
       "      <td>0.039</td>\n",
       "    </tr>\n",
       "    <tr>\n",
       "      <th>17</th>\n",
       "      <td>Toyota</td>\n",
       "      <td>186</td>\n",
       "      <td>3121</td>\n",
       "      <td>5.96</td>\n",
       "      <td>1.206</td>\n",
       "    </tr>\n",
       "    <tr>\n",
       "      <th>18</th>\n",
       "      <td>VW</td>\n",
       "      <td>8</td>\n",
       "      <td>283</td>\n",
       "      <td>2.827</td>\n",
       "      <td>0.052</td>\n",
       "    </tr>\n",
       "    <tr>\n",
       "      <th>19</th>\n",
       "      <td>Column total</td>\n",
       "      <td>923</td>\n",
       "      <td>15419</td>\n",
       "      <td>115.975</td>\n",
       "      <td>5.985</td>\n",
       "    </tr>\n",
       "  </tbody>\n",
       "</table>\n",
       "</div>"
      ],
      "text/plain": [
       "            Make FraudFound_P Total Accidents Percentage by Make  \\\n",
       "0         Accura           59             472               12.5   \n",
       "1            BMW            1              15              6.667   \n",
       "2      Chevrolet           94            1681              5.592   \n",
       "3          Dodge            2             109              1.835   \n",
       "4        Ferrari            0               2                0.0   \n",
       "5           Ford           33             450              7.333   \n",
       "6          Honda          179            2800              6.393   \n",
       "7         Jaguar            0               6                0.0   \n",
       "8          Lexus            0               1                0.0   \n",
       "9          Mazda          123            2354              5.225   \n",
       "10       Mecedes            1               4               25.0   \n",
       "11       Mercury            6              83              7.229   \n",
       "12        Nisson            1              30              3.333   \n",
       "13       Pontiac          213            3837              5.551   \n",
       "14        Porche            0               5                0.0   \n",
       "15          Saab           11             108             10.185   \n",
       "16        Saturn            6              58             10.345   \n",
       "17        Toyota          186            3121               5.96   \n",
       "18            VW            8             283              2.827   \n",
       "19  Column total          923           15419            115.975   \n",
       "\n",
       "   Percentage by Total  \n",
       "0                0.383  \n",
       "1                0.006  \n",
       "2                 0.61  \n",
       "3                0.013  \n",
       "4                  0.0  \n",
       "5                0.214  \n",
       "6                1.161  \n",
       "7                  0.0  \n",
       "8                  0.0  \n",
       "9                0.798  \n",
       "10               0.006  \n",
       "11               0.039  \n",
       "12               0.006  \n",
       "13               1.381  \n",
       "14                 0.0  \n",
       "15               0.071  \n",
       "16               0.039  \n",
       "17               1.206  \n",
       "18               0.052  \n",
       "19               5.985  "
      ]
     },
     "execution_count": 34,
     "metadata": {},
     "output_type": "execute_result"
    },
    {
     "data": {
      "image/png": "[encoded data removed]",
      "text/plain": [
       "<Figure size 1584x432 with 2 Axes>"
      ]
     },
     "metadata": {
      "needs_background": "light"
     },
     "output_type": "display_data"
    }
   ],
   "source": [
    "#plotting by FraudFound, looking to see if there are anything obvious that correlates to fraud\n",
    "gpd_val1=df2.groupby('Make').agg({'FraudFound_P':'sum'}).reset_index()\n",
    "gpd_val2=df2.groupby('Make').agg('count').reset_index()\n",
    "\n",
    "fig, (ax1,ax2) = plt.subplots(2,1,figsize=(22, 6))\n",
    "sns.barplot(x='Make', y='FraudFound_P', data = gpd_val1,ax=ax1)\n",
    "sns.barplot(x='Make', y='FraudFound_P', data = gpd_val2,ax=ax2)\n",
    "\n",
    "total_list = pd.concat([gpd_val1, gpd_val2['FraudFound_P'].rename('Total Accidents')],axis=1)\n",
    "total_list['Percentage by Make']= round((total_list['FraudFound_P']/total_list['Total Accidents'])*100,3)\n",
    "total_list['Percentage by Total'] = round((total_list['FraudFound_P']/sum(total_list['Total Accidents']))*100,3)\n",
    "\n",
    "ax2.set(ylabel='Total counts')\n",
    "\n",
    "data = [['Column total'],\n",
    "        [sum(total_list['FraudFound_P'])], \n",
    "        [sum(total_list['Total Accidents'])], \n",
    "        [sum(total_list['Percentage by Make'])], \n",
    "        [sum(total_list['Percentage by Total'])]]\n",
    "\n",
    "nr = pd.DataFrame(data)\n",
    "\n",
    "nr1 = nr.transpose()\n",
    "nr1.rename(columns={0:'Make',1:'FraudFound_P',2:'Total Accidents',3:'Percentage by Make',4:'Percentage by Total'}, inplace=True)\n",
    "pd.concat([total_list,nr1],ignore_index=True)\n",
    "                   \n",
    "#print(tabulate(total_list, headers=total_list.columns))\n",
    "                   \n",
    "                   "
   ]
  },
  {
   "cell_type": "code",
   "execution_count": 35,
   "id": "c0465e1f",
   "metadata": {},
   "outputs": [
    {
     "data": {
      "image/png": "[encoded data removed]",
      "text/plain": [
       "<Figure size 1584x432 with 3 Axes>"
      ]
     },
     "metadata": {
      "needs_background": "light"
     },
     "output_type": "display_data"
    }
   ],
   "source": [
    "#AccidentArea, AgeOfPolicyHolder, Sex\n",
    "gpd_val1=df2.groupby('AccidentArea').agg({'FraudFound_P':'sum'}).reset_index()\n",
    "gpd_val2=df2.groupby('Age').agg({'FraudFound_P':'sum'}).reset_index()\n",
    "gpd_val3=df2.groupby('Sex').agg({'FraudFound_P':'sum'}).reset_index()\n",
    "\n",
    "\n",
    "fig, (ax1,ax2,ax3) = plt.subplots(1,3,figsize=(22, 6))\n",
    "sns.barplot(x='AccidentArea', y='FraudFound_P', data = gpd_val1, ax=ax1)\n",
    "grph2 = sns.barplot(x='Age', y='FraudFound_P', data = gpd_val2, ax=ax2)\n",
    "sns.barplot(x='Sex', y='FraudFound_P', data = gpd_val3, ax=ax3)\n",
    "\n",
    "grph2.set_xticklabels(grph2.get_xticklabels(),\n",
    "                    rotation=45,\n",
    "                    horizontalalignment='right'\n",
    "                    )\n",
    "None"
   ]
  },
  {
   "cell_type": "code",
   "execution_count": 35,
   "id": "6d995c9b",
   "metadata": {},
   "outputs": [
    {
     "data": {
      "image/png": "[encoded data removed]",
      "text/plain": [
       "<Figure size 1584x432 with 2 Axes>"
      ]
     },
     "metadata": {
      "needs_background": "light"
     },
     "output_type": "display_data"
    }
   ],
   "source": [
    "#Month, AgeOfVehicle\n",
    "gpd_val2=df2.groupby('Month').agg({'FraudFound_P':'sum'}).reset_index()\n",
    "gpd_val3=df2.groupby('AgeOfVehicle').agg({'FraudFound_P':'sum'}).reset_index()\n",
    "\n",
    "fig, (ax2,ax3) = plt.subplots(1,2,figsize=(22, 6))\n",
    "sns.barplot(x='Month', y='FraudFound_P', data = gpd_val2, ax=ax2)\n",
    "grph1 = sns.barplot(x='AgeOfVehicle', y='FraudFound_P', data = gpd_val3, ax=ax3)\n",
    "\n",
    "grph1.set_xticklabels(grph1.get_xticklabels(),\n",
    "                    rotation=45,\n",
    "                    horizontalalignment='right'\n",
    "                    )\n",
    "None"
   ]
  },
  {
   "cell_type": "code",
   "execution_count": 36,
   "id": "d1dc4eca",
   "metadata": {},
   "outputs": [
    {
     "name": "stdout",
     "output_type": "stream",
     "text": [
      "923\n"
     ]
    },
    {
     "data": {
      "image/png": "[encoded data removed]",
      "text/plain": [
       "<Figure size 1584x576 with 1 Axes>"
      ]
     },
     "metadata": {
      "needs_background": "light"
     },
     "output_type": "display_data"
    }
   ],
   "source": [
    "#plotting by FraudFound, looking to see if there are anything obvious that correlates to fraud\n",
    "gpd_val1=df2.groupby('Age').agg({'FraudFound_P':'sum'}).reset_index()\n",
    "print(gpd_val1['FraudFound_P'].sum())\n",
    "\n",
    "fig, (ax1) = plt.subplots(1,1,figsize=(22, 8))\n",
    "grph1=sns.barplot(x='Age', y='FraudFound_P', data = gpd_val1, ax=ax1)\n",
    "\n",
    "grph1.set_xticklabels(grph1.get_xticklabels(),\n",
    "                    rotation=45,\n",
    "                    horizontalalignment='right'\n",
    "                    )\n",
    "None"
   ]
  },
  {
   "cell_type": "code",
   "execution_count": 37,
   "id": "d30e6532",
   "metadata": {},
   "outputs": [
    {
     "data": {
      "text/plain": [
       "<AxesSubplot:xlabel='Days_Policy_Accident', ylabel='FraudFound_P'>"
      ]
     },
     "execution_count": 37,
     "metadata": {},
     "output_type": "execute_result"
    },
    {
     "data": {
      "image/png": "[encoded data removed]",
      "text/plain": [
       "<Figure size 1584x432 with 3 Axes>"
      ]
     },
     "metadata": {
      "needs_background": "light"
     },
     "output_type": "display_data"
    }
   ],
   "source": [
    "#AgentType, Year, Days_Policy_Accident\n",
    "#plotting by FraudFound, looking to see if there are anything obvious that correlates to fraud\n",
    "gpd_val1=df2.groupby('AgentType').agg({'FraudFound_P':'sum'}).reset_index()\n",
    "gpd_val2=df2.groupby('Year').agg({'FraudFound_P':'sum'}).reset_index()\n",
    "gpd_val3=df2.groupby('Days_Policy_Accident').agg({'FraudFound_P':'sum'}).reset_index()\n",
    "\n",
    "\n",
    "fig, (ax1,ax2,ax3) = plt.subplots(1,3,figsize=(22, 6))\n",
    "sns.barplot(x='AgentType', y='FraudFound_P', data = gpd_val1, ax=ax1)\n",
    "sns.barplot(x='Year', y='FraudFound_P', data = gpd_val2, ax=ax2)\n",
    "sns.barplot(x='Days_Policy_Accident', y='FraudFound_P', data = gpd_val3, ax=ax3)"
   ]
  },
  {
   "cell_type": "code",
   "execution_count": 38,
   "id": "fa8c4c01",
   "metadata": {},
   "outputs": [
    {
     "data": {
      "text/plain": [
       "<AxesSubplot:xlabel='DayOfWeek', ylabel='FraudFound_P'>"
      ]
     },
     "execution_count": 38,
     "metadata": {},
     "output_type": "execute_result"
    },
    {
     "data": {
      "image/png": "[encoded data removed]",
      "text/plain": [
       "<Figure size 1584x432 with 2 Axes>"
      ]
     },
     "metadata": {
      "needs_background": "light"
     },
     "output_type": "display_data"
    }
   ],
   "source": [
    "#PoliceReportFiled, Days_Policy_Claim, DayOfWeek\n",
    "#plotting by FraudFound, looking to see if there are anything obvious that correlates to fraud\n",
    "gpd_val1=df2.groupby('PoliceReportFiled').agg({'FraudFound_P':'sum'}).reset_index()\n",
    "gpd_val2=df2.groupby('DayOfWeek').agg({'FraudFound_P':'sum'}).reset_index()\n",
    "\n",
    "\n",
    "fig, (ax1,ax2) = plt.subplots(1,2,figsize=(22, 6))\n",
    "sns.barplot(x='PoliceReportFiled', y='FraudFound_P', data = gpd_val1, ax=ax1)\n",
    "sns.barplot(x='DayOfWeek', y='FraudFound_P', data = gpd_val2, ax=ax2)"
   ]
  },
  {
   "cell_type": "code",
   "execution_count": 39,
   "id": "582a98fa",
   "metadata": {},
   "outputs": [
    {
     "data": {
      "text/plain": [
       "<AxesSubplot:xlabel='DayOfWeekClaimed', ylabel='FraudFound_P'>"
      ]
     },
     "execution_count": 39,
     "metadata": {},
     "output_type": "execute_result"
    },
    {
     "data": {
      "image/png": "[encoded data removed]",
      "text/plain": [
       "<Figure size 1584x432 with 3 Axes>"
      ]
     },
     "metadata": {
      "needs_background": "light"
     },
     "output_type": "display_data"
    }
   ],
   "source": [
    "#WitnessPresent, WeekOfMonthClaimed, DayOfWeekClaimed\n",
    "#plotting by FraudFound, looking to see if there are anything obvious that correlates to fraud\n",
    "gpd_val1=df2.groupby('WitnessPresent').agg({'FraudFound_P':'sum'}).reset_index()\n",
    "gpd_val2=df2.groupby('WeekOfMonthClaimed').agg({'FraudFound_P':'sum'}).reset_index()\n",
    "gpd_val3=df2.groupby('DayOfWeekClaimed').agg({'FraudFound_P':'sum'}).reset_index()\n",
    "\n",
    "\n",
    "fig, (ax1,ax2,ax3) = plt.subplots(1,3,figsize=(22, 6))\n",
    "sns.barplot(x='WitnessPresent', y='FraudFound_P', data = gpd_val1, ax=ax1)\n",
    "sns.barplot(x='WeekOfMonthClaimed', y='FraudFound_P', data = gpd_val2, ax=ax2)\n",
    "sns.barplot(x='DayOfWeekClaimed', y='FraudFound_P', data = gpd_val3, ax=ax3)"
   ]
  },
  {
   "cell_type": "code",
   "execution_count": 42,
   "id": "0d0f1f0e",
   "metadata": {},
   "outputs": [
    {
     "data": {
      "text/plain": [
       "<AxesSubplot:xlabel='NumberOfCars', ylabel='FraudFound_P'>"
      ]
     },
     "execution_count": 42,
     "metadata": {},
     "output_type": "execute_result"
    },
    {
     "data": {
      "image/png": "[encoded data removed]",
      "text/plain": [
       "<Figure size 1584x432 with 3 Axes>"
      ]
     },
     "metadata": {
      "needs_background": "light"
     },
     "output_type": "display_data"
    }
   ],
   "source": [
    "#DriverRating, WeekOfMonth, NumberOfCars\n",
    "#plotting by FraudFound, looking to see if there are anything obvious that correlates to fraud\n",
    "gpd_val1=df2.groupby('DriverRating').agg({'FraudFound_P':'sum'}).reset_index()\n",
    "gpd_val2=df2.groupby('WeekOfMonth').agg({'FraudFound_P':'sum'}).reset_index()\n",
    "gpd_val3=df2.groupby('NumberOfCars').agg({'FraudFound_P':'sum'}).reset_index()\n",
    "\n",
    "\n",
    "fig, (ax1,ax2,ax3) = plt.subplots(1,3,figsize=(22, 6))\n",
    "sns.barplot(x='DriverRating', y='FraudFound_P', data = gpd_val1, ax=ax1)\n",
    "sns.barplot(x='WeekOfMonth', y='FraudFound_P', data = gpd_val2, ax=ax2)\n",
    "sns.barplot(x='NumberOfCars', y='FraudFound_P', data = gpd_val3, ax=ax3)"
   ]
  },
  {
   "cell_type": "code",
   "execution_count": 40,
   "id": "6cb71357",
   "metadata": {},
   "outputs": [
    {
     "data": {
      "text/plain": [
       "<AxesSubplot:xlabel='NumberOfCars', ylabel='FraudFound_P'>"
      ]
     },
     "execution_count": 40,
     "metadata": {},
     "output_type": "execute_result"
    },
    {
     "data": {
      "image/png": "[encoded data removed]",
      "text/plain": [
       "<Figure size 1584x432 with 3 Axes>"
      ]
     },
     "metadata": {
      "needs_background": "light"
     },
     "output_type": "display_data"
    }
   ],
   "source": [
    "#DriverRating, WeekOfMonth, NumberOfCars\n",
    "#plotting by FraudFound, looking to see if there are anything obvious that correlates to fraud\n",
    "gpd_val1=df2.groupby('DriverRating').agg({'FraudFound_P':'sum'}).reset_index()\n",
    "gpd_val2=df2.groupby('WeekOfMonth').agg({'FraudFound_P':'sum'}).reset_index()\n",
    "gpd_val3=df2.groupby('NumberOfCars').agg({'FraudFound_P':'sum'}).reset_index()\n",
    "\n",
    "\n",
    "fig, (ax1,ax2,ax3) = plt.subplots(1,3,figsize=(22, 6))\n",
    "sns.barplot(x='DriverRating', y='FraudFound_P', data = gpd_val1, ax=ax1)\n",
    "sns.barplot(x='WeekOfMonth', y='FraudFound_P', data = gpd_val2, ax=ax2)\n",
    "sns.barplot(x='NumberOfCars', y='FraudFound_P', data = gpd_val3, ax=ax3)"
   ]
  },
  {
   "cell_type": "code",
   "execution_count": 41,
   "id": "7ea1b1fc",
   "metadata": {},
   "outputs": [
    {
     "data": {
      "text/plain": [
       "<AxesSubplot:xlabel='MaritalStatus', ylabel='FraudFound_P'>"
      ]
     },
     "execution_count": 41,
     "metadata": {},
     "output_type": "execute_result"
    },
    {
     "data": {
      "image/png": "[encoded data removed]",
      "text/plain": [
       "<Figure size 864x432 with 1 Axes>"
      ]
     },
     "metadata": {
      "needs_background": "light"
     },
     "output_type": "display_data"
    }
   ],
   "source": [
    "#plotting by FraudFound, looking to see if there are anything obvious that correlates to fraud\n",
    "gpd_val1=df2.groupby('MaritalStatus').agg({'FraudFound_P':'sum'}).reset_index()\n",
    "#gpd_val2=df2.groupby('MaritalStatus').agg('count').reset_index()\n",
    "\n",
    "fig, (ax1) = plt.subplots(1,1,figsize=(12, 6))\n",
    "sns.barplot(x='MaritalStatus', y='FraudFound_P', data = gpd_val1, ax=ax1)\n",
    "#sns.barplot(x='MaritalStatus', y='FraudFound_P', data = gpd_val2, ax=ax2)\n"
   ]
  },
  {
   "cell_type": "code",
   "execution_count": 42,
   "id": "15773456",
   "metadata": {},
   "outputs": [],
   "source": [
    "X=df2.drop('FraudFound_P',axis=1).copy()\n",
    "y=df2['FraudFound_P'].copy()"
   ]
  },
  {
   "cell_type": "code",
   "execution_count": 44,
   "id": "ab8a9d95",
   "metadata": {},
   "outputs": [],
   "source": [
    "#Encoding of variables and grouping them categorical , so to  we avoid lots of null values\n",
    "cols = ['AccidentArea', 'Sex', 'Fault', 'PoliceReportFiled', 'WitnessPresent', 'AgentType']\n",
    "#replaced by 1\n",
    "y_val = ['Urban','Female','Policy Holder', 'Yes', 'Yes','External']\n",
    "#replaced by 0\n",
    "x_val = ['Rural', 'Male', 'Third Party', 'No', 'No', 'Internal']\n",
    "\n",
    "\n",
    "\n",
    "for i in range(len(cols)):\n",
    "    X_idx1 = X[cols[i]]==y_val[i]\n",
    "    X_idx2 = X[cols[i]]==x_val[i]\n",
    "\n",
    "    X.loc[list(X_idx1),cols[i]]=1\n",
    "    X.loc[list(X_idx2),cols[i]]=0"
   ]
  },
  {
   "cell_type": "code",
   "execution_count": 45,
   "id": "09a35aea",
   "metadata": {},
   "outputs": [],
   "source": [
    "for i in range(len(cols)):\n",
    "    X[cols[i]] = X[cols[i]].astype('int')"
   ]
  },
  {
   "cell_type": "code",
   "execution_count": 46,
   "id": "fb0424d8",
   "metadata": {},
   "outputs": [
    {
     "data": {
      "text/plain": [
       "Month                   object\n",
       "WeekOfMonth              int64\n",
       "DayOfWeek               object\n",
       "Make                    object\n",
       "AccidentArea             int32\n",
       "DayOfWeekClaimed        object\n",
       "MonthClaimed            object\n",
       "WeekOfMonthClaimed       int64\n",
       "Sex                      int32\n",
       "MaritalStatus           object\n",
       "Age                      int64\n",
       "Fault                    int32\n",
       "PolicyType              object\n",
       "VehicleCategory         object\n",
       "VehiclePrice            object\n",
       "PolicyNumber             int64\n",
       "RepNumber                int64\n",
       "Deductible               int64\n",
       "DriverRating             int64\n",
       "Days_Policy_Accident    object\n",
       "AgeOfVehicle            object\n",
       "PoliceReportFiled        int32\n",
       "WitnessPresent           int32\n",
       "AgentType                int32\n",
       "NumberOfCars            object\n",
       "Year                     int64\n",
       "dtype: object"
      ]
     },
     "execution_count": 46,
     "metadata": {},
     "output_type": "execute_result"
    }
   ],
   "source": [
    "X.dtypes"
   ]
  },
  {
   "cell_type": "code",
   "execution_count": 47,
   "id": "9a4734cb",
   "metadata": {},
   "outputs": [],
   "source": [
    "#we use ordinal encoder from catergory_encoders to mapp our variables.\n",
    "col_ordering = [{'col':'Month','mapping':{'Jan':1,'Feb':2,'Mar':3,'Apr':4,'May':5,'Jun':6,'Jul':7,'Aug':8,'Sep':9,'Oct':10,'Nov':11,'Dec':12}},\n",
    "    {'col':'DayOfWeek','mapping':{'Monday':1,'Tuesday':2,'Wednesday':3,'Thursday':4,'Friday':5,'Saturday':6,'Sunday':7}},\n",
    "    {'col':'Make','mapping':{'Honda':1,'Toyota':2,'BMW':3,'VW':4,'Mazda':5,'Mecedes':6,'Nisson':7,'Ford':8,'Chevrolet':9, 'Jaguar':10,' Lexus':11, 'Other':12}},\n",
    "    {'col':'DayOfWeekClaimed','mapping':{'Monday':1,'Tuesday':2,'Wednesday':3,'Thursday':4,'Friday':5,'Saturday':6,'Sunday':7}},\n",
    "    {'col':'MonthClaimed','mapping':{'Jan':1,'Feb':2,'Mar':3,'Apr':4,'May':5,'Jun':6,'Jul':7,'Aug':8,'Sep':9,'Oct':10,'Nov':11,'Dec':12}},\n",
    "    {'col':'MaritalStatus','mapping':{'Married':1 ,'Single':2,'Widow':3,'Divorced':4 }},\n",
    "    {'col':'PolicyType','mapping':{'Sedan - All Perils':1 ,'Sedan - Collision':2,'Sedan - Liability':3,'Sport - All Perils':4,'Sport - Collision':5,'Sport - Liability':6,'Utility - All Perils':7,'Utility - Collision':8,'Utility - Liability':9,'Other':10 }},\n",
    "    {'col':'VehicleCategory','mapping':{'Sedan':1 ,'Sport ':2,'Utility ':3,'Other':4}},\n",
    "    {'col':'VehiclePrice','mapping':{'more than 69000':69001,'20000 to 29000':24500,'30000 to 39000':34500,'less than 20000':19999,\n",
    "                                     '40000 to 59000':49500,'60000 to 69000':64500}},\n",
    "    {'col':'AgeOfVehicle','mapping':{'3 years':3,'6 years':6,'7 years':7,'more than 7':8,'5 years':5,'new':0,'4 years':4,'2 years':2}},\n",
    "]\n",
    "ord_encoder = OrdinalEncoder(mapping = col_ordering, return_df=True)\n"
   ]
  },
  {
   "cell_type": "code",
   "execution_count": 48,
   "id": "c22cdbd3",
   "metadata": {},
   "outputs": [],
   "source": [
    "X2 = ord_encoder.fit_transform(X)"
   ]
  },
  {
   "cell_type": "code",
   "execution_count": 49,
   "id": "fcef67d1",
   "metadata": {},
   "outputs": [],
   "source": [
    "col_map = [{'Days_Policy_Accident':{'more than 30':31,'15 to 30':22.5,'none':0,'1 to 7':4,'8 to 15':11.5}},\n",
    "    {'Days_Policy_Claim':{'more than 30':31,'15 to 30':22.5,'8 to 15':11.5,'none':0}},\n",
    "    {'NumberOfCars':{'3 to 4':3.5,'1 vehicle':1,'2 vehicles':2,'5 to 8':6.5,'more than 8':9}},\n",
    "]\n",
    "\n",
    "X3 = X2.copy()\n",
    "for i in range(len(col_map)):\n",
    "    X3.replace(col_map[i], inplace=True)"
   ]
  },
  {
   "cell_type": "code",
   "execution_count": 50,
   "id": "441d9362",
   "metadata": {
    "scrolled": true
   },
   "outputs": [
    {
     "data": {
      "text/plain": [
       "Month                     int32\n",
       "WeekOfMonth               int64\n",
       "DayOfWeek                 int32\n",
       "Make                    float64\n",
       "AccidentArea              int32\n",
       "DayOfWeekClaimed          int32\n",
       "MonthClaimed              int32\n",
       "WeekOfMonthClaimed        int64\n",
       "Sex                       int32\n",
       "MaritalStatus             int32\n",
       "Age                       int64\n",
       "Fault                     int32\n",
       "PolicyType                int32\n",
       "VehicleCategory         float64\n",
       "VehiclePrice              int32\n",
       "PolicyNumber              int64\n",
       "RepNumber                 int64\n",
       "Deductible                int64\n",
       "DriverRating              int64\n",
       "Days_Policy_Accident    float64\n",
       "AgeOfVehicle              int32\n",
       "PoliceReportFiled         int32\n",
       "WitnessPresent            int32\n",
       "AgentType                 int32\n",
       "NumberOfCars            float64\n",
       "Year                      int64\n",
       "dtype: object"
      ]
     },
     "execution_count": 50,
     "metadata": {},
     "output_type": "execute_result"
    }
   ],
   "source": [
    "X3.dtypes"
   ]
  },
  {
   "cell_type": "code",
   "execution_count": 51,
   "id": "1bc4653d",
   "metadata": {},
   "outputs": [],
   "source": [
    "#this code takes our data after cleaning and splits it into the testing set and training set\n",
    "\n",
    "X_train, X_test, y_train, y_test = train_test_split(X3, y,stratify=y, random_state=42)\n",
    "clf_dt_m1 = DecisionTreeClassifier(random_state=42)\n",
    "clf_dt1 = clf_dt_m1.fit(X_train, y_train)\n"
   ]
  },
  {
   "cell_type": "code",
   "execution_count": 52,
   "id": "24b7e924",
   "metadata": {},
   "outputs": [
    {
     "name": "stdout",
     "output_type": "stream",
     "text": [
      "This claim Detectected as fradulent\n",
      "Gini stats\n",
      "Accuracy: 0.9146562905317769\n",
      "balanced_accuracy: 0.6506282073335053\n",
      "brier_score_loss: 0.08534370946822309\n",
      "f1_score: 0.32993890020366595\n",
      "recall_score: 0.35064935064935066\n",
      "precision_score: 0.31153846153846154\n",
      "roc_auc_score: 0.6506282073335053\n"
     ]
    },
    {
     "name": "stderr",
     "output_type": "stream",
     "text": [
      "c:\\Users\\lumkile\\AppData\\Local\\Programs\\Python\\Python310\\lib\\site-packages\\sklearn\\base.py:450: UserWarning: X does not have valid feature names, but DecisionTreeClassifier was fitted with feature names\n",
      "  warnings.warn(\n"
     ]
    }
   ],
   "source": [
    "y_pred_gini = clf_dt1.predict(X_test)\n",
    "# Pickle model \n",
    "pd.to_pickle(clf_dt1,r'c:\\Users\\lumkile\\Desktop\\Django\\thariauth\\clients\\fraud_model.pickle')\n",
    "\n",
    "# Unpickle model \n",
    "clf_dt1 = pd.read_pickle(r'c:\\Users\\lumkile\\Desktop\\Django\\thariauth\\clients\\fraud_model.pickle') \n",
    "# read a pickle pd.read_pickle('model.pkl')\n",
    "\n",
    "\n",
    "# Take input from user\n",
    "Month = int(input(\"Enter Month: \"))\n",
    "\n",
    "WeekOfMonth = int(input(\"Enter Week Of Month: \"))\n",
    "\n",
    "DayOfWeek = int(input(\"Enter Day Of Week: \"))\n",
    "\n",
    "Make= float(input(\"Enter Make : \"))\n",
    "\n",
    "AccidentArea  = int(input(\"Enter AccidentArea : \"))\n",
    "\n",
    "DayOfWeekClaimed  = int(input(\"Enter Day Of WeekClaimed : \"))\n",
    "\n",
    "MonthClaimed = int(input(\"Enter MonthClaimed: \"))\n",
    "\n",
    "WeekOfMonthClaimed = int(input(\"Enter WeekOfMonthClaimed: \"))\n",
    "\n",
    "Sex   = int(input(\"Enter Sex : \"))\n",
    "\n",
    "MaritalStatus  = int(input(\"Enter MaritalStatus : \"))\n",
    "\n",
    "Age  = int(input(\"Enter age: \"))\n",
    "\n",
    "Fault  =int(input(\"Enter Fault : \"))\n",
    "\n",
    "PolicyType  = int(input(\"Enter PolicyType : \"))\n",
    "\n",
    "VehicleCategory  = float(input(\"Enter VehicleCategory : \"))\n",
    "\n",
    "VehiclePrice  = int(input(\"Enter VehiclePrice : \"))\n",
    "\n",
    "PolicyNumber = int(input(\"Enter PolicyNumber: \"))\n",
    "\n",
    "RepNumber  = int(input(\"Enter RepNumber : \"))\n",
    "\n",
    "Deductible = int(input(\"Enter Deductible: \"))\n",
    "\n",
    "DriverRating  = int(input(\"Enter DriverRating : \"))\n",
    "\n",
    "Days_Policy_Accident  = float(input(\"Enter Days_Policy_Accident : \"))\n",
    "\n",
    "AgeOfVehicle = int(input(\"Enter AgeOfVehicle: \"))\n",
    "\n",
    "PoliceReportFiled  = int(input(\"Enter PoliceReportFiled : \"))\n",
    "\n",
    "WitnessPresent = int(input(\"Enter WitnessPresent: \"))\n",
    "\n",
    "AgentType = int(input(\"Enter AgentType: \"))\n",
    "\n",
    "NumberOfCars = float(input(\"Enter NumberOfCars: \"))\n",
    "\n",
    "Year = int(input(\"Enter Year: \"))\n",
    "\n",
    "result = clf_dt1.predict([[Month ,WeekOfMonth ,DayOfWeek ,Make,AccidentArea,DayOfWeekClaimed,MonthClaimed,WeekOfMonthClaimed,Sex,MaritalStatus,Age,Fault,PolicyType, VehicleCategory , VehiclePrice,PolicyNumber,RepNumber,Deductible,DriverRating,Days_Policy_Accident, AgeOfVehicle,PoliceReportFiled,WitnessPresent,AgentType,NumberOfCars,Year   ]])  # input must be 2D array\n",
    "if result==1:\n",
    "    \n",
    "    print(\"This claim Detectected as Legitemate Claim\")\n",
    "    \n",
    "else:\n",
    "    print(\"This claim Detectected as fradulent\")\n",
    "\n",
    "print('Gini stats')\n",
    "print(\"Accuracy:\",metrics.accuracy_score(y_test, y_pred_gini))\n",
    "print(\"balanced_accuracy:\",metrics.balanced_accuracy_score(y_test, y_pred_gini))\n",
    "print(\"brier_score_loss:\",metrics.brier_score_loss(y_test, y_pred_gini))\n",
    "print(\"f1_score:\",metrics.f1_score(y_test,y_pred_gini))\n",
    "print(\"recall_score:\",metrics.recall_score(y_test, y_pred_gini))\n",
    "print(\"precision_score:\",metrics.precision_score(y_test, y_pred_gini))\n",
    "print(\"roc_auc_score:\",metrics.roc_auc_score(y_test, y_pred_gini))\n"
   ]
  },
  {
   "cell_type": "markdown",
   "id": "b3513c9b",
   "metadata": {},
   "source": [
    "#Looking at the above metrics, it is clear that our tree is having trouble identifying the true positves (recall score of .372). This led me to the decision try applying some ensemble and boosting methods to get better results."
   ]
  },
  {
   "cell_type": "code",
   "execution_count": 61,
   "id": "a22df6f0",
   "metadata": {},
   "outputs": [
    {
     "name": "stderr",
     "output_type": "stream",
     "text": [
      "c:\\Users\\lumkile\\AppData\\Local\\Programs\\Python\\Python310\\lib\\site-packages\\sklearn\\utils\\deprecation.py:87: FutureWarning: Function plot_confusion_matrix is deprecated; Function `plot_confusion_matrix` is deprecated in 1.0 and will be removed in 1.2. Use one of the class methods: ConfusionMatrixDisplay.from_predictions or ConfusionMatrixDisplay.from_estimator.\n",
      "  warnings.warn(msg, category=FutureWarning)\n"
     ]
    },
    {
     "name": "stdout",
     "output_type": "stream",
     "text": [
      "True Negatives: 3445\n",
      "False Postives: 179\n",
      "False Negatives: 150\n",
      "True Positive: 81\n",
      "Recall: 0.35064935064935066\n",
      "Precision: 0.31153846153846154\n",
      "Prevalence: 0.05992217898832685\n"
     ]
    },
    {
     "data": {
      "image/png": "[encoded data removed]",
      "text/plain": [
       "<Figure size 1080x504 with 3 Axes>"
      ]
     },
     "metadata": {
      "needs_background": "light"
     },
     "output_type": "display_data"
    }
   ],
   "source": [
    "precision, recall, thresholds = metrics.precision_recall_curve(y_test, y_pred_gini)\n",
    "\n",
    "#this code plots the confusion matrix of our niave implementation of a decision tree\n",
    "fig, (ax1, ax2) = plt.subplots(1, 2, figsize=(15, 7))\n",
    "fig.tight_layout(pad=5.0)\n",
    "metrics.plot_confusion_matrix(clf_dt1, X_test, y_test, display_labels=[\"Not Fraudulent Claim\", \"Fraudulent Claim\"], ax=ax1)\n",
    "tn, fp, fn, tp = metrics.confusion_matrix(y_test, y_pred_gini).ravel()\n",
    "\n",
    "ax2.step(recall, precision, color='b', alpha=0.2, where='post')\n",
    "ax2.fill_between(recall, precision, step='post', alpha=0.2, color='b')\n",
    "ax2.set_xlabel('Recall')\n",
    "ax2.set_ylabel('Precision')\n",
    "ax2.set_ylim([0.0, 1.05])\n",
    "ax2.set_xlim([-0.005, 1.0])\n",
    "ax2.set_title('Precision-Recall curve:')\n",
    "\n",
    "\n",
    "print('True Negatives:', tn)\n",
    "print('False Postives:', fp)\n",
    "print('False Negatives:', fn)\n",
    "print('True Positive:', tp)\n",
    "print('Recall:', tp/(fn+tp))\n",
    "print('Precision:', tp/(fp+tp))\n",
    "print('Prevalence:', (fn+tp)/(tn+fp+fn+tp))"
   ]
  },
  {
   "cell_type": "code",
   "execution_count": 62,
   "id": "39aaa15e",
   "metadata": {},
   "outputs": [
    {
     "data": {
      "image/png": "[encoded data removed]",
      "text/plain": [
       "<Figure size 1080x1296 with 1 Axes>"
      ]
     },
     "metadata": {
      "needs_background": "light"
     },
     "output_type": "display_data"
    }
   ],
   "source": [
    "important_tree_features = clf_dt1.feature_importances_\n",
    "\n",
    "indices = np.argsort(important_tree_features)\n",
    "\n",
    "fig, ax = plt.subplots(figsize=(15, 18))\n",
    "ax.barh(range(len(important_tree_features)), important_tree_features[indices])\n",
    "ax.set_yticks(range(len(important_tree_features)))\n",
    "_ = ax.set_yticklabels(np.array(X_train.columns)[indices])"
   ]
  },
  {
   "cell_type": "code",
   "execution_count": 63,
   "id": "95486854",
   "metadata": {},
   "outputs": [],
   "source": [
    "classifiers = {\n",
    "    \"XGBClassifier\": XGBClassifier(use_label_encoder=False, objective= 'binary:logistic',eval_metric='aucpr'),\n",
    "}"
   ]
  },
  {
   "cell_type": "code",
   "execution_count": 64,
   "id": "5722a1d7",
   "metadata": {},
   "outputs": [
    {
     "name": "stdout",
     "output_type": "stream",
     "text": [
      "* XGBClassifier\n"
     ]
    },
    {
     "name": "stderr",
     "output_type": "stream",
     "text": [
      "C:\\Users\\lumkile\\AppData\\Local\\Temp\\ipykernel_2884\\2157334808.py:52: FutureWarning: The frame.append method is deprecated and will be removed from pandas in a future version. Use pandas.concat instead.\n",
      "  df_models = df_models.append(row, ignore_index=True)\n"
     ]
    }
   ],
   "source": [
    "df_models = pd.DataFrame(columns = ['model', \n",
    "                                    'run_time', \n",
    "                                    'avg_accy',\n",
    "                                    'avg_accy_std',  \n",
    "                                    'avg_recall',\n",
    "                                    'avg_recall_std',\n",
    "                                    'avg_precision',\n",
    "                                    'avg_precision_std',\n",
    "                                    'avg_f1',\n",
    "                                    'avg_f1_std',\n",
    "                                    'avg_matthew_corcoef',\n",
    "                                    'avg_matthew_corcoef_std',\n",
    "                                    'avg_roc_auc',\n",
    "                                    'avg_roc_auc_std', \n",
    "                                     ])\n",
    "\n",
    "\n",
    "scorer = {'accuracy_score':metrics.make_scorer(metrics.accuracy_score),\n",
    "          'f1_score':metrics.make_scorer(metrics.f1_score),\n",
    "          'recall_score':metrics.make_scorer(metrics.recall_score),\n",
    "          'precision_score':metrics.make_scorer(metrics.average_precision_score),\n",
    "          'matthew_corrcoef':metrics.make_scorer(metrics.matthews_corrcoef),\n",
    "          'roc_auc_score':metrics.make_scorer(metrics.roc_auc_score) \n",
    "         }\n",
    "\n",
    "for key in classifiers:\n",
    "    print('*', key)\n",
    "    start_time = time.time()\n",
    "    classifier = classifiers[key]\n",
    "    model = classifier.fit(X_train,y_train)\n",
    "    cvs = RepeatedStratifiedKFold(n_splits=10, n_repeats=3, random_state=42)\n",
    "    cv_scores = cross_validate(model, X_test, y_test, cv=cvs, scoring = scorer)\n",
    "    y_pred = model.predict(X_test)\n",
    "    \n",
    "    row = {\n",
    "        'model': key,\n",
    "        'run_time': format(round((time.time() - start_time)/60,2)),\n",
    "        'avg_accy': cv_scores['test_accuracy_score'].mean(),\n",
    "        'avg_accy_std': cv_scores['test_accuracy_score'].std(),\n",
    "        'avg_recall': cv_scores['test_recall_score'].mean(),\n",
    "        'avg_recall_std': cv_scores['test_recall_score'].std(),\n",
    "        'avg_precision': cv_scores['test_precision_score'].mean(),\n",
    "        'avg_precision_std': cv_scores['test_precision_score'].std(),\n",
    "        'avg_f1': cv_scores['test_f1_score'].mean(),\n",
    "        'avg_f1_std': cv_scores['test_f1_score'].std(),\n",
    "        'avg_matthew_corcoef': cv_scores['test_matthew_corrcoef'].mean(),\n",
    "        'avg_matthew_corcoef_std': cv_scores['test_matthew_corrcoef'].std(),\n",
    "        'avg_roc_auc': cv_scores['test_roc_auc_score'].mean(),\n",
    "        'avg_roc_auc_std': cv_scores['test_roc_auc_score'].std(),\n",
    "    }\n",
    "    \n",
    "    df_models = df_models.append(row, ignore_index=True)\n",
    "    \n",
    "    "
   ]
  },
  {
   "cell_type": "code",
   "execution_count": 1,
   "id": "d2ebef42",
   "metadata": {},
   "outputs": [
    {
     "ename": "NameError",
     "evalue": "name 'df_models' is not defined",
     "output_type": "error",
     "traceback": [
      "\u001b[1;31m---------------------------------------------------------------------------\u001b[0m",
      "\u001b[1;31mNameError\u001b[0m                                 Traceback (most recent call last)",
      "\u001b[1;32m~\\AppData\\Local\\Temp/ipykernel_6100/2705511859.py\u001b[0m in \u001b[0;36m<module>\u001b[1;34m\u001b[0m\n\u001b[1;32m----> 1\u001b[1;33m \u001b[0mdf_models\u001b[0m\u001b[1;33m.\u001b[0m\u001b[0mhead\u001b[0m\u001b[1;33m(\u001b[0m\u001b[1;33m)\u001b[0m\u001b[1;33m\u001b[0m\u001b[1;33m\u001b[0m\u001b[0m\n\u001b[0m",
      "\u001b[1;31mNameError\u001b[0m: name 'df_models' is not defined"
     ]
    }
   ],
   "source": [
    "df_models.head()"
   ]
  },
  {
   "cell_type": "code",
   "execution_count": null,
   "id": "e71cce76",
   "metadata": {},
   "outputs": [],
   "source": [
    "sm = SMOTE(random_state=42)\n",
    "X_train_res, y_train_res = sm.fit_resample(X_train, y_train)\n",
    "\n",
    "print(y_train.value_counts())\n",
    "print(y_train_res.value_counts())"
   ]
  },
  {
   "cell_type": "code",
   "execution_count": null,
   "id": "2e45edb2",
   "metadata": {},
   "outputs": [],
   "source": [
    "df_models_smote = pd.DataFrame(columns = ['model', \n",
    "                                    'run_time', \n",
    "                                    'avg_accy',\n",
    "                                    'avg_accy_std',  \n",
    "                                    'avg_recall',\n",
    "                                    'avg_recall_std',\n",
    "                                    'avg_precision',\n",
    "                                    'avg_precision_std',\n",
    "                                    'avg_f1',\n",
    "                                    'avg_f1_std',\n",
    "                                    'avg_matthew_corcoef',\n",
    "                                    'avg_matthew_corcoef_std',\n",
    "                                    'avg_roc_auc',\n",
    "                                    'avg_roc_auc_std', \n",
    "                                     ])\n",
    "\n",
    "\n",
    "scorer = {'accuracy_score':metrics.make_scorer(metrics.accuracy_score),\n",
    "          'f1_score':metrics.make_scorer(metrics.f1_score),\n",
    "          'recall_score':metrics.make_scorer(metrics.recall_score),\n",
    "          'precision_score':metrics.make_scorer(metrics.precision_score),\n",
    "          'matthew_corrcoef':metrics.make_scorer(metrics.matthews_corrcoef),\n",
    "          'roc_auc_score':metrics.make_scorer(metrics.roc_auc_score) \n",
    "         }\n",
    "\n",
    "for key in classifiers:\n",
    "    print('*', key)\n",
    "    start_time = time.time()\n",
    "    classifier = classifiers[key]\n",
    "    model = classifier.fit(X_train_res,y_train_res)     #<--- pass the SMOTE generate training data set\n",
    "    #scorer = metrics.make_scorer(metrics.recall_score)\n",
    "    #cv_scores = cross_val_score(model, X_test, y_test, cv=5, scoring=scorer)\n",
    "    cvs = RepeatedStratifiedKFold(n_splits=10, n_repeats=3, random_state=42)\n",
    "    cv_scores = cross_validate(model, X_test, y_test, cv=cvs, scoring = scorer)   #<--- tested the SMOTE trained model on original testing data\n",
    "    y_pred = model.predict(X_test)\n",
    "    \n",
    "    #print(model.get_params())\n",
    "    \n",
    "    row = {\n",
    "        'model': key,\n",
    "        'run_time': format(round((time.time() - start_time)/60,2)),\n",
    "        'avg_accy': cv_scores['test_accuracy_score'].mean(),\n",
    "        'avg_accy_std': cv_scores['test_accuracy_score'].std(),\n",
    "        'avg_recall': cv_scores['test_recall_score'].mean(),\n",
    "        'avg_recall_std': cv_scores['test_recall_score'].std(),\n",
    "        'avg_precision': cv_scores['test_precision_score'].mean(),\n",
    "        'avg_precision_std': cv_scores['test_precision_score'].std(),\n",
    "        'avg_f1': cv_scores['test_f1_score'].mean(),\n",
    "        'avg_f1_std': cv_scores['test_f1_score'].std(),\n",
    "        'avg_matthew_corcoef': cv_scores['test_matthew_corrcoef'].mean(),\n",
    "        'avg_matthew_corcoef_std': cv_scores['test_matthew_corrcoef'].std(),\n",
    "        'avg_roc_auc': cv_scores['test_roc_auc_score'].mean(),\n",
    "        'avg_roc_auc_std': cv_scores['test_roc_auc_score'].std(),\n",
    "    }\n",
    "    \n",
    "    df_models_smote = df_models_smote.append(row, ignore_index=True)"
   ]
  },
  {
   "cell_type": "code",
   "execution_count": null,
   "id": "8747602e",
   "metadata": {},
   "outputs": [],
   "source": [
    "df_models.head()\n"
   ]
  },
  {
   "cell_type": "code",
   "execution_count": null,
   "id": "b611cf21",
   "metadata": {},
   "outputs": [],
   "source": [
    "df_models_smote.head()"
   ]
  },
  {
   "cell_type": "code",
   "execution_count": 81,
   "id": "353b0ac5",
   "metadata": {},
   "outputs": [],
   "source": [
    "space={\n",
    "    'objective': 'binary:logistic',\n",
    "    #objective= 'binary:logistic', \n",
    "    'use_label_encoder': False,\n",
    "    #use_label_encoder= False, \n",
    "    'base_score': 0.5,\n",
    "    #base_score= 0.5, \n",
    "    'booster': 'gbtree',\n",
    "    #booster= 'gbtree', \n",
    "    'colsample_bylevel' : 1,\n",
    "    #colsample_bylevel= 1, \n",
    "    'colsample_bynode' : 1,\n",
    "    #colsample_bynode= 1, \n",
    "    'colsample_bytree' : 1,\n",
    "    #colsample_bytree= 1, \n",
    "    'enable_categorical': False,\n",
    "    #enable_categorical= False, \n",
    "    'gamma': hp.uniform('gamma', 0,10),\n",
    "    #gamma= 0, \n",
    "    'gpu_id': -1,\n",
    "    #gpu_id= -1,\n",
    "    'importance_type': None,\n",
    "    #importance_type= None, \n",
    "    'interaction_constraints': '',\n",
    "    #interaction_constraints= '', \n",
    "    'learning_rate': 0.300000012,\n",
    "    #learning_rate= 0.300000012, \n",
    "    'max_delta_step': 0,\n",
    "    #max_delta_step= 0, \n",
    "    'max_depth': hp.randint(\"max_depth\", 10)+3,\n",
    "    #max_depth= 6, \n",
    "    'min_child_weight' : hp.randint('min_child_weight', 4)+1,\n",
    "    #min_child_weight= 1, \n",
    "    #missing= 'nan', \n",
    "    'monotone_constraints': '()',\n",
    "    #monotone_constraints= '()',\n",
    "    'n_estimators': hp.randint('n_estimators', 150)+50,\n",
    "    #n_estimators= 100, \n",
    "    'n_jobs': 4,\n",
    "    #n_jobs= 4, \n",
    "    'num_parallel_tree':1,\n",
    "    #num_parallel_tree= 1, \n",
    "    'predictor':'auto',\n",
    "    #predictor= 'auto', \n",
    "    'random_state': 0,\n",
    "    #random_state= 0, \n",
    "    'reg_alpha' : hp.randint('reg_alpha', 10),\n",
    "    #reg_alpha= 0, \n",
    "    'reg_lambda' : hp.randint('reg_lambda', 10),\n",
    "    #reg_lambda= 1, \n",
    "    'scale_pos_weight': 1,\n",
    "    #scale_pos_weight= 1, \n",
    "    'subsample': 1,\n",
    "    #subsample= 1, \n",
    "    'tree_method': 'exact',\n",
    "    #tree_method= 'exact', \n",
    "    'validate_parameters':1,\n",
    "    #validate_parameters= 1, \n",
    "    'verbosity': None,\n",
    "    #verbosity= None, \n",
    "    'eval_metric': 'aucpr'\n",
    "    #eval_metric= 'aucpr'\n",
    "    }\n"
   ]
  },
  {
   "cell_type": "code",
   "execution_count": 82,
   "id": "c7a6bcde",
   "metadata": {},
   "outputs": [],
   "source": [
    "high_roc_scores = {}\n",
    "#model_num = 0\n",
    "\n",
    "def objective(space):\n",
    "    #model_num +=1\n",
    "    clf_model=XGBClassifier(**space)\n",
    "    fitted_model=clf_model.fit(X_train, y_train)\n",
    "    pred = fitted_model.predict(X_test)\n",
    "    \n",
    "    tn, fp, fn, tp = metrics.confusion_matrix(y_test, pred).ravel()\n",
    "    accuracy = metrics.accuracy_score(y_test, pred)\n",
    "    precision = metrics.precision_score(y_test, pred)\n",
    "    recall = metrics.recall_score(y_test, pred)\n",
    "    f1 = metrics.f1_score(y_test,pred)\n",
    "    matthew_corrcoef = metrics.matthews_corrcoef(y_test,pred),\n",
    "    roc_auc = metrics.roc_auc_score(y_test,pred)\n",
    "    avg_precision = metrics.average_precision_score(y_test, pred)\n",
    "    \n",
    "    rows = {'model': ' XGBClassifier',\n",
    "        'tp': [tp],\n",
    "        'tn': [tn],\n",
    "        'fp': [fp],\n",
    "        'fn': [fn],\n",
    "        'accuracy': [round(accuracy,3)],\n",
    "        'precision': [round(precision,3)],\n",
    "        'recall':[ round(recall,3)],\n",
    "        'f1': [round(f1,3)],\n",
    "        'matthews_coef': [round(matthew_corrcoef[0],3)],\n",
    "        'roc_auc': [round(roc_auc,3)],\n",
    "        'avg_pre': [round(avg_precision,3)],\n",
    "    }\n",
    "     \n",
    "    score_vals = pd.DataFrame(rows)\n",
    "    print(tabulate(score_vals, headers=score_vals.columns))\n",
    "    print(' ')\n",
    "    if round(roc_auc,3)>0.7:\n",
    "        high_roc_scores['Trial_model_{}'.format(time.time())]= [fitted_model.get_params(), score_vals]\n",
    "        print(' ')\n",
    "        print(fitted_model.get_params())\n",
    "        print(' ')\n",
    "        print(' ')\n",
    "        print(' ')\n",
    "    \n",
    "    return {'loss': -roc_auc, 'status': STATUS_OK }"
   ]
  },
  {
   "cell_type": "code",
   "execution_count": 83,
   "id": "a40290b8",
   "metadata": {},
   "outputs": [
    {
     "name": "stdout",
     "output_type": "stream",
     "text": [
      "    model            tp    tn    fp    fn    accuracy    precision    recall    f1    matthews_coef    roc_auc    avg_pre\n",
      "--  -------------  ----  ----  ----  ----  ----------  -----------  --------  ----  ---------------  ---------  ---------\n",
      " 0  XGBClassifier    82  3595    29   149       0.954        0.739     0.355  0.48            0.492      0.673      0.301\n",
      "    model            tp    tn    fp    fn    accuracy    precision    recall     f1    matthews_coef    roc_auc    avg_pre\n",
      "--  -------------  ----  ----  ----  ----  ----------  -----------  --------  -----  ---------------  ---------  ---------\n",
      " 0  XGBClassifier    82  3590    34   149       0.953        0.707     0.355  0.473             0.48      0.673       0.29\n",
      "    model            tp    tn    fp    fn    accuracy    precision    recall    f1    matthews_coef    roc_auc    avg_pre\n",
      "--  -------------  ----  ----  ----  ----  ----------  -----------  --------  ----  ---------------  ---------  ---------\n",
      " 0  XGBClassifier     0  3624     0   231        0.94            0         0     0                0        0.5       0.06\n",
      "  3%|▎         | 3/100 [00:17<09:03,  5.61s/trial, best loss: -0.6734880737364181]"
     ]
    },
    {
     "name": "stderr",
     "output_type": "stream",
     "text": [
      "C:\\Users\\lumkile\\anaconda3\\lib\\site-packages\\sklearn\\metrics\\_classification.py:1248: UndefinedMetricWarning: Precision is ill-defined and being set to 0.0 due to no predicted samples. Use `zero_division` parameter to control this behavior.\n",
      "  _warn_prf(average, modifier, msg_start, len(result))\n",
      "\n",
      "C:\\Users\\lumkile\\anaconda3\\lib\\site-packages\\sklearn\\metrics\\_classification.py:873: RuntimeWarning: invalid value encountered in double_scalars\n",
      "  mcc = cov_ytyp / np.sqrt(cov_ytyt * cov_ypyp)\n",
      "\n"
     ]
    },
    {
     "name": "stdout",
     "output_type": "stream",
     "text": [
      "    model            tp    tn    fp    fn    accuracy    precision    recall     f1    matthews_coef    roc_auc    avg_pre\n",
      "--  -------------  ----  ----  ----  ----  ----------  -----------  --------  -----  ---------------  ---------  ---------\n",
      " 0  XGBClassifier    25  3615     9   206       0.944        0.735     0.108  0.189            0.268      0.553      0.133\n",
      "    model            tp    tn    fp    fn    accuracy    precision    recall     f1    matthews_coef    roc_auc    avg_pre\n",
      "--  -------------  ----  ----  ----  ----  ----------  -----------  --------  -----  ---------------  ---------  ---------\n",
      " 0  XGBClassifier     3  3624     0   228       0.941            1     0.013  0.026            0.111      0.506      0.072\n",
      "    model            tp    tn    fp    fn    accuracy    precision    recall     f1    matthews_coef    roc_auc    avg_pre\n",
      "--  -------------  ----  ----  ----  ----  ----------  -----------  --------  -----  ---------------  ---------  ---------\n",
      " 0  XGBClassifier     5  3623     1   226       0.941        0.833     0.022  0.042            0.129      0.511      0.077\n",
      "    model            tp    tn    fp    fn    accuracy    precision    recall    f1    matthews_coef    roc_auc    avg_pre\n",
      "--  -------------  ----  ----  ----  ----  ----------  -----------  --------  ----  ---------------  ---------  ---------\n",
      " 0  XGBClassifier     6  3621     3   225       0.941        0.667     0.026  0.05            0.124      0.513      0.076\n",
      "    model            tp    tn    fp    fn    accuracy    precision    recall     f1    matthews_coef    roc_auc    avg_pre\n",
      "--  -------------  ----  ----  ----  ----  ----------  -----------  --------  -----  ---------------  ---------  ---------\n",
      " 0  XGBClassifier     7  3619     5   224       0.941        0.583      0.03  0.058            0.123      0.514      0.076\n",
      "    model            tp    tn    fp    fn    accuracy    precision    recall     f1    matthews_coef    roc_auc    avg_pre\n",
      "--  -------------  ----  ----  ----  ----  ----------  -----------  --------  -----  ---------------  ---------  ---------\n",
      " 0  XGBClassifier     7  3622     2   224       0.941        0.778      0.03  0.058            0.146      0.515      0.082\n",
      "    model            tp    tn    fp    fn    accuracy    precision    recall     f1    matthews_coef    roc_auc    avg_pre\n",
      "--  -------------  ----  ----  ----  ----  ----------  -----------  --------  -----  ---------------  ---------  ---------\n",
      " 0  XGBClassifier    19  3618     6   212       0.943         0.76     0.082  0.148            0.238       0.54      0.118\n",
      "    model            tp    tn    fp    fn    accuracy    precision    recall    f1    matthews_coef    roc_auc    avg_pre\n",
      "--  -------------  ----  ----  ----  ----  ----------  -----------  --------  ----  ---------------  ---------  ---------\n",
      " 0  XGBClassifier     0  3624     0   231        0.94            0         0     0                0        0.5       0.06\n",
      " 11%|█         | 11/100 [00:57<08:17,  5.59s/trial, best loss: -0.6734880737364181]"
     ]
    },
    {
     "name": "stderr",
     "output_type": "stream",
     "text": [
      "C:\\Users\\lumkile\\anaconda3\\lib\\site-packages\\sklearn\\metrics\\_classification.py:1248: UndefinedMetricWarning: Precision is ill-defined and being set to 0.0 due to no predicted samples. Use `zero_division` parameter to control this behavior.\n",
      "  _warn_prf(average, modifier, msg_start, len(result))\n",
      "\n",
      "C:\\Users\\lumkile\\anaconda3\\lib\\site-packages\\sklearn\\metrics\\_classification.py:873: RuntimeWarning: invalid value encountered in double_scalars\n",
      "  mcc = cov_ytyp / np.sqrt(cov_ytyt * cov_ypyp)\n",
      "\n"
     ]
    },
    {
     "name": "stdout",
     "output_type": "stream",
     "text": [
      "    model            tp    tn    fp    fn    accuracy    precision    recall     f1    matthews_coef    roc_auc    avg_pre\n",
      "--  -------------  ----  ----  ----  ----  ----------  -----------  --------  -----  ---------------  ---------  ---------\n",
      " 0  XGBClassifier    74  3596    28   157       0.952        0.725      0.32  0.444            0.462      0.656      0.273\n",
      "    model            tp    tn    fp    fn    accuracy    precision    recall     f1    matthews_coef    roc_auc    avg_pre\n",
      "--  -------------  ----  ----  ----  ----  ----------  -----------  --------  -----  ---------------  ---------  ---------\n",
      " 0  XGBClassifier    19  3618     6   212       0.943         0.76     0.082  0.148            0.238       0.54      0.118\n",
      "    model            tp    tn    fp    fn    accuracy    precision    recall     f1    matthews_coef    roc_auc    avg_pre\n",
      "--  -------------  ----  ----  ----  ----  ----------  -----------  --------  -----  ---------------  ---------  ---------\n",
      " 0  XGBClassifier    13  3619     5   218       0.942        0.722     0.056  0.104            0.191      0.527      0.097\n",
      "    model            tp    tn    fp    fn    accuracy    precision    recall     f1    matthews_coef    roc_auc    avg_pre\n",
      "--  -------------  ----  ----  ----  ----  ----------  -----------  --------  -----  ---------------  ---------  ---------\n",
      " 0  XGBClassifier    47  3610    14   184       0.949         0.77     0.203  0.322             0.38        0.6      0.204\n",
      "    model            tp    tn    fp    fn    accuracy    precision    recall     f1    matthews_coef    roc_auc    avg_pre\n",
      "--  -------------  ----  ----  ----  ----  ----------  -----------  --------  -----  ---------------  ---------  ---------\n",
      " 0  XGBClassifier    72  3601    23   159       0.953        0.758     0.312  0.442            0.467      0.653      0.277\n",
      "    model            tp    tn    fp    fn    accuracy    precision    recall     f1    matthews_coef    roc_auc    avg_pre\n",
      "--  -------------  ----  ----  ----  ----  ----------  -----------  --------  -----  ---------------  ---------  ---------\n",
      " 0  XGBClassifier    29  3609    15   202       0.944        0.659     0.126  0.211            0.271      0.561      0.135\n",
      "    model            tp    tn    fp    fn    accuracy    precision    recall    f1    matthews_coef    roc_auc    avg_pre\n",
      "--  -------------  ----  ----  ----  ----  ----------  -----------  --------  ----  ---------------  ---------  ---------\n",
      " 0  XGBClassifier     0  3624     0   231        0.94            0         0     0                0        0.5       0.06\n",
      " 18%|█▊        | 18/100 [01:25<05:54,  4.32s/trial, best loss: -0.6734880737364181]"
     ]
    },
    {
     "name": "stderr",
     "output_type": "stream",
     "text": [
      "C:\\Users\\lumkile\\anaconda3\\lib\\site-packages\\sklearn\\metrics\\_classification.py:1248: UndefinedMetricWarning: Precision is ill-defined and being set to 0.0 due to no predicted samples. Use `zero_division` parameter to control this behavior.\n",
      "  _warn_prf(average, modifier, msg_start, len(result))\n",
      "\n",
      "C:\\Users\\lumkile\\anaconda3\\lib\\site-packages\\sklearn\\metrics\\_classification.py:873: RuntimeWarning: invalid value encountered in double_scalars\n",
      "  mcc = cov_ytyp / np.sqrt(cov_ytyt * cov_ypyp)\n",
      "\n"
     ]
    },
    {
     "name": "stdout",
     "output_type": "stream",
     "text": [
      "    model            tp    tn    fp    fn    accuracy    precision    recall    f1    matthews_coef    roc_auc    avg_pre\n",
      "--  -------------  ----  ----  ----  ----  ----------  -----------  --------  ----  ---------------  ---------  ---------\n",
      " 0  XGBClassifier     0  3624     0   231        0.94            0         0     0                0        0.5       0.06\n",
      " 19%|█▉        | 19/100 [01:35<07:53,  5.85s/trial, best loss: -0.6734880737364181]"
     ]
    },
    {
     "name": "stderr",
     "output_type": "stream",
     "text": [
      "C:\\Users\\lumkile\\anaconda3\\lib\\site-packages\\sklearn\\metrics\\_classification.py:1248: UndefinedMetricWarning: Precision is ill-defined and being set to 0.0 due to no predicted samples. Use `zero_division` parameter to control this behavior.\n",
      "  _warn_prf(average, modifier, msg_start, len(result))\n",
      "\n",
      "C:\\Users\\lumkile\\anaconda3\\lib\\site-packages\\sklearn\\metrics\\_classification.py:873: RuntimeWarning: invalid value encountered in double_scalars\n",
      "  mcc = cov_ytyp / np.sqrt(cov_ytyt * cov_ypyp)\n",
      "\n"
     ]
    },
    {
     "name": "stdout",
     "output_type": "stream",
     "text": [
      "    model            tp    tn    fp    fn    accuracy    precision    recall    f1    matthews_coef    roc_auc    avg_pre\n",
      "--  -------------  ----  ----  ----  ----  ----------  -----------  --------  ----  ---------------  ---------  ---------\n",
      " 0  XGBClassifier     0  3624     0   231        0.94            0         0     0                0        0.5       0.06\n",
      " 20%|██        | 20/100 [01:36<05:49,  4.37s/trial, best loss: -0.6734880737364181]"
     ]
    },
    {
     "name": "stderr",
     "output_type": "stream",
     "text": [
      "C:\\Users\\lumkile\\anaconda3\\lib\\site-packages\\sklearn\\metrics\\_classification.py:1248: UndefinedMetricWarning: Precision is ill-defined and being set to 0.0 due to no predicted samples. Use `zero_division` parameter to control this behavior.\n",
      "  _warn_prf(average, modifier, msg_start, len(result))\n",
      "\n",
      "C:\\Users\\lumkile\\anaconda3\\lib\\site-packages\\sklearn\\metrics\\_classification.py:873: RuntimeWarning: invalid value encountered in double_scalars\n",
      "  mcc = cov_ytyp / np.sqrt(cov_ytyt * cov_ypyp)\n",
      "\n"
     ]
    },
    {
     "name": "stdout",
     "output_type": "stream",
     "text": [
      "    model            tp    tn    fp    fn    accuracy    precision    recall    f1    matthews_coef    roc_auc    avg_pre\n",
      "--  -------------  ----  ----  ----  ----  ----------  -----------  --------  ----  ---------------  ---------  ---------\n",
      " 0  XGBClassifier    79  3598    26   152       0.954        0.752     0.342  0.47            0.488      0.667      0.297\n",
      "    model            tp    tn    fp    fn    accuracy    precision    recall     f1    matthews_coef    roc_auc    avg_pre\n",
      "--  -------------  ----  ----  ----  ----  ----------  -----------  --------  -----  ---------------  ---------  ---------\n",
      " 0  XGBClassifier    41  3615     9   190       0.948         0.82     0.177  0.292            0.367      0.588      0.195\n",
      "    model            tp    tn    fp    fn    accuracy    precision    recall     f1    matthews_coef    roc_auc    avg_pre\n",
      "--  -------------  ----  ----  ----  ----  ----------  -----------  --------  -----  ---------------  ---------  ---------\n",
      " 0  XGBClassifier    95  3587    37   136       0.955         0.72     0.411  0.523            0.523      0.701      0.331\n",
      "{'objective': 'binary:logistic', 'use_label_encoder': False, 'base_score': 0.5, 'booster': 'gbtree', 'colsample_bylevel': 1, 'colsample_bynode': 1, 'colsample_bytree': 1, 'enable_categorical': False, 'gamma': 0.8182430734055948, 'gpu_id': -1, 'importance_type': None, 'interaction_constraints': '', 'learning_rate': 0.300000012, 'max_delta_step': 0, 'max_depth': 9, 'min_child_weight': 4, 'missing': nan, 'monotone_constraints': '()', 'n_estimators': 158, 'n_jobs': 4, 'num_parallel_tree': 1, 'predictor': 'auto', 'random_state': 0, 'reg_alpha': 1, 'reg_lambda': 3, 'scale_pos_weight': 1, 'subsample': 1, 'tree_method': 'exact', 'validate_parameters': 1, 'verbosity': None, 'eval_metric': 'aucpr'}\n",
      "    model            tp    tn    fp    fn    accuracy    precision    recall     f1    matthews_coef    roc_auc    avg_pre\n",
      "--  -------------  ----  ----  ----  ----  ----------  -----------  --------  -----  ---------------  ---------  ---------\n",
      " 0  XGBClassifier    34  3611    13   197       0.946        0.723     0.147  0.245            0.311      0.572      0.158\n",
      "    model            tp    tn    fp    fn    accuracy    precision    recall     f1    matthews_coef    roc_auc    avg_pre\n",
      "--  -------------  ----  ----  ----  ----  ----------  -----------  --------  -----  ---------------  ---------  ---------\n",
      " 0  XGBClassifier    86  3595    29   145       0.955        0.748     0.372  0.497            0.508      0.682      0.316\n",
      "    model            tp    tn    fp    fn    accuracy    precision    recall    f1    matthews_coef    roc_auc    avg_pre\n",
      "--  -------------  ----  ----  ----  ----  ----------  -----------  --------  ----  ---------------  ---------  ---------\n",
      " 0  XGBClassifier    42  3607    17   189       0.947        0.712     0.182  0.29            0.342      0.589      0.178\n",
      "    model            tp    tn    fp    fn    accuracy    precision    recall     f1    matthews_coef    roc_auc    avg_pre\n",
      "--  -------------  ----  ----  ----  ----  ----------  -----------  --------  -----  ---------------  ---------  ---------\n",
      " 0  XGBClassifier     5  3624     0   226       0.941            1     0.022  0.042            0.143      0.511       0.08\n",
      "    model            tp    tn    fp    fn    accuracy    precision    recall     f1    matthews_coef    roc_auc    avg_pre\n",
      "--  -------------  ----  ----  ----  ----  ----------  -----------  --------  -----  ---------------  ---------  ---------\n",
      " 0  XGBClassifier     5  3624     0   226       0.941            1     0.022  0.042            0.143      0.511       0.08\n",
      "    model            tp    tn    fp    fn    accuracy    precision    recall     f1    matthews_coef    roc_auc    avg_pre\n",
      "--  -------------  ----  ----  ----  ----  ----------  -----------  --------  -----  ---------------  ---------  ---------\n",
      " 0  XGBClassifier    88  3593    31   143       0.955        0.739     0.381  0.503            0.511      0.686      0.319\n",
      "    model            tp    tn    fp    fn    accuracy    precision    recall     f1    matthews_coef    roc_auc    avg_pre\n",
      "--  -------------  ----  ----  ----  ----  ----------  -----------  --------  -----  ---------------  ---------  ---------\n",
      " 0  XGBClassifier    91  3594    30   140       0.956        0.752     0.394  0.517            0.525      0.693      0.333\n",
      "    model            tp    tn    fp    fn    accuracy    precision    recall    f1    matthews_coef    roc_auc    avg_pre\n",
      "--  -------------  ----  ----  ----  ----  ----------  -----------  --------  ----  ---------------  ---------  ---------\n",
      " 0  XGBClassifier    59  3595    29   172       0.948         0.67     0.255  0.37            0.393      0.624      0.216\n",
      "    model            tp    tn    fp    fn    accuracy    precision    recall     f1    matthews_coef    roc_auc    avg_pre\n",
      "--  -------------  ----  ----  ----  ----  ----------  -----------  --------  -----  ---------------  ---------  ---------\n",
      " 0  XGBClassifier    87  3592    32   144       0.954        0.731     0.377  0.497            0.505      0.684      0.313\n",
      "    model            tp    tn    fp    fn    accuracy    precision    recall     f1    matthews_coef    roc_auc    avg_pre\n",
      "--  -------------  ----  ----  ----  ----  ----------  -----------  --------  -----  ---------------  ---------  ---------\n",
      " 0  XGBClassifier     7  3622     2   224       0.941        0.778      0.03  0.058            0.146      0.515      0.082\n",
      "    model            tp    tn    fp    fn    accuracy    precision    recall     f1    matthews_coef    roc_auc    avg_pre\n",
      "--  -------------  ----  ----  ----  ----  ----------  -----------  --------  -----  ---------------  ---------  ---------\n",
      " 0  XGBClassifier    84  3593    31   147       0.954         0.73     0.364  0.486            0.495      0.678      0.304\n",
      "    model            tp    tn    fp    fn    accuracy    precision    recall    f1    matthews_coef    roc_auc    avg_pre\n",
      "--  -------------  ----  ----  ----  ----  ----------  -----------  --------  ----  ---------------  ---------  ---------\n",
      " 0  XGBClassifier     0  3624     0   231        0.94            0         0     0                0        0.5       0.06\n",
      " 35%|███▌      | 35/100 [02:42<05:43,  5.29s/trial, best loss: -0.7005228491155644]"
     ]
    },
    {
     "name": "stderr",
     "output_type": "stream",
     "text": [
      "C:\\Users\\lumkile\\anaconda3\\lib\\site-packages\\sklearn\\metrics\\_classification.py:1248: UndefinedMetricWarning: Precision is ill-defined and being set to 0.0 due to no predicted samples. Use `zero_division` parameter to control this behavior.\n",
      "  _warn_prf(average, modifier, msg_start, len(result))\n",
      "\n",
      "C:\\Users\\lumkile\\anaconda3\\lib\\site-packages\\sklearn\\metrics\\_classification.py:873: RuntimeWarning: invalid value encountered in double_scalars\n",
      "  mcc = cov_ytyp / np.sqrt(cov_ytyt * cov_ypyp)\n",
      "\n"
     ]
    },
    {
     "name": "stdout",
     "output_type": "stream",
     "text": [
      "    model            tp    tn    fp    fn    accuracy    precision    recall     f1    matthews_coef    roc_auc    avg_pre\n",
      "--  -------------  ----  ----  ----  ----  ----------  -----------  --------  -----  ---------------  ---------  ---------\n",
      " 0  XGBClassifier    84  3593    31   147       0.954         0.73     0.364  0.486            0.495      0.678      0.304\n",
      "    model            tp    tn    fp    fn    accuracy    precision    recall     f1    matthews_coef    roc_auc    avg_pre\n",
      "--  -------------  ----  ----  ----  ----  ----------  -----------  --------  -----  ---------------  ---------  ---------\n",
      " 0  XGBClassifier    60  3606    18   171       0.951        0.769      0.26  0.388            0.429      0.627      0.244\n",
      "    model            tp    tn    fp    fn    accuracy    precision    recall     f1    matthews_coef    roc_auc    avg_pre\n",
      "--  -------------  ----  ----  ----  ----  ----------  -----------  --------  -----  ---------------  ---------  ---------\n",
      " 0  XGBClassifier    32  3611    13   199       0.945        0.711     0.139  0.232            0.298      0.567       0.15\n",
      "    model            tp    tn    fp    fn    accuracy    precision    recall    f1    matthews_coef    roc_auc    avg_pre\n",
      "--  -------------  ----  ----  ----  ----  ----------  -----------  --------  ----  ---------------  ---------  ---------\n",
      " 0  XGBClassifier     0  3624     0   231        0.94            0         0     0                0        0.5       0.06\n",
      " 39%|███▉      | 39/100 [02:52<03:02,  3.00s/trial, best loss: -0.7005228491155644]"
     ]
    },
    {
     "name": "stderr",
     "output_type": "stream",
     "text": [
      "C:\\Users\\lumkile\\anaconda3\\lib\\site-packages\\sklearn\\metrics\\_classification.py:1248: UndefinedMetricWarning: Precision is ill-defined and being set to 0.0 due to no predicted samples. Use `zero_division` parameter to control this behavior.\n",
      "  _warn_prf(average, modifier, msg_start, len(result))\n",
      "\n",
      "C:\\Users\\lumkile\\anaconda3\\lib\\site-packages\\sklearn\\metrics\\_classification.py:873: RuntimeWarning: invalid value encountered in double_scalars\n",
      "  mcc = cov_ytyp / np.sqrt(cov_ytyt * cov_ypyp)\n",
      "\n"
     ]
    },
    {
     "name": "stdout",
     "output_type": "stream",
     "text": [
      "    model            tp    tn    fp    fn    accuracy    precision    recall    f1    matthews_coef    roc_auc    avg_pre\n",
      "--  -------------  ----  ----  ----  ----  ----------  -----------  --------  ----  ---------------  ---------  ---------\n",
      " 0  XGBClassifier     0  3624     0   231        0.94            0         0     0                0        0.5       0.06\n",
      " 40%|████      | 40/100 [02:54<02:32,  2.54s/trial, best loss: -0.7005228491155644]"
     ]
    },
    {
     "name": "stderr",
     "output_type": "stream",
     "text": [
      "C:\\Users\\lumkile\\anaconda3\\lib\\site-packages\\sklearn\\metrics\\_classification.py:1248: UndefinedMetricWarning: Precision is ill-defined and being set to 0.0 due to no predicted samples. Use `zero_division` parameter to control this behavior.\n",
      "  _warn_prf(average, modifier, msg_start, len(result))\n",
      "\n",
      "C:\\Users\\lumkile\\anaconda3\\lib\\site-packages\\sklearn\\metrics\\_classification.py:873: RuntimeWarning: invalid value encountered in double_scalars\n",
      "  mcc = cov_ytyp / np.sqrt(cov_ytyt * cov_ypyp)\n",
      "\n"
     ]
    },
    {
     "name": "stdout",
     "output_type": "stream",
     "text": [
      "    model            tp    tn    fp    fn    accuracy    precision    recall     f1    matthews_coef    roc_auc    avg_pre\n",
      "--  -------------  ----  ----  ----  ----  ----------  -----------  --------  -----  ---------------  ---------  ---------\n",
      " 0  XGBClassifier    33  3616     8   198       0.947        0.805     0.143  0.243            0.325       0.57      0.166\n",
      "    model            tp    tn    fp    fn    accuracy    precision    recall     f1    matthews_coef    roc_auc    avg_pre\n",
      "--  -------------  ----  ----  ----  ----  ----------  -----------  --------  -----  ---------------  ---------  ---------\n",
      " 0  XGBClassifier    26  3610    14   205       0.943         0.65     0.113  0.192            0.255      0.554      0.126\n",
      "    model            tp    tn    fp    fn    accuracy    precision    recall    f1    matthews_coef    roc_auc    avg_pre\n",
      "--  -------------  ----  ----  ----  ----  ----------  -----------  --------  ----  ---------------  ---------  ---------\n",
      " 0  XGBClassifier     0  3624     0   231        0.94            0         0     0                0        0.5       0.06\n",
      " 43%|████▎     | 43/100 [03:10<03:52,  4.08s/trial, best loss: -0.7005228491155644]"
     ]
    },
    {
     "name": "stderr",
     "output_type": "stream",
     "text": [
      "C:\\Users\\lumkile\\anaconda3\\lib\\site-packages\\sklearn\\metrics\\_classification.py:1248: UndefinedMetricWarning: Precision is ill-defined and being set to 0.0 due to no predicted samples. Use `zero_division` parameter to control this behavior.\n",
      "  _warn_prf(average, modifier, msg_start, len(result))\n",
      "\n",
      "C:\\Users\\lumkile\\anaconda3\\lib\\site-packages\\sklearn\\metrics\\_classification.py:873: RuntimeWarning: invalid value encountered in double_scalars\n",
      "  mcc = cov_ytyp / np.sqrt(cov_ytyt * cov_ypyp)\n",
      "\n"
     ]
    },
    {
     "name": "stdout",
     "output_type": "stream",
     "text": [
      "    model            tp    tn    fp    fn    accuracy    precision    recall     f1    matthews_coef    roc_auc    avg_pre\n",
      "--  -------------  ----  ----  ----  ----  ----------  -----------  --------  -----  ---------------  ---------  ---------\n",
      " 0  XGBClassifier    34  3609    15   197       0.945        0.694     0.147  0.243            0.303      0.572      0.153\n",
      "    model            tp    tn    fp    fn    accuracy    precision    recall     f1    matthews_coef    roc_auc    avg_pre\n",
      "--  -------------  ----  ----  ----  ----  ----------  -----------  --------  -----  ---------------  ---------  ---------\n",
      " 0  XGBClassifier     4  3621     3   227        0.94        0.571     0.017  0.034            0.092      0.508      0.069\n",
      "    model            tp    tn    fp    fn    accuracy    precision    recall    f1    matthews_coef    roc_auc    avg_pre\n",
      "--  -------------  ----  ----  ----  ----  ----------  -----------  --------  ----  ---------------  ---------  ---------\n",
      " 0  XGBClassifier     0  3624     0   231        0.94            0         0     0                0        0.5       0.06\n",
      " 46%|████▌     | 46/100 [03:24<03:52,  4.31s/trial, best loss: -0.7005228491155644]"
     ]
    },
    {
     "name": "stderr",
     "output_type": "stream",
     "text": [
      "C:\\Users\\lumkile\\anaconda3\\lib\\site-packages\\sklearn\\metrics\\_classification.py:1248: UndefinedMetricWarning: Precision is ill-defined and being set to 0.0 due to no predicted samples. Use `zero_division` parameter to control this behavior.\n",
      "  _warn_prf(average, modifier, msg_start, len(result))\n",
      "\n",
      "C:\\Users\\lumkile\\anaconda3\\lib\\site-packages\\sklearn\\metrics\\_classification.py:873: RuntimeWarning: invalid value encountered in double_scalars\n",
      "  mcc = cov_ytyp / np.sqrt(cov_ytyt * cov_ypyp)\n",
      "\n"
     ]
    },
    {
     "name": "stdout",
     "output_type": "stream",
     "text": [
      "    model            tp    tn    fp    fn    accuracy    precision    recall     f1    matthews_coef    roc_auc    avg_pre\n",
      "--  -------------  ----  ----  ----  ----  ----------  -----------  --------  -----  ---------------  ---------  ---------\n",
      " 0  XGBClassifier    52  3611    13   179        0.95          0.8     0.225  0.351            0.408      0.611      0.227\n",
      "    model            tp    tn    fp    fn    accuracy    precision    recall     f1    matthews_coef    roc_auc    avg_pre\n",
      "--  -------------  ----  ----  ----  ----  ----------  -----------  --------  -----  ---------------  ---------  ---------\n",
      " 0  XGBClassifier    15  3617     7   216       0.942        0.682     0.065  0.119            0.199      0.532        0.1\n",
      "    model            tp    tn    fp    fn    accuracy    precision    recall     f1    matthews_coef    roc_auc    avg_pre\n",
      "--  -------------  ----  ----  ----  ----  ----------  -----------  --------  -----  ---------------  ---------  ---------\n",
      " 0  XGBClassifier    19  3612    12   212       0.942        0.613     0.082  0.145             0.21      0.539      0.105\n",
      "    model            tp    tn    fp    fn    accuracy    precision    recall    f1    matthews_coef    roc_auc    avg_pre\n",
      "--  -------------  ----  ----  ----  ----  ----------  -----------  --------  ----  ---------------  ---------  ---------\n",
      " 0  XGBClassifier    77  3597    27   154       0.953         0.74     0.333  0.46            0.477      0.663      0.287\n",
      "    model            tp    tn    fp    fn    accuracy    precision    recall     f1    matthews_coef    roc_auc    avg_pre\n",
      "--  -------------  ----  ----  ----  ----  ----------  -----------  --------  -----  ---------------  ---------  ---------\n",
      " 0  XGBClassifier    26  3613    11   205       0.944        0.703     0.113  0.194            0.267      0.555      0.132\n",
      "    model            tp    tn    fp    fn    accuracy    precision    recall     f1    matthews_coef    roc_auc    avg_pre\n",
      "--  -------------  ----  ----  ----  ----  ----------  -----------  --------  -----  ---------------  ---------  ---------\n",
      " 0  XGBClassifier    54  3604    20   177       0.949         0.73     0.234  0.354            0.395      0.614      0.217\n",
      "    model            tp    tn    fp    fn    accuracy    precision    recall    f1    matthews_coef    roc_auc    avg_pre\n",
      "--  -------------  ----  ----  ----  ----  ----------  -----------  --------  ----  ---------------  ---------  ---------\n",
      " 0  XGBClassifier     0  3624     0   231        0.94            0         0     0                0        0.5       0.06\n",
      " 53%|█████▎    | 53/100 [03:48<02:13,  2.83s/trial, best loss: -0.7005228491155644]"
     ]
    },
    {
     "name": "stderr",
     "output_type": "stream",
     "text": [
      "C:\\Users\\lumkile\\anaconda3\\lib\\site-packages\\sklearn\\metrics\\_classification.py:1248: UndefinedMetricWarning: Precision is ill-defined and being set to 0.0 due to no predicted samples. Use `zero_division` parameter to control this behavior.\n",
      "  _warn_prf(average, modifier, msg_start, len(result))\n",
      "\n",
      "C:\\Users\\lumkile\\anaconda3\\lib\\site-packages\\sklearn\\metrics\\_classification.py:873: RuntimeWarning: invalid value encountered in double_scalars\n",
      "  mcc = cov_ytyp / np.sqrt(cov_ytyt * cov_ypyp)\n",
      "\n"
     ]
    },
    {
     "name": "stdout",
     "output_type": "stream",
     "text": [
      "    model            tp    tn    fp    fn    accuracy    precision    recall     f1    matthews_coef    roc_auc    avg_pre\n",
      "--  -------------  ----  ----  ----  ----  ----------  -----------  --------  -----  ---------------  ---------  ---------\n",
      " 0  XGBClassifier     9  3618     6   222       0.941          0.6     0.039  0.073            0.142      0.519      0.081\n",
      "    model            tp    tn    fp    fn    accuracy    precision    recall     f1    matthews_coef    roc_auc    avg_pre\n",
      "--  -------------  ----  ----  ----  ----  ----------  -----------  --------  -----  ---------------  ---------  ---------\n",
      " 0  XGBClassifier    19  3616     8   212       0.943        0.704     0.082  0.147            0.228       0.54      0.113\n",
      "    model            tp    tn    fp    fn    accuracy    precision    recall     f1    matthews_coef    roc_auc    avg_pre\n",
      "--  -------------  ----  ----  ----  ----  ----------  -----------  --------  -----  ---------------  ---------  ---------\n",
      " 0  XGBClassifier    34  3609    15   197       0.945        0.694     0.147  0.243            0.303      0.572      0.153\n",
      "    model            tp    tn    fp    fn    accuracy    precision    recall     f1    matthews_coef    roc_auc    avg_pre\n",
      "--  -------------  ----  ----  ----  ----  ----------  -----------  --------  -----  ---------------  ---------  ---------\n",
      " 0  XGBClassifier     4  3622     2   227       0.941        0.667     0.017  0.034            0.101      0.508       0.07\n",
      "    model            tp    tn    fp    fn    accuracy    precision    recall     f1    matthews_coef    roc_auc    avg_pre\n",
      "--  -------------  ----  ----  ----  ----  ----------  -----------  --------  -----  ---------------  ---------  ---------\n",
      " 0  XGBClassifier     2  3624     0   229       0.941            1     0.009  0.017             0.09      0.504      0.068\n",
      "    model            tp    tn    fp    fn    accuracy    precision    recall     f1    matthews_coef    roc_auc    avg_pre\n",
      "--  -------------  ----  ----  ----  ----  ----------  -----------  --------  -----  ---------------  ---------  ---------\n",
      " 0  XGBClassifier    28  3614    10   203       0.945        0.737     0.121  0.208            0.285      0.559      0.142\n",
      "    model            tp    tn    fp    fn    accuracy    precision    recall     f1    matthews_coef    roc_auc    avg_pre\n",
      "--  -------------  ----  ----  ----  ----  ----------  -----------  --------  -----  ---------------  ---------  ---------\n",
      " 0  XGBClassifier    21  3618     6   210       0.944        0.778     0.091  0.163            0.254      0.545      0.125\n",
      "    model            tp    tn    fp    fn    accuracy    precision    recall     f1    matthews_coef    roc_auc    avg_pre\n",
      "--  -------------  ----  ----  ----  ----  ----------  -----------  --------  -----  ---------------  ---------  ---------\n",
      " 0  XGBClassifier     3  3624     0   228       0.941            1     0.013  0.026            0.111      0.506      0.072\n",
      "    model            tp    tn    fp    fn    accuracy    precision    recall    f1    matthews_coef    roc_auc    avg_pre\n",
      "--  -------------  ----  ----  ----  ----  ----------  -----------  --------  ----  ---------------  ---------  ---------\n",
      " 0  XGBClassifier     0  3624     0   231        0.94            0         0     0                0        0.5       0.06\n",
      " 62%|██████▏   | 62/100 [04:37<03:38,  5.75s/trial, best loss: -0.7005228491155644]"
     ]
    },
    {
     "name": "stderr",
     "output_type": "stream",
     "text": [
      "C:\\Users\\lumkile\\anaconda3\\lib\\site-packages\\sklearn\\metrics\\_classification.py:1248: UndefinedMetricWarning: Precision is ill-defined and being set to 0.0 due to no predicted samples. Use `zero_division` parameter to control this behavior.\n",
      "  _warn_prf(average, modifier, msg_start, len(result))\n",
      "\n",
      "C:\\Users\\lumkile\\anaconda3\\lib\\site-packages\\sklearn\\metrics\\_classification.py:873: RuntimeWarning: invalid value encountered in double_scalars\n",
      "  mcc = cov_ytyp / np.sqrt(cov_ytyt * cov_ypyp)\n",
      "\n"
     ]
    },
    {
     "name": "stdout",
     "output_type": "stream",
     "text": [
      "    model            tp    tn    fp    fn    accuracy    precision    recall     f1    matthews_coef    roc_auc    avg_pre\n",
      "--  -------------  ----  ----  ----  ----  ----------  -----------  --------  -----  ---------------  ---------  ---------\n",
      " 0  XGBClassifier    86  3589    35   145       0.953        0.711     0.372  0.489            0.494      0.681      0.302\n",
      "    model            tp    tn    fp    fn    accuracy    precision    recall     f1    matthews_coef    roc_auc    avg_pre\n",
      "--  -------------  ----  ----  ----  ----  ----------  -----------  --------  -----  ---------------  ---------  ---------\n",
      " 0  XGBClassifier    67  3604    20   164       0.952         0.77      0.29  0.421            0.455      0.642      0.266\n",
      "    model            tp    tn    fp    fn    accuracy    precision    recall     f1    matthews_coef    roc_auc    avg_pre\n",
      "--  -------------  ----  ----  ----  ----  ----------  -----------  --------  -----  ---------------  ---------  ---------\n",
      " 0  XGBClassifier    59  3606    18   172       0.951        0.766     0.255  0.383            0.425      0.625       0.24\n",
      "    model            tp    tn    fp    fn    accuracy    precision    recall     f1    matthews_coef    roc_auc    avg_pre\n",
      "--  -------------  ----  ----  ----  ----  ----------  -----------  --------  -----  ---------------  ---------  ---------\n",
      " 0  XGBClassifier    84  3588    36   147       0.953          0.7     0.364  0.479            0.483      0.677      0.293\n",
      "    model            tp    tn    fp    fn    accuracy    precision    recall     f1    matthews_coef    roc_auc    avg_pre\n",
      "--  -------------  ----  ----  ----  ----  ----------  -----------  --------  -----  ---------------  ---------  ---------\n",
      " 0  XGBClassifier    97  3588    36   134       0.956        0.729      0.42  0.533            0.533      0.705      0.341\n",
      "{'objective': 'binary:logistic', 'use_label_encoder': False, 'base_score': 0.5, 'booster': 'gbtree', 'colsample_bylevel': 1, 'colsample_bynode': 1, 'colsample_bytree': 1, 'enable_categorical': False, 'gamma': 0.005848430743671949, 'gpu_id': -1, 'importance_type': None, 'interaction_constraints': '', 'learning_rate': 0.300000012, 'max_delta_step': 0, 'max_depth': 9, 'min_child_weight': 4, 'missing': nan, 'monotone_constraints': '()', 'n_estimators': 187, 'n_jobs': 4, 'num_parallel_tree': 1, 'predictor': 'auto', 'random_state': 0, 'reg_alpha': 1, 'reg_lambda': 6, 'scale_pos_weight': 1, 'subsample': 1, 'tree_method': 'exact', 'validate_parameters': 1, 'verbosity': None, 'eval_metric': 'aucpr'}\n",
      "    model            tp    tn    fp    fn    accuracy    precision    recall     f1    matthews_coef    roc_auc    avg_pre\n",
      "--  -------------  ----  ----  ----  ----  ----------  -----------  --------  -----  ---------------  ---------  ---------\n",
      " 0  XGBClassifier    94  3595    29   137       0.957        0.764     0.407  0.531            0.539      0.699      0.347\n",
      "    model            tp    tn    fp    fn    accuracy    precision    recall     f1    matthews_coef    roc_auc    avg_pre\n",
      "--  -------------  ----  ----  ----  ----  ----------  -----------  --------  -----  ---------------  ---------  ---------\n",
      " 0  XGBClassifier    86  3593    31   145       0.954        0.735     0.372  0.494            0.503      0.682      0.311\n",
      "    model            tp    tn    fp    fn    accuracy    precision    recall    f1    matthews_coef    roc_auc    avg_pre\n",
      "--  -------------  ----  ----  ----  ----  ----------  -----------  --------  ----  ---------------  ---------  ---------\n",
      " 0  XGBClassifier    64  3599    25   167        0.95        0.719     0.277   0.4            0.427      0.635      0.243\n",
      "    model            tp    tn    fp    fn    accuracy    precision    recall     f1    matthews_coef    roc_auc    avg_pre\n",
      "--  -------------  ----  ----  ----  ----  ----------  -----------  --------  -----  ---------------  ---------  ---------\n",
      " 0  XGBClassifier    84  3598    26   147       0.955        0.764     0.364  0.493            0.508      0.678      0.316\n",
      "    model            tp    tn    fp    fn    accuracy    precision    recall     f1    matthews_coef    roc_auc    avg_pre\n",
      "--  -------------  ----  ----  ----  ----  ----------  -----------  --------  -----  ---------------  ---------  ---------\n",
      " 0  XGBClassifier    82  3593    31   149       0.953        0.726     0.355  0.477            0.487      0.673      0.296\n",
      "    model            tp    tn    fp    fn    accuracy    precision    recall     f1    matthews_coef    roc_auc    avg_pre\n",
      "--  -------------  ----  ----  ----  ----  ----------  -----------  --------  -----  ---------------  ---------  ---------\n",
      " 0  XGBClassifier    75  3599    25   156       0.953         0.75     0.325  0.453            0.474      0.659      0.284\n",
      "    model            tp    tn    fp    fn    accuracy    precision    recall     f1    matthews_coef    roc_auc    avg_pre\n",
      "--  -------------  ----  ----  ----  ----  ----------  -----------  --------  -----  ---------------  ---------  ---------\n",
      " 0  XGBClassifier    33  3608    16   198       0.944        0.673     0.143  0.236            0.293      0.569      0.148\n",
      "    model            tp    tn    fp    fn    accuracy    precision    recall     f1    matthews_coef    roc_auc    avg_pre\n",
      "--  -------------  ----  ----  ----  ----  ----------  -----------  --------  -----  ---------------  ---------  ---------\n",
      " 0  XGBClassifier    84  3585    39   147       0.952        0.683     0.364  0.475            0.477      0.676      0.286\n",
      "    model            tp    tn    fp    fn    accuracy    precision    recall     f1    matthews_coef    roc_auc    avg_pre\n",
      "--  -------------  ----  ----  ----  ----  ----------  -----------  --------  -----  ---------------  ---------  ---------\n",
      " 0  XGBClassifier    27  3619     5   204       0.946        0.844     0.117  0.205            0.302      0.558      0.152\n",
      "    model            tp    tn    fp    fn    accuracy    precision    recall     f1    matthews_coef    roc_auc    avg_pre\n",
      "--  -------------  ----  ----  ----  ----  ----------  -----------  --------  -----  ---------------  ---------  ---------\n",
      " 0  XGBClassifier    45  3607    17   186       0.947        0.726     0.195  0.307            0.359      0.595       0.19\n",
      "    model            tp    tn    fp    fn    accuracy    precision    recall     f1    matthews_coef    roc_auc    avg_pre\n",
      "--  -------------  ----  ----  ----  ----  ----------  -----------  --------  -----  ---------------  ---------  ---------\n",
      " 0  XGBClassifier    42  3613    11   189       0.948        0.792     0.182  0.296            0.364      0.589      0.193\n",
      "    model            tp    tn    fp    fn    accuracy    precision    recall    f1    matthews_coef    roc_auc    avg_pre\n",
      "--  -------------  ----  ----  ----  ----  ----------  -----------  --------  ----  ---------------  ---------  ---------\n",
      " 0  XGBClassifier     0  3624     0   231        0.94            0         0     0                0        0.5       0.06\n",
      " 79%|███████▉  | 79/100 [06:10<02:23,  6.83s/trial, best loss: -0.7049898225394914]"
     ]
    },
    {
     "name": "stderr",
     "output_type": "stream",
     "text": [
      "C:\\Users\\lumkile\\anaconda3\\lib\\site-packages\\sklearn\\metrics\\_classification.py:1248: UndefinedMetricWarning: Precision is ill-defined and being set to 0.0 due to no predicted samples. Use `zero_division` parameter to control this behavior.\n",
      "  _warn_prf(average, modifier, msg_start, len(result))\n",
      "\n",
      "C:\\Users\\lumkile\\anaconda3\\lib\\site-packages\\sklearn\\metrics\\_classification.py:873: RuntimeWarning: invalid value encountered in double_scalars\n",
      "  mcc = cov_ytyp / np.sqrt(cov_ytyt * cov_ypyp)\n",
      "\n"
     ]
    },
    {
     "name": "stdout",
     "output_type": "stream",
     "text": [
      "    model            tp    tn    fp    fn    accuracy    precision    recall     f1    matthews_coef    roc_auc    avg_pre\n",
      "--  -------------  ----  ----  ----  ----  ----------  -----------  --------  -----  ---------------  ---------  ---------\n",
      " 0  XGBClassifier    84  3586    38   147       0.952        0.689     0.364  0.476            0.479      0.677      0.289\n",
      "    model            tp    tn    fp    fn    accuracy    precision    recall     f1    matthews_coef    roc_auc    avg_pre\n",
      "--  -------------  ----  ----  ----  ----  ----------  -----------  --------  -----  ---------------  ---------  ---------\n",
      " 0  XGBClassifier    73  3604    20   158       0.954        0.785     0.316  0.451             0.48      0.655      0.289\n",
      "    model            tp    tn    fp    fn    accuracy    precision    recall     f1    matthews_coef    roc_auc    avg_pre\n",
      "--  -------------  ----  ----  ----  ----  ----------  -----------  --------  -----  ---------------  ---------  ---------\n",
      " 0  XGBClassifier    11  3617     7   220       0.941        0.611     0.048  0.088            0.159      0.523      0.086\n",
      "    model            tp    tn    fp    fn    accuracy    precision    recall     f1    matthews_coef    roc_auc    avg_pre\n",
      "--  -------------  ----  ----  ----  ----  ----------  -----------  --------  -----  ---------------  ---------  ---------\n",
      " 0  XGBClassifier    27  3615     9   204       0.945         0.75     0.117  0.202            0.282      0.557      0.141\n",
      "    model            tp    tn    fp    fn    accuracy    precision    recall    f1    matthews_coef    roc_auc    avg_pre\n",
      "--  -------------  ----  ----  ----  ----  ----------  -----------  --------  ----  ---------------  ---------  ---------\n",
      " 0  XGBClassifier    52  3601    23   179       0.948        0.693     0.225  0.34            0.376      0.609      0.203\n",
      "    model            tp    tn    fp    fn    accuracy    precision    recall     f1    matthews_coef    roc_auc    avg_pre\n",
      "--  -------------  ----  ----  ----  ----  ----------  -----------  --------  -----  ---------------  ---------  ---------\n",
      " 0  XGBClassifier    96  3585    39   135       0.955        0.711     0.416  0.525            0.523      0.702      0.331\n",
      "{'objective': 'binary:logistic', 'use_label_encoder': False, 'base_score': 0.5, 'booster': 'gbtree', 'colsample_bylevel': 1, 'colsample_bynode': 1, 'colsample_bytree': 1, 'enable_categorical': False, 'gamma': 0.5099103834194136, 'gpu_id': -1, 'importance_type': None, 'interaction_constraints': '', 'learning_rate': 0.300000012, 'max_delta_step': 0, 'max_depth': 9, 'min_child_weight': 4, 'missing': nan, 'monotone_constraints': '()', 'n_estimators': 186, 'n_jobs': 4, 'num_parallel_tree': 1, 'predictor': 'auto', 'random_state': 0, 'reg_alpha': 0, 'reg_lambda': 5, 'scale_pos_weight': 1, 'subsample': 1, 'tree_method': 'exact', 'validate_parameters': 1, 'verbosity': None, 'eval_metric': 'aucpr'}\n",
      "    model            tp    tn    fp    fn    accuracy    precision    recall     f1    matthews_coef    roc_auc    avg_pre\n",
      "--  -------------  ----  ----  ----  ----  ----------  -----------  --------  -----  ---------------  ---------  ---------\n",
      " 0  XGBClassifier    90  3589    35   141       0.954         0.72      0.39  0.506            0.509       0.69      0.317\n",
      "    model            tp    tn    fp    fn    accuracy    precision    recall    f1    matthews_coef    roc_auc    avg_pre\n",
      "--  -------------  ----  ----  ----  ----  ----------  -----------  --------  ----  ---------------  ---------  ---------\n",
      " 0  XGBClassifier    50  3602    22   181       0.947        0.694     0.216  0.33            0.369      0.605      0.197\n",
      "    model            tp    tn    fp    fn    accuracy    precision    recall    f1    matthews_coef    roc_auc    avg_pre\n",
      "--  -------------  ----  ----  ----  ----  ----------  -----------  --------  ----  ---------------  ---------  ---------\n",
      " 0  XGBClassifier    40  3619     5   191       0.949        0.889     0.173  0.29             0.38      0.586      0.203\n",
      "    model            tp    tn    fp    fn    accuracy    precision    recall     f1    matthews_coef    roc_auc    avg_pre\n",
      "--  -------------  ----  ----  ----  ----  ----------  -----------  --------  -----  ---------------  ---------  ---------\n",
      " 0  XGBClassifier    59  3607    17   172       0.951        0.776     0.255  0.384            0.428      0.625      0.243\n",
      "    model            tp    tn    fp    fn    accuracy    precision    recall     f1    matthews_coef    roc_auc    avg_pre\n",
      "--  -------------  ----  ----  ----  ----  ----------  -----------  --------  -----  ---------------  ---------  ---------\n",
      " 0  XGBClassifier    89  3598    26   142       0.956        0.774     0.385  0.514            0.528      0.689      0.335\n",
      "    model            tp    tn    fp    fn    accuracy    precision    recall     f1    matthews_coef    roc_auc    avg_pre\n",
      "--  -------------  ----  ----  ----  ----  ----------  -----------  --------  -----  ---------------  ---------  ---------\n",
      " 0  XGBClassifier    16  3619     5   215       0.943        0.762     0.069  0.127            0.219      0.534      0.109\n",
      "    model            tp    tn    fp    fn    accuracy    precision    recall     f1    matthews_coef    roc_auc    avg_pre\n",
      "--  -------------  ----  ----  ----  ----  ----------  -----------  --------  -----  ---------------  ---------  ---------\n",
      " 0  XGBClassifier    10  3620     4   221       0.942        0.714     0.043  0.082            0.166      0.521      0.088\n",
      "    model            tp    tn    fp    fn    accuracy    precision    recall     f1    matthews_coef    roc_auc    avg_pre\n",
      "--  -------------  ----  ----  ----  ----  ----------  -----------  --------  -----  ---------------  ---------  ---------\n",
      " 0  XGBClassifier     1  3624     0   230        0.94            1     0.004  0.009            0.064      0.502      0.064\n",
      "    model            tp    tn    fp    fn    accuracy    precision    recall     f1    matthews_coef    roc_auc    avg_pre\n",
      "--  -------------  ----  ----  ----  ----  ----------  -----------  --------  -----  ---------------  ---------  ---------\n",
      " 0  XGBClassifier     4  3624     0   227       0.941            1     0.017  0.034            0.128      0.509      0.076\n",
      "    model            tp    tn    fp    fn    accuracy    precision    recall     f1    matthews_coef    roc_auc    avg_pre\n",
      "--  -------------  ----  ----  ----  ----  ----------  -----------  --------  -----  ---------------  ---------  ---------\n",
      " 0  XGBClassifier    71  3597    27   160       0.951        0.724     0.307  0.432            0.452       0.65      0.264\n",
      "    model            tp    tn    fp    fn    accuracy    precision    recall     f1    matthews_coef    roc_auc    avg_pre\n",
      "--  -------------  ----  ----  ----  ----  ----------  -----------  --------  -----  ---------------  ---------  ---------\n",
      " 0  XGBClassifier     7  3623     1   224       0.942        0.875      0.03  0.059            0.157      0.515      0.085\n",
      "    model            tp    tn    fp    fn    accuracy    precision    recall    f1    matthews_coef    roc_auc    avg_pre\n",
      "--  -------------  ----  ----  ----  ----  ----------  -----------  --------  ----  ---------------  ---------  ---------\n",
      " 0  XGBClassifier     0  3624     0   231        0.94            0         0     0                0        0.5       0.06\n",
      " 97%|█████████▋| 97/100 [07:55<00:16,  5.45s/trial, best loss: -0.7049898225394914]"
     ]
    },
    {
     "name": "stderr",
     "output_type": "stream",
     "text": [
      "C:\\Users\\lumkile\\anaconda3\\lib\\site-packages\\sklearn\\metrics\\_classification.py:1248: UndefinedMetricWarning: Precision is ill-defined and being set to 0.0 due to no predicted samples. Use `zero_division` parameter to control this behavior.\n",
      "  _warn_prf(average, modifier, msg_start, len(result))\n",
      "\n",
      "C:\\Users\\lumkile\\anaconda3\\lib\\site-packages\\sklearn\\metrics\\_classification.py:873: RuntimeWarning: invalid value encountered in double_scalars\n",
      "  mcc = cov_ytyp / np.sqrt(cov_ytyt * cov_ypyp)\n",
      "\n"
     ]
    },
    {
     "name": "stdout",
     "output_type": "stream",
     "text": [
      "    model            tp    tn    fp    fn    accuracy    precision    recall     f1    matthews_coef    roc_auc    avg_pre\n",
      "--  -------------  ----  ----  ----  ----  ----------  -----------  --------  -----  ---------------  ---------  ---------\n",
      " 0  XGBClassifier    15  3622     2   216       0.943        0.882     0.065  0.121            0.231      0.532      0.113\n",
      "    model            tp    tn    fp    fn    accuracy    precision    recall     f1    matthews_coef    roc_auc    avg_pre\n",
      "--  -------------  ----  ----  ----  ----  ----------  -----------  --------  -----  ---------------  ---------  ---------\n",
      " 0  XGBClassifier    13  3621     3   218       0.943        0.812     0.056  0.105            0.205      0.528      0.102\n",
      "    model            tp    tn    fp    fn    accuracy    precision    recall     f1    matthews_coef    roc_auc    avg_pre\n",
      "--  -------------  ----  ----  ----  ----  ----------  -----------  --------  -----  ---------------  ---------  ---------\n",
      " 0  XGBClassifier     8  3623     1   223       0.942        0.889     0.035  0.067            0.169      0.517      0.089\n",
      "100%|██████████| 100/100 [08:05<00:00,  4.86s/trial, best loss: -0.7049898225394914]\n"
     ]
    }
   ],
   "source": [
    "trials=Trials()\n",
    "best_hyperparams = fmin(fn = objective,\n",
    "                        space = space,\n",
    "                        algo = tpe.suggest,\n",
    "                        max_evals = 100,\n",
    "                       trials=trials)"
   ]
  },
  {
   "cell_type": "code",
   "execution_count": 84,
   "id": "c97fb1c0",
   "metadata": {},
   "outputs": [
    {
     "name": "stdout",
     "output_type": "stream",
     "text": [
      "The best hyperparameters are :  \n",
      "\n",
      "{'gamma': 0.005848430743671949, 'max_depth': 6, 'min_child_weight': 3, 'n_estimators': 137, 'reg_alpha': 1, 'reg_lambda': 6}\n",
      "Record best are: \n",
      "\n",
      "{'Trial_model_1651886077.6051276': [{'objective': 'binary:logistic', 'use_label_encoder': False, 'base_score': 0.5, 'booster': 'gbtree', 'colsample_bylevel': 1, 'colsample_bynode': 1, 'colsample_bytree': 1, 'enable_categorical': False, 'gamma': 0.8182430734055948, 'gpu_id': -1, 'importance_type': None, 'interaction_constraints': '', 'learning_rate': 0.300000012, 'max_delta_step': 0, 'max_depth': 9, 'min_child_weight': 4, 'missing': nan, 'monotone_constraints': '()', 'n_estimators': 158, 'n_jobs': 4, 'num_parallel_tree': 1, 'predictor': 'auto', 'random_state': 0, 'reg_alpha': 1, 'reg_lambda': 3, 'scale_pos_weight': 1, 'subsample': 1, 'tree_method': 'exact', 'validate_parameters': 1, 'verbosity': None, 'eval_metric': 'aucpr'},             model  tp    tn  fp   fn  accuracy  precision  recall     f1  \\\n",
      "0   XGBClassifier  95  3587  37  136     0.955       0.72   0.411  0.523   \n",
      "\n",
      "   matthews_coef  roc_auc  avg_pre  \n",
      "0          0.523    0.701    0.331  ], 'Trial_model_1651886274.5510194': [{'objective': 'binary:logistic', 'use_label_encoder': False, 'base_score': 0.5, 'booster': 'gbtree', 'colsample_bylevel': 1, 'colsample_bynode': 1, 'colsample_bytree': 1, 'enable_categorical': False, 'gamma': 0.005848430743671949, 'gpu_id': -1, 'importance_type': None, 'interaction_constraints': '', 'learning_rate': 0.300000012, 'max_delta_step': 0, 'max_depth': 9, 'min_child_weight': 4, 'missing': nan, 'monotone_constraints': '()', 'n_estimators': 187, 'n_jobs': 4, 'num_parallel_tree': 1, 'predictor': 'auto', 'random_state': 0, 'reg_alpha': 1, 'reg_lambda': 6, 'scale_pos_weight': 1, 'subsample': 1, 'tree_method': 'exact', 'validate_parameters': 1, 'verbosity': None, 'eval_metric': 'aucpr'},             model  tp    tn  fp   fn  accuracy  precision  recall     f1  \\\n",
      "0   XGBClassifier  97  3588  36  134     0.956      0.729    0.42  0.533   \n",
      "\n",
      "   matthews_coef  roc_auc  avg_pre  \n",
      "0          0.533    0.705    0.341  ], 'Trial_model_1651886377.722376': [{'objective': 'binary:logistic', 'use_label_encoder': False, 'base_score': 0.5, 'booster': 'gbtree', 'colsample_bylevel': 1, 'colsample_bynode': 1, 'colsample_bytree': 1, 'enable_categorical': False, 'gamma': 0.5099103834194136, 'gpu_id': -1, 'importance_type': None, 'interaction_constraints': '', 'learning_rate': 0.300000012, 'max_delta_step': 0, 'max_depth': 9, 'min_child_weight': 4, 'missing': nan, 'monotone_constraints': '()', 'n_estimators': 186, 'n_jobs': 4, 'num_parallel_tree': 1, 'predictor': 'auto', 'random_state': 0, 'reg_alpha': 0, 'reg_lambda': 5, 'scale_pos_weight': 1, 'subsample': 1, 'tree_method': 'exact', 'validate_parameters': 1, 'verbosity': None, 'eval_metric': 'aucpr'},             model  tp    tn  fp   fn  accuracy  precision  recall     f1  \\\n",
      "0   XGBClassifier  96  3585  39  135     0.955      0.711   0.416  0.525   \n",
      "\n",
      "   matthews_coef  roc_auc  avg_pre  \n",
      "0          0.523    0.702    0.331  ]}\n"
     ]
    }
   ],
   "source": [
    "print(\"The best hyperparameters are : \",\"\\n\")\n",
    "print(best_hyperparams)\n",
    "\n",
    "print(\"Record best are:\", \"\\n\")\n",
    "print(high_roc_scores)"
   ]
  },
  {
   "cell_type": "code",
   "execution_count": 85,
   "id": "eb93f106",
   "metadata": {},
   "outputs": [],
   "source": [
    "clf_optimal = XGBClassifier(\n",
    "    objective= 'binary:logistic', \n",
    "    use_label_encoder= False, \n",
    "    base_score= 0.5, \n",
    "    booster= 'gbtree', \n",
    "    colsample_bylevel= 1, \n",
    "    colsample_bynode= 1, \n",
    "    colsample_bytree= 1, \n",
    "    enable_categorical= False, \n",
    "    gamma= best_hyperparams['gamma'], \n",
    "    gpu_id= -1, \n",
    "    importance_type= None, \n",
    "    interaction_constraints= '', \n",
    "    learning_rate= 0.300000012, \n",
    "    max_delta_step= 0, \n",
    "    max_depth= best_hyperparams['max_depth'], \n",
    "    min_child_weight= best_hyperparams['min_child_weight'], \n",
    "   # missing= 'nan', \n",
    "    monotone_constraints= '()',\n",
    "    n_estimators= best_hyperparams['n_estimators'], \n",
    "    n_jobs= 4, \n",
    "    num_parallel_tree= 1, \n",
    "    predictor= 'auto', \n",
    "    random_state= 0, \n",
    "    reg_alpha= best_hyperparams['reg_alpha'], \n",
    "    reg_lambda= best_hyperparams['reg_lambda'], \n",
    "    scale_pos_weight= 1, \n",
    "    subsample= 1, \n",
    "    tree_method= 'exact', \n",
    "    validate_parameters= 1, \n",
    "    verbosity= None, \n",
    "    eval_metric= 'aucpr'\n",
    ")"
   ]
  },
  {
   "cell_type": "code",
   "execution_count": 86,
   "id": "dbadad88",
   "metadata": {},
   "outputs": [
    {
     "name": "stdout",
     "output_type": "stream",
     "text": [
      "{'objective': 'binary:logistic', 'use_label_encoder': False, 'base_score': 0.5, 'booster': 'gbtree', 'colsample_bylevel': 1, 'colsample_bynode': 1, 'colsample_bytree': 1, 'enable_categorical': False, 'gamma': 0.005848430743671949, 'gpu_id': -1, 'importance_type': None, 'interaction_constraints': '', 'learning_rate': 0.300000012, 'max_delta_step': 0, 'max_depth': 6, 'min_child_weight': 3, 'missing': nan, 'monotone_constraints': '()', 'n_estimators': 137, 'n_jobs': 4, 'num_parallel_tree': 1, 'predictor': 'auto', 'random_state': 0, 'reg_alpha': 1, 'reg_lambda': 6, 'scale_pos_weight': 1, 'subsample': 1, 'tree_method': 'exact', 'validate_parameters': 1, 'verbosity': None, 'eval_metric': 'aucpr'}\n"
     ]
    }
   ],
   "source": [
    "print(clf_optimal.get_params())"
   ]
  },
  {
   "cell_type": "code",
   "execution_count": 87,
   "id": "83737905",
   "metadata": {},
   "outputs": [
    {
     "name": "stdout",
     "output_type": "stream",
     "text": [
      "    model                      run_time    avg_accy    avg_recall    avg_precision    avg_f1    avg_matthew_corcoef    avg_roc_auc\n",
      "--  -----------------------  ----------  ----------  ------------  ---------------  --------  ---------------------  -------------\n",
      " 0  Optimized XGBClassifier        0.71    0.938521      0.109722         0.479484  0.174214               0.203149       0.550538\n"
     ]
    }
   ],
   "source": [
    "\n",
    "start_time = time.time()\n",
    "optimal_model = clf_optimal.fit(X_train,y_train)\n",
    "\n",
    "# set random_state = 42\n",
    "#The idea was, if I have the optimal parameters, then using the same cross-validation state as during my initial testing\n",
    "#should produce far better results.... it didn't   :**(\n",
    "\n",
    "cvs = RepeatedStratifiedKFold(n_splits=10, n_repeats=3, random_state=42)\n",
    "cv_scores = cross_validate(optimal_model, X_test, y_test, cv=cvs, scoring = scorer)\n",
    "y_pred_optimal = optimal_model.predict(X_test)\n",
    "\n",
    "row2 = {'model': ['Optimized XGBClassifier'],\n",
    "       'run_time': [format(round((time.time() - start_time)/60,2))],\n",
    "       'avg_accy': [cv_scores['test_accuracy_score'].mean()],\n",
    "       #'avg_accy_std': cv_scores['test_accuracy_score'].std(),\n",
    "       'avg_recall': [cv_scores['test_recall_score'].mean()],\n",
    "       #'avg_recall_std': cv_scores['test_recall_score'].std(),\n",
    "       'avg_precision': [cv_scores['test_precision_score'].mean()],\n",
    "       #'avg_precision_std': cv_scores['test_precision_score'].std(),\n",
    "       'avg_f1': [cv_scores['test_f1_score'].mean()],\n",
    "       #'avg_f1_std': cv_scores['test_f1_score'].std(),\n",
    "       'avg_matthew_corcoef': [cv_scores['test_matthew_corrcoef'].mean()],\n",
    "       #'avg_matthew_corcoef_std': cv_scores['test_matthew_corrcoef'].std(),\n",
    "       'avg_roc_auc':[ cv_scores['test_roc_auc_score'].mean()],\n",
    "       #'avg_roc_auc_std': cv_scores['test_roc_auc_score'].std(),\n",
    "      }\n",
    " \n",
    "scores2 = pd.DataFrame(row2)\n",
    "print(tabulate(scores2, headers=scores2.columns))\n",
    "#df_models = df_models.append(row, ignore_index=True)"
   ]
  },
  {
   "cell_type": "code",
   "execution_count": 88,
   "id": "724c7b8d",
   "metadata": {},
   "outputs": [
    {
     "data": {
      "text/plain": [
       "{'fit_time': array([0.87673211, 1.43703485, 0.9684391 , 0.9684391 , 4.74515271,\n",
       "        1.04299879, 0.91386485, 0.88406563, 0.87313223, 1.45265579,\n",
       "        0.95281506, 0.92157841, 0.89034104, 0.98222327, 1.42141914,\n",
       "        1.39039207, 1.49152088, 0.93720126, 2.38829732, 1.22808075,\n",
       "        0.84348178, 1.03943682, 1.33656311, 0.86182857, 0.93719411,\n",
       "        1.08046961, 1.05516148, 1.67477345, 2.14163995, 1.39747167]),\n",
       " 'score_time': array([0.0156188 , 0.01561975, 0.01562214, 0.04686308, 0.01887393,\n",
       "        0.0178802 , 0.02086067, 0.01787996, 0.01561761, 0.01562309,\n",
       "        0.03124046, 0.03123975, 0.01561785, 0.01562309, 0.01562142,\n",
       "        0.03123999, 0.03123617, 0.01561737, 0.01805234, 0.01561856,\n",
       "        0.03123689, 0.01562023, 0.01562047, 0.01561952, 0.01562047,\n",
       "        0.01562166, 0.03124213, 0.03124094, 0.01562095, 0.01561952]),\n",
       " 'test_accuracy_score': array([0.94300518, 0.94300518, 0.93782383, 0.93523316, 0.94300518,\n",
       "        0.93766234, 0.94285714, 0.93506494, 0.93506494, 0.94285714,\n",
       "        0.94559585, 0.92746114, 0.9507772 , 0.94300518, 0.92746114,\n",
       "        0.92727273, 0.93506494, 0.94545455, 0.94285714, 0.92727273,\n",
       "        0.94559585, 0.93782383, 0.94041451, 0.93523316, 0.93264249,\n",
       "        0.92987013, 0.94025974, 0.94545455, 0.94025974, 0.94025974]),\n",
       " 'test_f1_score': array([0.15384615, 0.21428571, 0.25      , 0.13793103, 0.26666667,\n",
       "        0.25      , 0.3125    , 0.13793103, 0.13793103, 0.15384615,\n",
       "        0.22222222, 0.125     , 0.34482759, 0.15384615, 0.125     ,\n",
       "        0.06666667, 0.13793103, 0.22222222, 0.21428571, 0.125     ,\n",
       "        0.22222222, 0.25      , 0.14814815, 0.19354839, 0.07142857,\n",
       "        0.        , 0.08      , 0.22222222, 0.20689655, 0.08      ]),\n",
       " 'test_recall_score': array([0.08695652, 0.13043478, 0.17391304, 0.08695652, 0.16666667,\n",
       "        0.17391304, 0.2173913 , 0.08695652, 0.08695652, 0.08695652,\n",
       "        0.13043478, 0.08695652, 0.2173913 , 0.08695652, 0.08333333,\n",
       "        0.04347826, 0.08695652, 0.13043478, 0.13043478, 0.08695652,\n",
       "        0.13043478, 0.17391304, 0.08695652, 0.13043478, 0.04166667,\n",
       "        0.        , 0.04347826, 0.13043478, 0.13043478, 0.04347826]),\n",
       " 'test_precision_score': array([0.66666667, 0.6       , 0.44444444, 0.33333333, 0.66666667,\n",
       "        0.44444444, 0.55555556, 0.33333333, 0.33333333, 0.66666667,\n",
       "        0.75      , 0.22222222, 0.83333333, 0.66666667, 0.25      ,\n",
       "        0.14285714, 0.33333333, 0.75      , 0.6       , 0.22222222,\n",
       "        0.75      , 0.44444444, 0.5       , 0.375     , 0.25      ,\n",
       "        0.        , 0.5       , 0.75      , 0.5       , 0.5       ]),\n",
       " 'test_matthew_corrcoef': array([ 0.22697503,  0.26152884,  0.25120151,  0.14531305,  0.31455798,\n",
       "         0.25112894,  0.32366056,  0.14524582,  0.14524582,  0.22693815,\n",
       "         0.29845461,  0.10615471,  0.41072709,  0.22697503,  0.1131559 ,\n",
       "         0.04772379,  0.14524582,  0.29841633,  0.26147992,  0.10606571,\n",
       "         0.29845461,  0.25120151,  0.19038381,  0.19384332,  0.07959328,\n",
       "        -0.02582719,  0.13423542,  0.29841633,  0.23372627,  0.13423542]),\n",
       " 'test_roc_auc_score': array([0.54210085, 0.56246257, 0.58006947, 0.53796862, 0.5805709 ,\n",
       "        0.58005044, 0.60317079, 0.5379534 , 0.5379534 , 0.54209705,\n",
       "        0.56383998, 0.53383639, 0.60731824, 0.54210085, 0.53337937,\n",
       "        0.51345184, 0.5379534 , 0.56383618, 0.56245496, 0.53380975,\n",
       "        0.56383998, 0.58006947, 0.54072344, 0.55833034, 0.51668969,\n",
       "        0.49447514, 0.52035791, 0.56383618, 0.56107374, 0.52035791])}"
      ]
     },
     "execution_count": 88,
     "metadata": {},
     "output_type": "execute_result"
    }
   ],
   "source": [
    "cv_scores"
   ]
  },
  {
   "cell_type": "code",
   "execution_count": 89,
   "id": "25760fb6",
   "metadata": {},
   "outputs": [
    {
     "data": {
      "text/plain": [
       "<matplotlib.legend.Legend at 0x1aaddeda190>"
      ]
     },
     "execution_count": 89,
     "metadata": {},
     "output_type": "execute_result"
    },
    {
     "data": {
      "image/png": "[encoded data removed]",
      "text/plain": [
       "<Figure size 1080x432 with 1 Axes>"
      ]
     },
     "metadata": {
      "needs_background": "light"
     },
     "output_type": "display_data"
    }
   ],
   "source": [
    "cv_idx =list(range(len(cv_scores['fit_time'])))\n",
    "\n",
    "fig = plt.figure()\n",
    "fig.set_figwidth(15)\n",
    "fig.set_figheight(6)\n",
    "for test_score in cv_scores.keys():\n",
    "    if (test_score !='fit_time') & (test_score !='score_time'):\n",
    "        plt.plot(cv_idx, cv_scores[test_score], label='{}'.format(test_score))\n",
    "    \n",
    "plt.legend(loc='upper right')"
   ]
  },
  {
   "cell_type": "code",
   "execution_count": 90,
   "id": "58b0a7b0",
   "metadata": {},
   "outputs": [
    {
     "name": "stdout",
     "output_type": "stream",
     "text": [
      "    model                     tp    tn    fp    fn    correct    incorrect    accuracy    precision    recall     f1    matthews_coef    roc_auc    avg_pre\n",
      "--  ----------------------  ----  ----  ----  ----  ---------  -----------  ----------  -----------  --------  -----  ---------------  ---------  ---------\n",
      " 0  Optimized XGB-No SMOTE    99  3593    31   132       3692          163       0.958        0.762     0.429  0.548            0.552       0.71      0.361\n"
     ]
    }
   ],
   "source": [
    "tn, fp, fn, tp = metrics.confusion_matrix(y_test, y_pred_optimal).ravel()\n",
    "accuracy = metrics.accuracy_score(y_test, y_pred_optimal)\n",
    "precision = metrics.precision_score(y_test, y_pred_optimal)\n",
    "recall = metrics.recall_score(y_test, y_pred_optimal)\n",
    "f1 = metrics.f1_score(y_test,y_pred_optimal)\n",
    "matthew_corrcoef = metrics.matthews_corrcoef(y_test,y_pred_optimal),\n",
    "roc_auc = metrics.roc_auc_score(y_test,y_pred_optimal)\n",
    "avg_precision = metrics.average_precision_score(y_test, y_pred_optimal)\n",
    "\n",
    "row3 = {'model': 'Optimized XGB-No SMOTE',\n",
    "        'tp': [tp],\n",
    "        'tn': [tn],\n",
    "        'fp': [fp],\n",
    "        'fn': [fn],\n",
    "        'correct': [tp+tn],\n",
    "        'incorrect': [fp+fn],\n",
    "        'accuracy': [round(accuracy,3)],\n",
    "        'precision': [round(precision,3)],\n",
    "        'recall': [round(recall,3)],\n",
    "        'f1': [round(f1,3)],\n",
    "        'matthews_coef': [round(matthew_corrcoef[0],3)],\n",
    "        'roc_auc': [round(roc_auc,3)],\n",
    "        'avg_pre': [round(avg_precision,3)],\n",
    "    }\n",
    "\n",
    "scores3 = pd.DataFrame(row3)\n",
    "print(tabulate(scores3, headers=scores3.columns))\n",
    "\n"
   ]
  },
  {
   "cell_type": "code",
   "execution_count": 91,
   "id": "125a6c09",
   "metadata": {},
   "outputs": [
    {
     "name": "stdout",
     "output_type": "stream",
     "text": [
      "key fit_time:score 1.3974716663360596\n",
      "key score_time:score 0.015619516372680664\n",
      "key test_accuracy_score:score 0.9402597402597402\n",
      "key test_f1_score:score 0.08\n",
      "key test_recall_score:score 0.043478260869565216\n",
      "key test_precision_score:score 0.5\n",
      "key test_matthew_corrcoef:score 0.13423541509712972\n",
      "key test_roc_auc_score:score 0.5203579149651693\n"
     ]
    }
   ],
   "source": [
    "for key in cv_scores.keys():\n",
    "    print('key {}:score {}'.format(key,cv_scores[key][-1] ))"
   ]
  },
  {
   "cell_type": "code",
   "execution_count": 92,
   "id": "6c46c547",
   "metadata": {},
   "outputs": [
    {
     "data": {
      "text/plain": [
       "{'Trial_model_1651886077.6051276': [{'objective': 'binary:logistic',\n",
       "   'use_label_encoder': False,\n",
       "   'base_score': 0.5,\n",
       "   'booster': 'gbtree',\n",
       "   'colsample_bylevel': 1,\n",
       "   'colsample_bynode': 1,\n",
       "   'colsample_bytree': 1,\n",
       "   'enable_categorical': False,\n",
       "   'gamma': 0.8182430734055948,\n",
       "   'gpu_id': -1,\n",
       "   'importance_type': None,\n",
       "   'interaction_constraints': '',\n",
       "   'learning_rate': 0.300000012,\n",
       "   'max_delta_step': 0,\n",
       "   'max_depth': 9,\n",
       "   'min_child_weight': 4,\n",
       "   'missing': nan,\n",
       "   'monotone_constraints': '()',\n",
       "   'n_estimators': 158,\n",
       "   'n_jobs': 4,\n",
       "   'num_parallel_tree': 1,\n",
       "   'predictor': 'auto',\n",
       "   'random_state': 0,\n",
       "   'reg_alpha': 1,\n",
       "   'reg_lambda': 3,\n",
       "   'scale_pos_weight': 1,\n",
       "   'subsample': 1,\n",
       "   'tree_method': 'exact',\n",
       "   'validate_parameters': 1,\n",
       "   'verbosity': None,\n",
       "   'eval_metric': 'aucpr'},\n",
       "              model  tp    tn  fp   fn  accuracy  precision  recall     f1  \\\n",
       "  0   XGBClassifier  95  3587  37  136     0.955       0.72   0.411  0.523   \n",
       "  \n",
       "     matthews_coef  roc_auc  avg_pre  \n",
       "  0          0.523    0.701    0.331  ],\n",
       " 'Trial_model_1651886274.5510194': [{'objective': 'binary:logistic',\n",
       "   'use_label_encoder': False,\n",
       "   'base_score': 0.5,\n",
       "   'booster': 'gbtree',\n",
       "   'colsample_bylevel': 1,\n",
       "   'colsample_bynode': 1,\n",
       "   'colsample_bytree': 1,\n",
       "   'enable_categorical': False,\n",
       "   'gamma': 0.005848430743671949,\n",
       "   'gpu_id': -1,\n",
       "   'importance_type': None,\n",
       "   'interaction_constraints': '',\n",
       "   'learning_rate': 0.300000012,\n",
       "   'max_delta_step': 0,\n",
       "   'max_depth': 9,\n",
       "   'min_child_weight': 4,\n",
       "   'missing': nan,\n",
       "   'monotone_constraints': '()',\n",
       "   'n_estimators': 187,\n",
       "   'n_jobs': 4,\n",
       "   'num_parallel_tree': 1,\n",
       "   'predictor': 'auto',\n",
       "   'random_state': 0,\n",
       "   'reg_alpha': 1,\n",
       "   'reg_lambda': 6,\n",
       "   'scale_pos_weight': 1,\n",
       "   'subsample': 1,\n",
       "   'tree_method': 'exact',\n",
       "   'validate_parameters': 1,\n",
       "   'verbosity': None,\n",
       "   'eval_metric': 'aucpr'},\n",
       "              model  tp    tn  fp   fn  accuracy  precision  recall     f1  \\\n",
       "  0   XGBClassifier  97  3588  36  134     0.956      0.729    0.42  0.533   \n",
       "  \n",
       "     matthews_coef  roc_auc  avg_pre  \n",
       "  0          0.533    0.705    0.341  ],\n",
       " 'Trial_model_1651886377.722376': [{'objective': 'binary:logistic',\n",
       "   'use_label_encoder': False,\n",
       "   'base_score': 0.5,\n",
       "   'booster': 'gbtree',\n",
       "   'colsample_bylevel': 1,\n",
       "   'colsample_bynode': 1,\n",
       "   'colsample_bytree': 1,\n",
       "   'enable_categorical': False,\n",
       "   'gamma': 0.5099103834194136,\n",
       "   'gpu_id': -1,\n",
       "   'importance_type': None,\n",
       "   'interaction_constraints': '',\n",
       "   'learning_rate': 0.300000012,\n",
       "   'max_delta_step': 0,\n",
       "   'max_depth': 9,\n",
       "   'min_child_weight': 4,\n",
       "   'missing': nan,\n",
       "   'monotone_constraints': '()',\n",
       "   'n_estimators': 186,\n",
       "   'n_jobs': 4,\n",
       "   'num_parallel_tree': 1,\n",
       "   'predictor': 'auto',\n",
       "   'random_state': 0,\n",
       "   'reg_alpha': 0,\n",
       "   'reg_lambda': 5,\n",
       "   'scale_pos_weight': 1,\n",
       "   'subsample': 1,\n",
       "   'tree_method': 'exact',\n",
       "   'validate_parameters': 1,\n",
       "   'verbosity': None,\n",
       "   'eval_metric': 'aucpr'},\n",
       "              model  tp    tn  fp   fn  accuracy  precision  recall     f1  \\\n",
       "  0   XGBClassifier  96  3585  39  135     0.955      0.711   0.416  0.525   \n",
       "  \n",
       "     matthews_coef  roc_auc  avg_pre  \n",
       "  0          0.523    0.702    0.331  ]}"
      ]
     },
     "execution_count": 92,
     "metadata": {},
     "output_type": "execute_result"
    }
   ],
   "source": [
    "high_roc_scores"
   ]
  },
  {
   "cell_type": "code",
   "execution_count": 93,
   "id": "782dd52b",
   "metadata": {},
   "outputs": [
    {
     "name": "stdout",
     "output_type": "stream",
     "text": [
      "         gamma    max_depth    min_child_weight    n_estimators    reg_alpha    reg_lambda    precision    recall     f1    matthews_coef    roc_auc\n",
      "--  ----------  -----------  ------------------  --------------  -----------  ------------  -----------  --------  -----  ---------------  ---------\n",
      " 0  0.818243              9                   4             158            1             3        0.72      0.411  0.523            0.523      0.701\n",
      " 1  0.00584843            9                   4             187            1             6        0.729     0.42   0.533            0.533      0.705\n",
      " 2  0.50991               9                   4             186            0             5        0.711     0.416  0.525            0.523      0.702\n"
     ]
    }
   ],
   "source": [
    "potential_opt_params = pd.DataFrame(columns = ['gamma', \n",
    "                                              'max_depth', \n",
    "                                              'min_child_weight',\n",
    "                                              'n_estimators', \n",
    "                                              'reg_alpha', \n",
    "                                              'reg_lambda',\n",
    "                                              'precision',\n",
    "                                              'recall',\n",
    "                                              'f1',\n",
    "                                              'matthews_coef',\n",
    "                                              'roc_auc'])\n",
    "\n",
    "row_idx = 0\n",
    "for key in high_roc_scores.keys():\n",
    "    param_dict = high_roc_scores[key]\n",
    "    #print(key)\n",
    "    \n",
    "    temp1 = param_dict[0]\n",
    "    temp2 = param_dict[1]\n",
    "    for param in potential_opt_params.columns:\n",
    "        if param in temp1.keys():\n",
    "            potential_opt_params.at[row_idx, param] = temp1[param]\n",
    "        elif param in temp2.columns:\n",
    "            potential_opt_params.at[row_idx, param] = temp2[param]\n",
    "    \n",
    "    row_idx = row_idx + 1\n",
    "\n",
    "    \n",
    "#sort value isnt working at the moment returns the following error\n",
    "# \n",
    "#The truth value of a Series is ambiguous. Use a.empty, a.bool(), a.item(), a.any() or a.all().\n",
    "\n",
    "#potential_opt_params.sort_values('roc_auc',axis = 0,ascending=False, inplace=True)\n",
    "print(tabulate(potential_opt_params, headers=potential_opt_params.columns))"
   ]
  },
  {
   "cell_type": "code",
   "execution_count": 94,
   "id": "3cf310d2",
   "metadata": {},
   "outputs": [
    {
     "data": {
      "text/plain": [
       "0.8182430734055948"
      ]
     },
     "execution_count": 94,
     "metadata": {},
     "output_type": "execute_result"
    }
   ],
   "source": [
    "#not sortin\n",
    "potential_opt_params.iloc[0]['gamma']"
   ]
  },
  {
   "cell_type": "code",
   "execution_count": 95,
   "id": "53bf158f",
   "metadata": {},
   "outputs": [],
   "source": [
    "clf_optimal2 = XGBClassifier(\n",
    "    objective= 'binary:logistic', \n",
    "    use_label_encoder= False, \n",
    "    base_score= 0.5, \n",
    "    booster= 'gbtree', \n",
    "    colsample_bylevel= 1, \n",
    "    colsample_bynode= 1, \n",
    "    colsample_bytree= 1, \n",
    "    enable_categorical= False, \n",
    "    gamma= potential_opt_params.iloc[0]['gamma'], \n",
    "    gpu_id= -1, \n",
    "    importance_type= None, \n",
    "    interaction_constraints= '', \n",
    "    learning_rate= 0.300000012, \n",
    "    max_delta_step= 0, \n",
    "    max_depth= potential_opt_params.iloc[0]['max_depth'], \n",
    "    min_child_weight= potential_opt_params.iloc[0]['min_child_weight'], \n",
    "   # missing= 'nan', \n",
    "    monotone_constraints= '()',\n",
    "    n_estimators= potential_opt_params.iloc[0]['n_estimators'], \n",
    "    n_jobs= 4, \n",
    "    num_parallel_tree= 1, \n",
    "    predictor= 'auto', \n",
    "    random_state= 0, \n",
    "    reg_alpha= potential_opt_params.iloc[0]['reg_alpha'], \n",
    "    reg_lambda= potential_opt_params.iloc[0]['reg_lambda'], \n",
    "    scale_pos_weight= 1, \n",
    "    subsample= 1, \n",
    "    tree_method= 'exact', \n",
    "    validate_parameters= 1, \n",
    "    verbosity= None, \n",
    "    eval_metric= 'aucpr'\n",
    ")"
   ]
  },
  {
   "cell_type": "code",
   "execution_count": 96,
   "id": "e84cb94c",
   "metadata": {},
   "outputs": [
    {
     "name": "stdout",
     "output_type": "stream",
     "text": [
      "    model                      run_time    avg_accy    avg_recall    avg_precision    avg_f1    avg_matthew_corcoef    avg_roc_auc\n",
      "--  -----------------------  ----------  ----------  ------------  ---------------  --------  ---------------------  -------------\n",
      " 0  Optimized XGBClassifier        1.56     0.93973     0.0793478         0.506111   0.13285               0.175872        0.53696\n"
     ]
    }
   ],
   "source": [
    "\n",
    "start_time = time.time()\n",
    "optimal_model2 = clf_optimal2.fit(X_train,y_train)\n",
    "\n",
    "# set random_state = 42\n",
    "#The idea was, if I have the optimal parameters, then using the same cross-validation state as during my initial testing\n",
    "#should produce far better results.... it didn't   :**(\n",
    "\n",
    "cvs = RepeatedStratifiedKFold(n_splits=10, n_repeats=3, random_state=42)\n",
    "cv_scores2 = cross_validate(optimal_model2, X_test, y_test, cv=cvs, scoring = scorer)\n",
    "y_pred_optimal2 = optimal_model2.predict(X_test)\n",
    "\n",
    "row4 = {'model': ['Optimized XGBClassifier'],\n",
    "       'run_time': [format(round((time.time() - start_time)/60,2))],\n",
    "       'avg_accy': [cv_scores2['test_accuracy_score'].mean()],\n",
    "       #'avg_accy_std': cv_scores2['test_accuracy_score'].std(),\n",
    "       'avg_recall': [cv_scores2['test_recall_score'].mean()],\n",
    "       #'avg_recall_std': cv_scores2['test_recall_score'].std(),\n",
    "       'avg_precision': [cv_scores2['test_precision_score'].mean()],\n",
    "       #'avg_precision_std': cv_scores2['test_precision_score'].std(),\n",
    "       'avg_f1': [cv_scores2['test_f1_score'].mean()],\n",
    "       #'avg_f1_std': cv_scores2['test_f1_score'].std(),\n",
    "       'avg_matthew_corcoef': [cv_scores2['test_matthew_corrcoef'].mean()],\n",
    "       #'avg_matthew_corcoef_std': cv_scores2['test_matthew_corrcoef'].std(),\n",
    "       'avg_roc_auc':[ cv_scores2['test_roc_auc_score'].mean()],\n",
    "       #'avg_roc_auc_std': cv_scores2['test_roc_auc_score'].std(),\n",
    "      }\n",
    " \n",
    "scores4 = pd.DataFrame(row4)\n",
    "print(tabulate(scores4, headers=scores4.columns))\n",
    "#df_models = df_models.append(row, ignore_index=True)"
   ]
  },
  {
   "cell_type": "code",
   "execution_count": 97,
   "id": "b495ffdb",
   "metadata": {},
   "outputs": [
    {
     "name": "stdout",
     "output_type": "stream",
     "text": [
      "    model                     tp    tn    fp    fn    correct    incorrect    accuracy    precision    recall     f1    matthews_coef    roc_auc    avg_pre\n",
      "--  ----------------------  ----  ----  ----  ----  ---------  -----------  ----------  -----------  --------  -----  ---------------  ---------  ---------\n",
      " 0  Optimized XGB-No SMOTE    99  3593    31   132       3692          163       0.958        0.762     0.429  0.548            0.552       0.71      0.361\n"
     ]
    }
   ],
   "source": [
    "tn, fp, fn, tp = metrics.confusion_matrix(y_test, y_pred_optimal2).ravel()\n",
    "accuracy = metrics.accuracy_score(y_test, y_pred_optimal2)\n",
    "precision = metrics.precision_score(y_test, y_pred_optimal2)\n",
    "recall = metrics.recall_score(y_test, y_pred_optimal2)\n",
    "f1 = metrics.f1_score(y_test,y_pred_optimal2)\n",
    "matthew_corrcoef = metrics.matthews_corrcoef(y_test,y_pred_optimal2),\n",
    "roc_auc = metrics.roc_auc_score(y_test,y_pred_optimal2)\n",
    "avg_precision = metrics.average_precision_score(y_test, y_pred_optimal2)\n",
    "\n",
    "row5 = {'model': 'Optimized XGB-No SMOTE',\n",
    "        'tp': [tp],\n",
    "        'tn': [tn],\n",
    "        'fp': [fp],\n",
    "        'fn': [fn],\n",
    "        'correct': [tp+tn],\n",
    "        'incorrect': [fp+fn],\n",
    "        'accuracy': [round(accuracy,3)],\n",
    "        'precision': [round(precision,3)],\n",
    "        'recall': [round(recall,3)],\n",
    "        'f1': [round(f1,3)],\n",
    "        'matthews_coef': [round(matthew_corrcoef[0],3)],\n",
    "        'roc_auc': [round(roc_auc,3)],\n",
    "        'avg_pre': [round(avg_precision,3)],\n",
    "    }\n",
    "\n",
    "scores5 = pd.DataFrame(row3)\n",
    "print(tabulate(scores5, headers=scores5.columns))"
   ]
  },
  {
   "cell_type": "code",
   "execution_count": 98,
   "id": "3c820157",
   "metadata": {},
   "outputs": [
    {
     "data": {
      "text/plain": [
       "Text(0.5, 1.0, 'Precision-Recall curve:')"
      ]
     },
     "execution_count": 98,
     "metadata": {},
     "output_type": "execute_result"
    },
    {
     "data": {
      "image/png": "[encoded data removed]",
      "text/plain": [
       "<Figure size 1080x504 with 3 Axes>"
      ]
     },
     "metadata": {
      "needs_background": "light"
     },
     "output_type": "display_data"
    }
   ],
   "source": [
    "precision_opt2, recall_opt2, thresholds = metrics.precision_recall_curve(y_test, y_pred_optimal2)\n",
    "\n",
    "#this code plots the confusion matrix of our niave implementation of a decision tree\n",
    "fig, (ax1, ax2) = plt.subplots(1, 2, figsize=(15, 7))\n",
    "fig.tight_layout(pad=5.0)\n",
    "metrics.plot_confusion_matrix(optimal_model2, X_test, y_test, display_labels=[\"Not Fraudulent Claim\", \"Fraudulent Claim\"], ax=ax1)\n",
    "tn, fp, fn, tp = metrics.confusion_matrix(y_test, y_pred_optimal2).ravel()\n",
    "\n",
    "ax2.step(recall_opt2, precision_opt2, color='b', alpha=0.2, where='post')\n",
    "ax2.fill_between(recall_opt2, precision_opt2, step='post', alpha=0.2, color='b')\n",
    "ax2.set_xlabel('Recall')\n",
    "ax2.set_ylabel('Precision')\n",
    "ax2.set_ylim([0.0, 1.05])\n",
    "ax2.set_xlim([-0.005, 1.0])\n",
    "ax2.set_title('Precision-Recall curve:')"
   ]
  },
  {
   "cell_type": "code",
   "execution_count": 99,
   "id": "086f4f3e",
   "metadata": {},
   "outputs": [
    {
     "data": {
      "text/plain": [
       "<AxesSubplot:title={'center':'Feature importance'}, xlabel='F score', ylabel='Features'>"
      ]
     },
     "execution_count": 99,
     "metadata": {},
     "output_type": "execute_result"
    },
    {
     "data": {
      "image/png": "[encoded data removed]",
      "text/plain": [
       "<Figure size 432x288 with 1 Axes>"
      ]
     },
     "metadata": {
      "needs_background": "light"
     },
     "output_type": "display_data"
    }
   ],
   "source": [
    "plot_importance(optimal_model2, max_num_features=15)\n",
    "\n"
   ]
  }
 ],
 "metadata": {
  "interpreter": {
   "hash": "d66d47f7fdb112b631829bf0277280ed9e8594a0f1f8503408b0755b6158968e"
  },
  "kernelspec": {
   "display_name": "Python 3 (ipykernel)",
   "language": "python",
   "name": "python3"
  },
  "language_info": {
   "codemirror_mode": {
    "name": "ipython",
    "version": 3
   },
   "file_extension": ".py",
   "mimetype": "text/x-python",
   "name": "python",
   "nbconvert_exporter": "python",
   "pygments_lexer": "ipython3",
   "version": "3.10.6"
  },
  "widgets": {
   "application/vnd.jupyter.widget-state+json": {
    "state": {},
    "version_major": 2,
    "version_minor": 0
   }
  }
 },
 "nbformat": 4,
 "nbformat_minor": 5
}
